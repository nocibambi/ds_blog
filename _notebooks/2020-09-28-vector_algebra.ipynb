{
 "metadata": {
  "language_info": {
   "codemirror_mode": {
    "name": "ipython",
    "version": 3
   },
   "file_extension": ".py",
   "mimetype": "text/x-python",
   "name": "python",
   "nbconvert_exporter": "python",
   "pygments_lexer": "ipython3",
   "version": "3.8.5-final"
  },
  "orig_nbformat": 2,
  "kernelspec": {
   "name": "Python 3.8.5 64-bit ('bigquery': conda)",
   "display_name": "Python 3.8.5 64-bit ('bigquery': conda)",
   "metadata": {
    "interpreter": {
     "hash": "8e6f8fd53d913fe50345f9e659ed342277121f637d2311273da0eef260503de3"
    }
   }
  }
 },
 "nbformat": 4,
 "nbformat_minor": 2,
 "cells": [
  {
   "source": [
    "# Vector Algebra \"from scratch\" with type annotations"
   ],
   "cell_type": "markdown",
   "metadata": {}
  },
  {
   "source": [
    "I looked into Joel Grus' [Data science from Scratch](https://www.oreilly.com/library/view/data-science-from/9781492041122/) and found his approach really nice as he actively uses type annotations and assertions in his fuctions.\n",
    "\n",
    "So, below I practice vector operation functions from the book."
   ],
   "cell_type": "markdown",
   "metadata": {}
  },
  {
   "source": [
    "from typing import List\n",
    "Vector = List[float]\n",
    "Vector"
   ],
   "cell_type": "code",
   "metadata": {},
   "execution_count": 1,
   "outputs": [
    {
     "output_type": "execute_result",
     "data": {
      "text/plain": "typing.List[float]"
     },
     "metadata": {},
     "execution_count": 1
    }
   ]
  },
  {
   "source": [
    "## Vector addition and subtraction"
   ],
   "cell_type": "markdown",
   "metadata": {}
  },
  {
   "source": [
    "$ \\vec{v} + \\vec{w} = \\begin{bmatrix} v_1 + w_1 \\\\ \\ldots \\\\ v_n + w_n  \\end{bmatrix} $"
   ],
   "cell_type": "markdown",
   "metadata": {}
  },
  {
   "cell_type": "code",
   "execution_count": 2,
   "metadata": {},
   "outputs": [],
   "source": [
    "def add(vector1: Vector, vector2: Vector) -> Vector:\n",
    "    assert len(vector1) == len(vector2)\n",
    "    return [v1 + v2 for v1, v2 in zip(vector1, vector2)]\n",
    "\n",
    "assert add([1, 2, 3], [4, 5, 6]) == [5, 7, 9]"
   ]
  },
  {
   "source": [
    "$ \\vec{w} - \\vec{v} = \\begin{bmatrix} w_1 - v_1 \\\\ \\ldots \\\\ w_n - v_n \\end{bmatrix} $"
   ],
   "cell_type": "markdown",
   "metadata": {}
  },
  {
   "cell_type": "code",
   "execution_count": 3,
   "metadata": {},
   "outputs": [],
   "source": [
    "def subtract(vector1: Vector, vector2:Vector) -> Vector:\n",
    "    assert len(vector1) == len(vector2)\n",
    "    return [v1 - v2 for v1, v2 in zip(vector1, vector2)]\n",
    "\n",
    "assert subtract([1, 2, 3], [4, 5, 6]) == [-3, -3, -3]"
   ]
  },
  {
   "source": [
    "## Vector sum"
   ],
   "cell_type": "markdown",
   "metadata": {}
  },
  {
   "source": [
    "$ \\vec{v} + \\ldots + \\vec{w} = \\begin{bmatrix} v_1 + \\ldots + w_1 \\\\ \\ldots \\\\ v_n + \\ldots + w_n  \\end{bmatrix} $"
   ],
   "cell_type": "markdown",
   "metadata": {}
  },
  {
   "cell_type": "code",
   "execution_count": 4,
   "metadata": {},
   "outputs": [],
   "source": [
    "def vector_sum(vectors: List[Vector]) -> Vector:\n",
    "    assert vectors\n",
    "    \n",
    "    vector_length = len(vectors[0])\n",
    "    assert all(len(v) == vector_length for v in vectors)\n",
    "\n",
    "    sums = [0] * vector_length\n",
    "    for vector in vectors:\n",
    "        sums = add(sums, vector)\n",
    "\n",
    "    return sums\n",
    "\n",
    "assert vector_sum([[1, 2, 3], [4, 5, 6], [7, 8, 9]]) == [12, 15, 18]    "
   ]
  },
  {
   "source": [
    "## Scalar multiplication"
   ],
   "cell_type": "markdown",
   "metadata": {}
  },
  {
   "source": [
    "$ c \\cdot \\vec{v} = \\begin{bmatrix} c \\cdot v_0 \\\\ \\ldots \\\\ c \\cdot v_n  \\end{bmatrix} $"
   ],
   "cell_type": "markdown",
   "metadata": {}
  },
  {
   "cell_type": "code",
   "execution_count": 5,
   "metadata": {},
   "outputs": [],
   "source": [
    "def scalar_multiply(c: float, vector: Vector) -> Vector:\n",
    "    return [c * v for v in vector]\n",
    "\n",
    "assert scalar_multiply(4, [1, 2, 3]) == [4, 8, 12]"
   ]
  },
  {
   "source": [
    "## Vector mean"
   ],
   "cell_type": "markdown",
   "metadata": {}
  },
  {
   "source": [
    "$ \\text{vector mean}(\\vec{w}, \\ldots, \\vec{v}) = \\begin{bmatrix} \\frac {v_1 + \\ldots + w_1}{n} \\\\ \\ldots \\\\ \\frac{v_n + \\ldots + w_n} {n}  \\end{bmatrix} $"
   ],
   "cell_type": "markdown",
   "metadata": {}
  },
  {
   "cell_type": "code",
   "execution_count": 6,
   "metadata": {},
   "outputs": [],
   "source": [
    "def vector_mean(vectors: List[Vector]) -> Vector:\n",
    "    n = len(vectors)\n",
    "    return scalar_multiply(1/n, vector_sum(vectors))\n",
    "\n",
    "assert vector_mean([[1, 2], [3, 4], [5, 6]]) == [3, 4]"
   ]
  },
  {
   "source": [
    "## Dot product"
   ],
   "cell_type": "markdown",
   "metadata": {}
  },
  {
   "source": [
    "$ \\vec{v} \\cdot  \\vec{w} = \\sum_{i=1}^{n} v_1 w_1 + \\ldots + v_n w_n $"
   ],
   "cell_type": "markdown",
   "metadata": {}
  },
  {
   "cell_type": "code",
   "execution_count": 7,
   "metadata": {},
   "outputs": [],
   "source": [
    "def dot(vector1: Vector, vector2: Vector) -> float:\n",
    "    assert len(vector1) == len(vector2)\n",
    "\n",
    "    return sum(v1 * v2 for v1, v2 in zip(vector1, vector2))\n",
    "\n",
    "\n",
    "assert dot([1, 2, 3], [4, 5, 6]) == 32"
   ]
  },
  {
   "source": [
    "## Vector sum of squares"
   ],
   "cell_type": "markdown",
   "metadata": {}
  },
  {
   "source": [
    "$ \\vec{v} \\cdot \\vec{v} = \\sum_{i=1}^n v_1^2 + \\ldots + v_n^2 $"
   ],
   "cell_type": "markdown",
   "metadata": {}
  },
  {
   "cell_type": "code",
   "execution_count": 8,
   "metadata": {},
   "outputs": [],
   "source": [
    "def sum_of_squares(v: Vector) -> Vector:\n",
    "    return dot(v, v)\n",
    "\n",
    "assert sum_of_squares([1, 2, 3]) == 14"
   ]
  },
  {
   "source": [
    "## Magnitude\n",
    "\n",
    "$ || \\vec{v} || = \\sqrt {v_1^2 + \\ldots + v_n^2}  $"
   ],
   "cell_type": "markdown",
   "metadata": {}
  },
  {
   "cell_type": "code",
   "execution_count": 9,
   "metadata": {},
   "outputs": [],
   "source": [
    "import math as m\n",
    "\n",
    "def magnitude(v: Vector) -> Vector:\n",
    "    return m.sqrt(sum_of_squares(v))\n",
    "\n",
    "assert magnitude([1, 2, 3]) == m.sqrt(14)"
   ]
  },
  {
   "source": [
    "## Distance of two vectors"
   ],
   "cell_type": "markdown",
   "metadata": {}
  },
  {
   "source": [
    "$ d = \\sqrt { (v_1 - w_1)^2 + \\ldots + (v_n - w_n)^2 } $"
   ],
   "cell_type": "markdown",
   "metadata": {}
  },
  {
   "cell_type": "code",
   "execution_count": 10,
   "metadata": {},
   "outputs": [],
   "source": [
    "def distance(vector1: Vector, vector2: Vector) -> Vector:\n",
    "    return magnitude(subtract(vector1, vector2))"
   ]
  }
 ]
}