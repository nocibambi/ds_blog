{
 "metadata": {
  "language_info": {
   "codemirror_mode": {
    "name": "ipython",
    "version": 3
   },
   "file_extension": ".py",
   "mimetype": "text/x-python",
   "name": "python",
   "nbconvert_exporter": "python",
   "pygments_lexer": "ipython3",
   "version": 3
  },
  "orig_nbformat": 2
 },
 "nbformat": 4,
 "nbformat_minor": 2,
 "cells": [
  {
   "source": [
    "# Querying InfluxDB with Flux"
   ],
   "cell_type": "markdown",
   "metadata": {}
  },
  {
   "source": [
    "Flux is a functional data scripting language designed specifically for time series data exploration and data processing with InfluxDB."
   ],
   "cell_type": "markdown",
   "metadata": {}
  },
  {
   "source": [
    "## Key concepts\n",
    "\n",
    "- pipe-forward operator: `|>`: chain operators together by passing a table to the next step\n",
    "- tables: flux formats data as annotated CSV\n",
    "- table group key: describe the table's contents as a list of those columns with non-unique values"
   ],
   "cell_type": "markdown",
   "metadata": {}
  },
  {
   "source": [
    "## Example query\n",
    "\n",
    "- Queries data from the `example-bucket` bucket\n",
    "- Returns minute average cpu usage (based on tags) from the last hour\n",
    "\n",
    "```flux\n",
    "from(bucket:\"example-bucket\")\n",
    "  |> range(start:-1h)\n",
    "  |> filter(fn:(r)) =>\n",
    "    r._measurement == \"cpu\" and\n",
    "    r.cpu == \"cpu-total\"\n",
    "  )\n",
    "  |> aggregateWindow(every: 1m, fn:mean)\n",
    "  |> yield()\n",
    "```"
   ],
   "cell_type": "markdown",
   "metadata": {}
  },
  {
   "source": [
    "## Elements of a Flux query\n",
    "\n",
    "Every flux query requires at least the following parameters\n",
    "\n",
    "- data source: `from(bucket:\"bucket-name\")`\n",
    "- time range: `|> range(start: starting timestamp/time preceding \"now\", stop: end time preceding \"now\")`\n",
    "    - timestamp: `2018-11-05T23:30:00Z`\n",
    "    - duration preceding now: `-15m` (always negative)\n",
    "- filter:\n",
    "    - `filter(fn(r))`, the only parameter is `fn` which expects an anonymous function (here `r`)\n",
    "    - `r`: reports or rows\n",
    "    - chain operators with `and`\n",
    "- result output: `yield()` (Flux automatically assumes this, `yield()` is necessary only to return the results of multiple queries when it also need to name the output tables)"
   ],
   "cell_type": "markdown",
   "metadata": {}
  },
  {
   "source": [
    "## Exploring data with InfluxDB UI's Data Explorer\n",
    "\n",
    "The most straightforward way to explore InfluxDB is to use the UI's Data Explorer\n",
    "\n",
    "Here we use flux scripting together with the interactive UI.\n",
    "\n",
    "\n",
    "In the following flux query, we do not pass all the parameters manually but allow the use the UI to set them dynamically:\n",
    "\n",
    "- `|> range(start: v.timeRangeStart, stop: v.timeRangeStop)`: here `v.timeRangeStart` and `v.timeRangeStop` are set with time range selector dropdown and the on the graph (with the mouse)\n",
    "- `|> aggregateWindow(every: v.windowPeriod, fn: mean, createEmpty: false)`: we define the window with `v.windowPeriod`\n",
    "\n",
    "\n",
    "\n",
    "```\n",
    "from(bucket: \"trial_bucket\")\n",
    "  |> range(start: v.timeRangeStart, stop: v.timeRangeStop)\n",
    "  |> filter(fn: (r) => r[\"_measurement\"] == \"boltdb_reads_total\")\n",
    "  |> aggregateWindow(every: v.windowPeriod, fn: mean, createEmpty: false)\n",
    "```"
   ],
   "cell_type": "markdown",
   "metadata": {}
  }
 ]
}