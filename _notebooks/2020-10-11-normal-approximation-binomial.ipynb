{
 "metadata": {
  "language_info": {
   "codemirror_mode": {
    "name": "ipython",
    "version": 3
   },
   "file_extension": ".py",
   "mimetype": "text/x-python",
   "name": "python",
   "nbconvert_exporter": "python",
   "pygments_lexer": "ipython3",
   "version": "3.8.5-final"
  },
  "orig_nbformat": 2,
  "kernelspec": {
   "name": "Python 3.8.5 64-bit ('streamlit': conda)",
   "display_name": "Python 3.8.5 64-bit ('streamlit': conda)",
   "metadata": {
    "interpreter": {
     "hash": "d5b47a323bfc67f94a37e7cb8fd52db1ad06cc55d227a5b8c375f2f5af6e26dc"
    }
   }
  }
 },
 "nbformat": 4,
 "nbformat_minor": 2,
 "cells": [
  {
   "source": [
    "# Normal approximation of binomial distribution"
   ],
   "cell_type": "markdown",
   "metadata": {}
  },
  {
   "cell_type": "code",
   "execution_count": 3,
   "metadata": {},
   "outputs": [],
   "source": [
    "from typing import Tuple\n",
    "import math as m"
   ]
  },
  {
   "cell_type": "code",
   "execution_count": 4,
   "metadata": {},
   "outputs": [],
   "source": [
    "def normal_approximation_to_binomial(n: int, p: float) -> Tuple[float, float]:\n",
    "    mu = p * n\n",
    "    sigma = m.sqrt(p * (1 - p) * n)\n",
    "\n",
    "    return mu, sigma"
   ]
  },
  {
   "source": [
    "The change of standard deviation with the incrase of number of trials."
   ],
   "cell_type": "markdown",
   "metadata": {}
  },
  {
   "cell_type": "code",
   "execution_count": 5,
   "metadata": {},
   "outputs": [
    {
     "output_type": "stream",
     "name": "stdout",
     "text": [
      "0 (0.5, 0.5)\n1 (5.0, 1.5811388300841898)\n2 (50.0, 5.0)\n3 (500.0, 15.811388300841896)\n4 (5000.0, 50.0)\n5 (50000.0, 158.11388300841898)\n6 (500000.0, 500.0)\n7 (5000000.0, 1581.1388300841897)\n8 (50000000.0, 5000.0)\n9 (500000000.0, 15811.388300841896)\n"
     ]
    }
   ],
   "source": [
    "for i in range(10):\n",
    "    print(i, normal_approximation_to_binomial(10**i, 0.5))"
   ]
  }
 ]
}