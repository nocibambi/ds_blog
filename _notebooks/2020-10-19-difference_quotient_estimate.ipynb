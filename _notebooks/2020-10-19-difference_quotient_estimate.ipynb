{
 "metadata": {
  "language_info": {
   "codemirror_mode": {
    "name": "ipython",
    "version": 3
   },
   "file_extension": ".py",
   "mimetype": "text/x-python",
   "name": "python",
   "nbconvert_exporter": "python",
   "pygments_lexer": "ipython3",
   "version": "3.7.9-final"
  },
  "orig_nbformat": 2,
  "kernelspec": {
   "name": "Python 3.7.9 64-bit ('blog': conda)",
   "display_name": "Python 3.7.9 64-bit ('blog': conda)",
   "metadata": {
    "interpreter": {
     "hash": "a791f4b9424e3975ed64217961a14e58af61de2cbd0b16cd6f0b3a8e9eaf4389"
    }
   }
  }
 },
 "nbformat": 4,
 "nbformat_minor": 2,
 "cells": [
  {
   "source": [
    "# Difference quotients from scratch with Python"
   ],
   "cell_type": "markdown",
   "metadata": {}
  },
  {
   "source": [
    "\n",
    "\n",
    "From the [Data Science from Scratch book](https://www.oreilly.com/library/view/data-science-from/9781492041122/)."
   ],
   "cell_type": "markdown",
   "metadata": {}
  },
  {
   "source": [
    "## Libraries and helper functions"
   ],
   "cell_type": "markdown",
   "metadata": {}
  },
  {
   "cell_type": "code",
   "execution_count": 15,
   "metadata": {},
   "outputs": [],
   "source": [
    "import pandas as pd\n",
    "import altair as alt"
   ]
  },
  {
   "cell_type": "code",
   "execution_count": 16,
   "metadata": {},
   "outputs": [
    {
     "output_type": "execute_result",
     "data": {
      "text/plain": [
       "typing.List[float]"
      ]
     },
     "metadata": {},
     "execution_count": 16
    }
   ],
   "source": [
    "from typing import List\n",
    "Vector = List[float]\n",
    "Vector"
   ]
  },
  {
   "cell_type": "code",
   "execution_count": 17,
   "metadata": {},
   "outputs": [],
   "source": [
    "def dot(vector1: Vector, vector2: Vector) -> float:\n",
    "    assert len(vector1) == len(vector2)\n",
    "\n",
    "    return sum(v1 * v2 for v1, v2 in zip(vector1, vector2))\n",
    "\n",
    "\n",
    "assert dot([1, 2, 3], [4, 5, 6]) == 32"
   ]
  },
  {
   "cell_type": "code",
   "execution_count": 18,
   "metadata": {},
   "outputs": [],
   "source": [
    "def sum_of_squares(v: Vector) -> Vector:\n",
    "    return dot(v, v)\n",
    "\n",
    "assert sum_of_squares([1, 2, 3]) == 14"
   ]
  },
  {
   "source": [
    "## Difference quotient"
   ],
   "cell_type": "markdown",
   "metadata": {}
  },
  {
   "cell_type": "code",
   "execution_count": 19,
   "metadata": {},
   "outputs": [],
   "source": [
    "from typing import Callable\n",
    "\n",
    "def difference_quotient(\n",
    "    f: Callable[[float], float],\n",
    "    x: float,\n",
    "    h: float\n",
    ") -> float :\n",
    "    return (f(x + h) - f(x)) / h\n"
   ]
  },
  {
   "source": [
    "## A simple estimate"
   ],
   "cell_type": "markdown",
   "metadata": {}
  },
  {
   "cell_type": "code",
   "execution_count": 20,
   "metadata": {},
   "outputs": [],
   "source": [
    "def square(x: float) -> float:\n",
    "    return x * x"
   ]
  },
  {
   "cell_type": "code",
   "execution_count": 21,
   "metadata": {},
   "outputs": [],
   "source": [
    "def derivative_x2(x: float) -> float:\n",
    "    return 2 * x"
   ]
  },
  {
   "cell_type": "code",
   "execution_count": 22,
   "metadata": {},
   "outputs": [
    {
     "output_type": "execute_result",
     "data": {
      "text/plain": [
       "[-20,\n",
       " -18,\n",
       " -16,\n",
       " -14,\n",
       " -12,\n",
       " -10,\n",
       " -8,\n",
       " -6,\n",
       " -4,\n",
       " -2,\n",
       " 0,\n",
       " 2,\n",
       " 4,\n",
       " 6,\n",
       " 8,\n",
       " 10,\n",
       " 12,\n",
       " 14,\n",
       " 16,\n",
       " 18,\n",
       " 20]"
      ]
     },
     "metadata": {},
     "execution_count": 22
    }
   ],
   "source": [
    "xs = range(-10, 11)\n",
    "actuals = [derivative_x2(x) for x in xs]\n",
    "actuals"
   ]
  },
  {
   "cell_type": "code",
   "execution_count": 23,
   "metadata": {},
   "outputs": [
    {
     "output_type": "execute_result",
     "data": {
      "text/plain": [
       "[-19.998999999984335,\n",
       " -17.998999999988996,\n",
       " -15.999000000007868,\n",
       " -13.999000000005424,\n",
       " -11.99900000000298,\n",
       " -9.999000000004088,\n",
       " -7.998999999999867,\n",
       " -5.998999999999199,\n",
       " -3.9989999999994197,\n",
       " -1.998999999999973,\n",
       " 0.001,\n",
       " 2.0009999999996975,\n",
       " 4.000999999999699,\n",
       " 6.000999999999479,\n",
       " 8.0010000000037,\n",
       " 10.001000000002591,\n",
       " 12.001000000005035,\n",
       " 14.00100000000748,\n",
       " 16.000999999988608,\n",
       " 18.000999999983947,\n",
       " 20.000999999993496]"
      ]
     },
     "metadata": {},
     "execution_count": 23
    }
   ],
   "source": [
    "estimates = [difference_quotient(square, x, h=0.001) for x in xs]\n",
    "estimates"
   ]
  },
  {
   "cell_type": "code",
   "execution_count": 24,
   "metadata": {},
   "outputs": [
    {
     "output_type": "execute_result",
     "data": {
      "text/plain": [
       "    index   variable   value\n",
       "34     13  estimates   6.001\n",
       "12     12    actuals   4.000\n",
       "29      8  estimates  -3.999\n",
       "37     16  estimates  12.001\n",
       "28      7  estimates  -5.999\n",
       "41     20  estimates  20.001\n",
       "25      4  estimates -11.999\n",
       "22      1  estimates -17.999\n",
       "11     11    actuals   2.000\n",
       "32     11  estimates   2.001"
      ],
      "text/html": "<div>\n<style scoped>\n    .dataframe tbody tr th:only-of-type {\n        vertical-align: middle;\n    }\n\n    .dataframe tbody tr th {\n        vertical-align: top;\n    }\n\n    .dataframe thead th {\n        text-align: right;\n    }\n</style>\n<table border=\"1\" class=\"dataframe\">\n  <thead>\n    <tr style=\"text-align: right;\">\n      <th></th>\n      <th>index</th>\n      <th>variable</th>\n      <th>value</th>\n    </tr>\n  </thead>\n  <tbody>\n    <tr>\n      <th>34</th>\n      <td>13</td>\n      <td>estimates</td>\n      <td>6.001</td>\n    </tr>\n    <tr>\n      <th>12</th>\n      <td>12</td>\n      <td>actuals</td>\n      <td>4.000</td>\n    </tr>\n    <tr>\n      <th>29</th>\n      <td>8</td>\n      <td>estimates</td>\n      <td>-3.999</td>\n    </tr>\n    <tr>\n      <th>37</th>\n      <td>16</td>\n      <td>estimates</td>\n      <td>12.001</td>\n    </tr>\n    <tr>\n      <th>28</th>\n      <td>7</td>\n      <td>estimates</td>\n      <td>-5.999</td>\n    </tr>\n    <tr>\n      <th>41</th>\n      <td>20</td>\n      <td>estimates</td>\n      <td>20.001</td>\n    </tr>\n    <tr>\n      <th>25</th>\n      <td>4</td>\n      <td>estimates</td>\n      <td>-11.999</td>\n    </tr>\n    <tr>\n      <th>22</th>\n      <td>1</td>\n      <td>estimates</td>\n      <td>-17.999</td>\n    </tr>\n    <tr>\n      <th>11</th>\n      <td>11</td>\n      <td>actuals</td>\n      <td>2.000</td>\n    </tr>\n    <tr>\n      <th>32</th>\n      <td>11</td>\n      <td>estimates</td>\n      <td>2.001</td>\n    </tr>\n  </tbody>\n</table>\n</div>"
     },
     "metadata": {},
     "execution_count": 24
    }
   ],
   "source": [
    "df = pd.DataFrame({'actuals': actuals, 'estimates': estimates}).reset_index()\n",
    "df = df.melt(id_vars='index')\n",
    "df.sample(10)"
   ]
  },
  {
   "cell_type": "code",
   "execution_count": 25,
   "metadata": {},
   "outputs": [
    {
     "output_type": "execute_result",
     "data": {
      "text/html": "\n<div id=\"altair-viz-20846e15abd843719350318ff226b5e2\"></div>\n<script type=\"text/javascript\">\n  (function(spec, embedOpt){\n    let outputDiv = document.currentScript.previousElementSibling;\n    if (outputDiv.id !== \"altair-viz-20846e15abd843719350318ff226b5e2\") {\n      outputDiv = document.getElementById(\"altair-viz-20846e15abd843719350318ff226b5e2\");\n    }\n    const paths = {\n      \"vega\": \"https://cdn.jsdelivr.net/npm//vega@5?noext\",\n      \"vega-lib\": \"https://cdn.jsdelivr.net/npm//vega-lib?noext\",\n      \"vega-lite\": \"https://cdn.jsdelivr.net/npm//vega-lite@4.8.1?noext\",\n      \"vega-embed\": \"https://cdn.jsdelivr.net/npm//vega-embed@6?noext\",\n    };\n\n    function loadScript(lib) {\n      return new Promise(function(resolve, reject) {\n        var s = document.createElement('script');\n        s.src = paths[lib];\n        s.async = true;\n        s.onload = () => resolve(paths[lib]);\n        s.onerror = () => reject(`Error loading script: ${paths[lib]}`);\n        document.getElementsByTagName(\"head\")[0].appendChild(s);\n      });\n    }\n\n    function showError(err) {\n      outputDiv.innerHTML = `<div class=\"error\" style=\"color:red;\">${err}</div>`;\n      throw err;\n    }\n\n    function displayChart(vegaEmbed) {\n      vegaEmbed(outputDiv, spec, embedOpt)\n        .catch(err => showError(`Javascript Error: ${err.message}<br>This usually means there's a typo in your chart specification. See the javascript console for the full traceback.`));\n    }\n\n    if(typeof define === \"function\" && define.amd) {\n      requirejs.config({paths});\n      require([\"vega-embed\"], displayChart, err => showError(`Error loading script: ${err.message}`));\n    } else if (typeof vegaEmbed === \"function\") {\n      displayChart(vegaEmbed);\n    } else {\n      loadScript(\"vega\")\n        .then(() => loadScript(\"vega-lite\"))\n        .then(() => loadScript(\"vega-embed\"))\n        .catch(showError)\n        .then(() => displayChart(vegaEmbed));\n    }\n  })({\"config\": {\"view\": {\"continuousWidth\": 400, \"continuousHeight\": 300}}, \"data\": {\"name\": \"data-fdae0c35edaacfa10b8ea30386c420e1\"}, \"mark\": {\"type\": \"circle\", \"opacity\": 0.75}, \"encoding\": {\"color\": {\"type\": \"nominal\", \"field\": \"variable\"}, \"size\": {\"type\": \"nominal\", \"field\": \"variable\"}, \"x\": {\"type\": \"quantitative\", \"field\": \"index\"}, \"y\": {\"type\": \"quantitative\", \"field\": \"value\"}}, \"title\": \"Actual derivatives and estimated quotients\", \"$schema\": \"https://vega.github.io/schema/vega-lite/v4.8.1.json\", \"datasets\": {\"data-fdae0c35edaacfa10b8ea30386c420e1\": [{\"index\": 0, \"variable\": \"actuals\", \"value\": -20.0}, {\"index\": 1, \"variable\": \"actuals\", \"value\": -18.0}, {\"index\": 2, \"variable\": \"actuals\", \"value\": -16.0}, {\"index\": 3, \"variable\": \"actuals\", \"value\": -14.0}, {\"index\": 4, \"variable\": \"actuals\", \"value\": -12.0}, {\"index\": 5, \"variable\": \"actuals\", \"value\": -10.0}, {\"index\": 6, \"variable\": \"actuals\", \"value\": -8.0}, {\"index\": 7, \"variable\": \"actuals\", \"value\": -6.0}, {\"index\": 8, \"variable\": \"actuals\", \"value\": -4.0}, {\"index\": 9, \"variable\": \"actuals\", \"value\": -2.0}, {\"index\": 10, \"variable\": \"actuals\", \"value\": 0.0}, {\"index\": 11, \"variable\": \"actuals\", \"value\": 2.0}, {\"index\": 12, \"variable\": \"actuals\", \"value\": 4.0}, {\"index\": 13, \"variable\": \"actuals\", \"value\": 6.0}, {\"index\": 14, \"variable\": \"actuals\", \"value\": 8.0}, {\"index\": 15, \"variable\": \"actuals\", \"value\": 10.0}, {\"index\": 16, \"variable\": \"actuals\", \"value\": 12.0}, {\"index\": 17, \"variable\": \"actuals\", \"value\": 14.0}, {\"index\": 18, \"variable\": \"actuals\", \"value\": 16.0}, {\"index\": 19, \"variable\": \"actuals\", \"value\": 18.0}, {\"index\": 20, \"variable\": \"actuals\", \"value\": 20.0}, {\"index\": 0, \"variable\": \"estimates\", \"value\": -19.998999999984335}, {\"index\": 1, \"variable\": \"estimates\", \"value\": -17.998999999988996}, {\"index\": 2, \"variable\": \"estimates\", \"value\": -15.999000000007868}, {\"index\": 3, \"variable\": \"estimates\", \"value\": -13.999000000005424}, {\"index\": 4, \"variable\": \"estimates\", \"value\": -11.99900000000298}, {\"index\": 5, \"variable\": \"estimates\", \"value\": -9.999000000004088}, {\"index\": 6, \"variable\": \"estimates\", \"value\": -7.998999999999867}, {\"index\": 7, \"variable\": \"estimates\", \"value\": -5.998999999999199}, {\"index\": 8, \"variable\": \"estimates\", \"value\": -3.9989999999994197}, {\"index\": 9, \"variable\": \"estimates\", \"value\": -1.998999999999973}, {\"index\": 10, \"variable\": \"estimates\", \"value\": 0.001}, {\"index\": 11, \"variable\": \"estimates\", \"value\": 2.0009999999996975}, {\"index\": 12, \"variable\": \"estimates\", \"value\": 4.000999999999699}, {\"index\": 13, \"variable\": \"estimates\", \"value\": 6.000999999999479}, {\"index\": 14, \"variable\": \"estimates\", \"value\": 8.0010000000037}, {\"index\": 15, \"variable\": \"estimates\", \"value\": 10.001000000002591}, {\"index\": 16, \"variable\": \"estimates\", \"value\": 12.001000000005035}, {\"index\": 17, \"variable\": \"estimates\", \"value\": 14.00100000000748}, {\"index\": 18, \"variable\": \"estimates\", \"value\": 16.000999999988608}, {\"index\": 19, \"variable\": \"estimates\", \"value\": 18.000999999983947}, {\"index\": 20, \"variable\": \"estimates\", \"value\": 20.000999999993496}]}}, {\"mode\": \"vega-lite\"});\n</script>",
      "text/plain": [
       "alt.Chart(...)"
      ]
     },
     "metadata": {},
     "execution_count": 25
    }
   ],
   "source": [
    "alt.Chart(df).mark_circle(opacity=0.75).encode(\n",
    "    alt.X('index:Q'),\n",
    "    alt.Y('value:Q'),\n",
    "    alt.Size('variable:N'),\n",
    "    alt.Color('variable:N')\n",
    ").properties(title='Actual derivatives and estimated quotients')"
   ]
  },
  {
   "source": [
    "## Calculating an i-th difference quotient"
   ],
   "cell_type": "markdown",
   "metadata": {}
  },
  {
   "cell_type": "code",
   "execution_count": 26,
   "metadata": {},
   "outputs": [],
   "source": [
    "def partial_difference_quotient(\n",
    "    f: Callable[[Vector], float],\n",
    "    v: Vector,\n",
    "    i: int,\n",
    "    h: float\n",
    ") -> float:\n",
    "    \"\"\"Return i-th parital difference quotient of `f` at a`v`\"\"\"\n",
    "    w = [\n",
    "        v_j + (h if j == i else 0)\n",
    "        for j, v_j in enumerate(v)\n",
    "    ]\n",
    "\n",
    "    return (f(w) - f(v)) / h"
   ]
  },
  {
   "cell_type": "code",
   "execution_count": 27,
   "metadata": {},
   "outputs": [],
   "source": [
    "def estimate_gradient(\n",
    "    f: Callable[[Vector], float],\n",
    "    v: Vector,\n",
    "    h: float = 0.0001\n",
    "):\n",
    "    return [\n",
    "        partial_difference_quotient(f, v, i, h)\n",
    "        for i in range(len(v))\n",
    "    ]"
   ]
  }
 ]
}