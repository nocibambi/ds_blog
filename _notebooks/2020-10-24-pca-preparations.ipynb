{
 "metadata": {
  "language_info": {
   "codemirror_mode": {
    "name": "ipython",
    "version": 3
   },
   "file_extension": ".py",
   "mimetype": "text/x-python",
   "name": "python",
   "nbconvert_exporter": "python",
   "pygments_lexer": "ipython3",
   "version": "3.7.9-final"
  },
  "orig_nbformat": 2,
  "kernelspec": {
   "name": "Python 3.7.9 64-bit ('blog': conda)",
   "display_name": "Python 3.7.9 64-bit ('blog': conda)",
   "metadata": {
    "interpreter": {
     "hash": "a791f4b9424e3975ed64217961a14e58af61de2cbd0b16cd6f0b3a8e9eaf4389"
    }
   }
  }
 },
 "nbformat": 4,
 "nbformat_minor": 2,
 "cells": [
  {
   "source": [
    "# Principal Component Analysis from scatch - preparations"
   ],
   "cell_type": "markdown",
   "metadata": {}
  },
  {
   "source": [
    "From the [Data Science from Scratch book](https://www.oreilly.com/library/view/data-science-from/9781492041122/)."
   ],
   "cell_type": "markdown",
   "metadata": {}
  },
  {
   "source": [
    "## Libraries and helper functions"
   ],
   "cell_type": "markdown",
   "metadata": {}
  },
  {
   "cell_type": "code",
   "execution_count": 1,
   "metadata": {},
   "outputs": [],
   "source": [
    "import math as m\n",
    "import random\n",
    "import pandas as pd\n",
    "import numpy as np\n",
    "\n",
    "import altair as alt"
   ]
  },
  {
   "cell_type": "code",
   "execution_count": 2,
   "metadata": {},
   "outputs": [],
   "source": [
    "from typing import List\n",
    "Vector = List[float]"
   ]
  },
  {
   "cell_type": "code",
   "execution_count": 3,
   "metadata": {},
   "outputs": [],
   "source": [
    "def add(vector1: Vector, vector2: Vector) -> Vector:\n",
    "    assert len(vector1) == len(vector2)\n",
    "    return [v1 + v2 for v1, v2 in zip(vector1, vector2)]"
   ]
  },
  {
   "cell_type": "code",
   "execution_count": 4,
   "metadata": {},
   "outputs": [],
   "source": [
    "def subtract(vector1: Vector, vector2:Vector) -> Vector:\n",
    "    assert len(vector1) == len(vector2)\n",
    "    return [v1 - v2 for v1, v2 in zip(vector1, vector2)]"
   ]
  },
  {
   "cell_type": "code",
   "execution_count": 5,
   "metadata": {},
   "outputs": [],
   "source": [
    "def vector_sum(vectors: List[Vector]) -> Vector:\n",
    "    assert vectors\n",
    "    \n",
    "    vector_length = len(vectors[0])\n",
    "    assert all(len(v) == vector_length for v in vectors)\n",
    "\n",
    "    sums = [0] * vector_length\n",
    "    for vector in vectors:\n",
    "        sums = add(sums, vector)\n",
    "\n",
    "    return sums"
   ]
  },
  {
   "cell_type": "code",
   "execution_count": 6,
   "metadata": {},
   "outputs": [],
   "source": [
    "def scalar_multiply(c: float, vector: Vector) -> Vector:\n",
    "    return [c * v for v in vector]"
   ]
  },
  {
   "cell_type": "code",
   "execution_count": 7,
   "metadata": {},
   "outputs": [],
   "source": [
    "def vector_mean(vector: Vector) -> float:\n",
    "    n = len(vector)\n",
    "    return scalar_multiply(1/n, vector)"
   ]
  },
  {
   "cell_type": "code",
   "execution_count": 8,
   "metadata": {},
   "outputs": [],
   "source": [
    "def dot(vector1: Vector, vector2: Vector) -> float:\n",
    "    assert len(vector1) == len(vector2)\n",
    "    return sum(v1 * v2 for v1, v2 in zip(vector1, vector2))"
   ]
  },
  {
   "cell_type": "code",
   "execution_count": 9,
   "metadata": {},
   "outputs": [],
   "source": [
    "def sum_of_squares(v: Vector) -> Vector:\n",
    "    return dot(v, v)"
   ]
  },
  {
   "cell_type": "code",
   "execution_count": 10,
   "metadata": {},
   "outputs": [],
   "source": [
    "def magnitude(v: Vector) -> Vector:\n",
    "    return m.sqrt(sum_of_squares(v))\n"
   ]
  },
  {
   "cell_type": "code",
   "execution_count": 11,
   "metadata": {},
   "outputs": [],
   "source": [
    "def gradient_step(v: Vector, gradient: Vector, step_size: float) -> Vector:\n",
    "    \"\"\"Return vector adjusted with step. Step is gradient times step size.\n",
    "    \"\"\"\n",
    "    step = scalar_multiply(step_size, gradient)\n",
    "    return add(v, step)"
   ]
  },
  {
   "source": [
    "## Steps"
   ],
   "cell_type": "markdown",
   "metadata": {}
  },
  {
   "cell_type": "code",
   "execution_count": 12,
   "metadata": {},
   "outputs": [
    {
     "output_type": "stream",
     "name": "stdout",
     "text": [
      "-10 0.9679420748641416\n"
     ]
    },
    {
     "output_type": "execute_result",
     "data": {
      "text/html": "\n<div id=\"altair-viz-56aad99876ac4c958a43ace61d4f3628\"></div>\n<script type=\"text/javascript\">\n  (function(spec, embedOpt){\n    let outputDiv = document.currentScript.previousElementSibling;\n    if (outputDiv.id !== \"altair-viz-56aad99876ac4c958a43ace61d4f3628\") {\n      outputDiv = document.getElementById(\"altair-viz-56aad99876ac4c958a43ace61d4f3628\");\n    }\n    const paths = {\n      \"vega\": \"https://cdn.jsdelivr.net/npm//vega@5?noext\",\n      \"vega-lib\": \"https://cdn.jsdelivr.net/npm//vega-lib?noext\",\n      \"vega-lite\": \"https://cdn.jsdelivr.net/npm//vega-lite@4.8.1?noext\",\n      \"vega-embed\": \"https://cdn.jsdelivr.net/npm//vega-embed@6?noext\",\n    };\n\n    function loadScript(lib) {\n      return new Promise(function(resolve, reject) {\n        var s = document.createElement('script');\n        s.src = paths[lib];\n        s.async = true;\n        s.onload = () => resolve(paths[lib]);\n        s.onerror = () => reject(`Error loading script: ${paths[lib]}`);\n        document.getElementsByTagName(\"head\")[0].appendChild(s);\n      });\n    }\n\n    function showError(err) {\n      outputDiv.innerHTML = `<div class=\"error\" style=\"color:red;\">${err}</div>`;\n      throw err;\n    }\n\n    function displayChart(vegaEmbed) {\n      vegaEmbed(outputDiv, spec, embedOpt)\n        .catch(err => showError(`Javascript Error: ${err.message}<br>This usually means there's a typo in your chart specification. See the javascript console for the full traceback.`));\n    }\n\n    if(typeof define === \"function\" && define.amd) {\n      requirejs.config({paths});\n      require([\"vega-embed\"], displayChart, err => showError(`Error loading script: ${err.message}`));\n    } else if (typeof vegaEmbed === \"function\") {\n      displayChart(vegaEmbed);\n    } else {\n      loadScript(\"vega\")\n        .then(() => loadScript(\"vega-lite\"))\n        .then(() => loadScript(\"vega-embed\"))\n        .catch(showError)\n        .then(() => displayChart(vegaEmbed));\n    }\n  })({\"config\": {\"view\": {\"continuousWidth\": 400, \"continuousHeight\": 300}}, \"data\": {\"name\": \"data-253ffb03c5c3da6161e4f4bd338d5909\"}, \"mark\": \"point\", \"encoding\": {\"tooltip\": [{\"type\": \"quantitative\", \"field\": \"x\"}, {\"type\": \"quantitative\", \"field\": \"y\"}], \"x\": {\"type\": \"quantitative\", \"field\": \"x\"}, \"y\": {\"type\": \"quantitative\", \"field\": \"y\"}}, \"$schema\": \"https://vega.github.io/schema/vega-lite/v4.8.1.json\", \"datasets\": {\"data-253ffb03c5c3da6161e4f4bd338d5909\": [{\"x\": -34, \"y\": 0}, {\"x\": -17, \"y\": 40}, {\"x\": -11, \"y\": 35}, {\"x\": -36, \"y\": 49}, {\"x\": -32, \"y\": 4}, {\"x\": -3, \"y\": 25}, {\"x\": -19, \"y\": 43}, {\"x\": 6, \"y\": -8}, {\"x\": -11, \"y\": 7}, {\"x\": -36, \"y\": 8}, {\"x\": -34, \"y\": 29}, {\"x\": -35, \"y\": 0}, {\"x\": -16, \"y\": 21}, {\"x\": -10, \"y\": 15}, {\"x\": -8, \"y\": 44}, {\"x\": -7, \"y\": 7}, {\"x\": -47, \"y\": 49}, {\"x\": 7, \"y\": 35}, {\"x\": -16, \"y\": 40}, {\"x\": -27, \"y\": 35}, {\"x\": -44, \"y\": -14}, {\"x\": -30, \"y\": 12}, {\"x\": -24, \"y\": 40}, {\"x\": -1, \"y\": 31}, {\"x\": -29, \"y\": -2}, {\"x\": -28, \"y\": 31}, {\"x\": -32, \"y\": -9}, {\"x\": -49, \"y\": -7}, {\"x\": -41, \"y\": -19}, {\"x\": -13, \"y\": 20}]}}, {\"mode\": \"vega-lite\"});\n</script>",
      "text/plain": [
       "alt.Chart(...)"
      ]
     },
     "metadata": {},
     "execution_count": 12
    }
   ],
   "source": [
    "intercept = random.randint(-30, 30)\n",
    "coefficient = random.uniform(-1, 1)\n",
    "n = 30\n",
    "\n",
    "\n",
    "xs = np.random.randint(-50, 10 + 1, 30)\n",
    "ys = np.random.randint(-20, 50 + 1, 30)\n",
    "df = pd.DataFrame({'x': xs, 'y': ys})\n",
    "\n",
    "print(intercept, coefficient)\n",
    "\n",
    "\n",
    "alt.Chart(df).mark_point().encode(\n",
    "    alt.X('x:Q'), alt.Y('y:Q'), alt.Tooltip(['x', 'y'])\n",
    ")"
   ]
  },
  {
   "source": [
    "### De-meaning"
   ],
   "cell_type": "markdown",
   "metadata": {}
  },
  {
   "cell_type": "code",
   "execution_count": 13,
   "metadata": {},
   "outputs": [],
   "source": [
    "def de_mean(data: List[Vector]) -> List[Vector]:\n",
    "    # mean = vector_mean(data)\n",
    "    return [vector - np.mean(vector) for vector in data]"
   ]
  },
  {
   "cell_type": "code",
   "execution_count": 14,
   "metadata": {},
   "outputs": [
    {
     "output_type": "execute_result",
     "data": {
      "text/html": "\n<div id=\"altair-viz-a4637d919bba492a97bea1d9c5bceef0\"></div>\n<script type=\"text/javascript\">\n  (function(spec, embedOpt){\n    let outputDiv = document.currentScript.previousElementSibling;\n    if (outputDiv.id !== \"altair-viz-a4637d919bba492a97bea1d9c5bceef0\") {\n      outputDiv = document.getElementById(\"altair-viz-a4637d919bba492a97bea1d9c5bceef0\");\n    }\n    const paths = {\n      \"vega\": \"https://cdn.jsdelivr.net/npm//vega@5?noext\",\n      \"vega-lib\": \"https://cdn.jsdelivr.net/npm//vega-lib?noext\",\n      \"vega-lite\": \"https://cdn.jsdelivr.net/npm//vega-lite@4.8.1?noext\",\n      \"vega-embed\": \"https://cdn.jsdelivr.net/npm//vega-embed@6?noext\",\n    };\n\n    function loadScript(lib) {\n      return new Promise(function(resolve, reject) {\n        var s = document.createElement('script');\n        s.src = paths[lib];\n        s.async = true;\n        s.onload = () => resolve(paths[lib]);\n        s.onerror = () => reject(`Error loading script: ${paths[lib]}`);\n        document.getElementsByTagName(\"head\")[0].appendChild(s);\n      });\n    }\n\n    function showError(err) {\n      outputDiv.innerHTML = `<div class=\"error\" style=\"color:red;\">${err}</div>`;\n      throw err;\n    }\n\n    function displayChart(vegaEmbed) {\n      vegaEmbed(outputDiv, spec, embedOpt)\n        .catch(err => showError(`Javascript Error: ${err.message}<br>This usually means there's a typo in your chart specification. See the javascript console for the full traceback.`));\n    }\n\n    if(typeof define === \"function\" && define.amd) {\n      requirejs.config({paths});\n      require([\"vega-embed\"], displayChart, err => showError(`Error loading script: ${err.message}`));\n    } else if (typeof vegaEmbed === \"function\") {\n      displayChart(vegaEmbed);\n    } else {\n      loadScript(\"vega\")\n        .then(() => loadScript(\"vega-lite\"))\n        .then(() => loadScript(\"vega-embed\"))\n        .catch(showError)\n        .then(() => displayChart(vegaEmbed));\n    }\n  })({\"config\": {\"view\": {\"continuousWidth\": 400, \"continuousHeight\": 300}}, \"data\": {\"name\": \"data-4e839f0369987c0fa0c1e6c372f962c7\"}, \"mark\": \"point\", \"encoding\": {\"tooltip\": [{\"type\": \"quantitative\", \"field\": \"x\"}, {\"type\": \"quantitative\", \"field\": \"y\"}], \"x\": {\"type\": \"quantitative\", \"field\": \"x\"}, \"y\": {\"type\": \"quantitative\", \"field\": \"y\"}}, \"$schema\": \"https://vega.github.io/schema/vega-lite/v4.8.1.json\", \"datasets\": {\"data-4e839f0369987c0fa0c1e6c372f962c7\": [{\"x\": -11.433333333333334, \"y\": -18.7}, {\"x\": 5.566666666666666, \"y\": 21.3}, {\"x\": 11.566666666666666, \"y\": 16.3}, {\"x\": -13.433333333333334, \"y\": 30.3}, {\"x\": -9.433333333333334, \"y\": -14.7}, {\"x\": 19.566666666666666, \"y\": 6.300000000000001}, {\"x\": 3.5666666666666664, \"y\": 24.3}, {\"x\": 28.566666666666666, \"y\": -26.7}, {\"x\": 11.566666666666666, \"y\": -11.7}, {\"x\": -13.433333333333334, \"y\": -10.7}, {\"x\": -11.433333333333334, \"y\": 10.3}, {\"x\": -12.433333333333334, \"y\": -18.7}, {\"x\": 6.566666666666666, \"y\": 2.3000000000000007}, {\"x\": 12.566666666666666, \"y\": -3.6999999999999993}, {\"x\": 14.566666666666666, \"y\": 25.3}, {\"x\": 15.566666666666666, \"y\": -11.7}, {\"x\": -24.433333333333334, \"y\": 30.3}, {\"x\": 29.566666666666666, \"y\": 16.3}, {\"x\": 6.566666666666666, \"y\": 21.3}, {\"x\": -4.433333333333334, \"y\": 16.3}, {\"x\": -21.433333333333334, \"y\": -32.7}, {\"x\": -7.433333333333334, \"y\": -6.699999999999999}, {\"x\": -1.4333333333333336, \"y\": 21.3}, {\"x\": 21.566666666666666, \"y\": 12.3}, {\"x\": -6.433333333333334, \"y\": -20.7}, {\"x\": -5.433333333333334, \"y\": 12.3}, {\"x\": -9.433333333333334, \"y\": -27.7}, {\"x\": -26.433333333333334, \"y\": -25.7}, {\"x\": -18.433333333333334, \"y\": -37.7}, {\"x\": 9.566666666666666, \"y\": 1.3000000000000007}]}}, {\"mode\": \"vega-lite\"});\n</script>",
      "text/plain": [
       "alt.Chart(...)"
      ]
     },
     "metadata": {},
     "execution_count": 14
    }
   ],
   "source": [
    "xs_demean, ys_demean = de_mean([xs, ys])\n",
    "\n",
    "df = pd.DataFrame({'x': xs_demean, 'y': ys_demean})\n",
    "alt.Chart(df).mark_point().encode(\n",
    "    alt.X('x:Q'), alt.Y('y:Q'), alt.Tooltip(['x', 'y'])\n",
    ")"
   ]
  },
  {
   "source": [
    "### Direction"
   ],
   "cell_type": "markdown",
   "metadata": {}
  },
  {
   "cell_type": "code",
   "execution_count": 15,
   "metadata": {},
   "outputs": [
    {
     "output_type": "execute_result",
     "data": {
      "text/plain": [
       "[-0.22863117335525085,\n",
       " -0.11431558667762542,\n",
       " -0.07396890902669881,\n",
       " -0.24208006590555972,\n",
       " -0.21518228080494198,\n",
       " -0.02017333882546331,\n",
       " -0.1277644792279343,\n",
       " 0.04034667765092662,\n",
       " -0.07396890902669881,\n",
       " -0.24208006590555972,\n",
       " -0.22863117335525085,\n",
       " -0.2353556196304053,\n",
       " -0.10759114040247099,\n",
       " -0.06724446275154437,\n",
       " -0.053795570201235494,\n",
       " -0.04707112392608106,\n",
       " -0.31604897493225853,\n",
       " 0.04707112392608106,\n",
       " -0.10759114040247099,\n",
       " -0.1815600494291698,\n",
       " -0.29587563610679524,\n",
       " -0.2017333882546331,\n",
       " -0.1613867106037065,\n",
       " -0.006724446275154437,\n",
       " -0.19500894197947868,\n",
       " -0.18828449570432423,\n",
       " -0.21518228080494198,\n",
       " -0.32949786748256743,\n",
       " -0.27570229728133194,\n",
       " -0.08741780157700768]"
      ]
     },
     "metadata": {},
     "execution_count": 15
    }
   ],
   "source": [
    "def direction(w: Vector) -> Vector:\n",
    "    mag = magnitude(w)\n",
    "    return [w_i / mag for w_i in w]\n",
    "\n",
    "direction(xs)"
   ]
  },
  {
   "cell_type": "code",
   "execution_count": 16,
   "metadata": {},
   "outputs": [
    {
     "output_type": "execute_result",
     "data": {
      "text/html": "\n<div id=\"altair-viz-cc68fd51365d4640bc10331329a00f15\"></div>\n<script type=\"text/javascript\">\n  (function(spec, embedOpt){\n    let outputDiv = document.currentScript.previousElementSibling;\n    if (outputDiv.id !== \"altair-viz-cc68fd51365d4640bc10331329a00f15\") {\n      outputDiv = document.getElementById(\"altair-viz-cc68fd51365d4640bc10331329a00f15\");\n    }\n    const paths = {\n      \"vega\": \"https://cdn.jsdelivr.net/npm//vega@5?noext\",\n      \"vega-lib\": \"https://cdn.jsdelivr.net/npm//vega-lib?noext\",\n      \"vega-lite\": \"https://cdn.jsdelivr.net/npm//vega-lite@4.8.1?noext\",\n      \"vega-embed\": \"https://cdn.jsdelivr.net/npm//vega-embed@6?noext\",\n    };\n\n    function loadScript(lib) {\n      return new Promise(function(resolve, reject) {\n        var s = document.createElement('script');\n        s.src = paths[lib];\n        s.async = true;\n        s.onload = () => resolve(paths[lib]);\n        s.onerror = () => reject(`Error loading script: ${paths[lib]}`);\n        document.getElementsByTagName(\"head\")[0].appendChild(s);\n      });\n    }\n\n    function showError(err) {\n      outputDiv.innerHTML = `<div class=\"error\" style=\"color:red;\">${err}</div>`;\n      throw err;\n    }\n\n    function displayChart(vegaEmbed) {\n      vegaEmbed(outputDiv, spec, embedOpt)\n        .catch(err => showError(`Javascript Error: ${err.message}<br>This usually means there's a typo in your chart specification. See the javascript console for the full traceback.`));\n    }\n\n    if(typeof define === \"function\" && define.amd) {\n      requirejs.config({paths});\n      require([\"vega-embed\"], displayChart, err => showError(`Error loading script: ${err.message}`));\n    } else if (typeof vegaEmbed === \"function\") {\n      displayChart(vegaEmbed);\n    } else {\n      loadScript(\"vega\")\n        .then(() => loadScript(\"vega-lite\"))\n        .then(() => loadScript(\"vega-embed\"))\n        .catch(showError)\n        .then(() => displayChart(vegaEmbed));\n    }\n  })({\"config\": {\"view\": {\"continuousWidth\": 400, \"continuousHeight\": 300}}, \"data\": {\"name\": \"data-4cbdaba46d25db68017e0689aa4af2c4\"}, \"mark\": \"point\", \"encoding\": {\"tooltip\": [{\"type\": \"quantitative\", \"field\": \"x\"}, {\"type\": \"quantitative\", \"field\": \"y\"}], \"x\": {\"type\": \"quantitative\", \"field\": \"x\"}, \"y\": {\"type\": \"quantitative\", \"field\": \"y\"}}, \"$schema\": \"https://vega.github.io/schema/vega-lite/v4.8.1.json\", \"datasets\": {\"data-4cbdaba46d25db68017e0689aa4af2c4\": [{\"x\": -0.1382701487741325, \"y\": -0.1699838452782193}, {\"x\": 0.06732103453434438, \"y\": 0.19361796280353322}, {\"x\": 0.13988262864321857, \"y\": 0.14816773679331416}, {\"x\": -0.16245734681042387, \"y\": 0.2754283696219275}, {\"x\": -0.11408295073784108, \"y\": -0.13362366447004403}, {\"x\": 0.23663142078838414, \"y\": 0.05726728477287603}, {\"x\": 0.04313383649805298, \"y\": 0.22088809840966467}, {\"x\": 0.3454738119516954, \"y\": -0.24270420689456979}, {\"x\": 0.13988262864321857, \"y\": -0.1063535288639126}, {\"x\": -0.16245734681042387, \"y\": -0.0972634836618688}, {\"x\": -0.1382701487741325, \"y\": 0.09362746558105128}, {\"x\": -0.15036374779227818, \"y\": -0.1699838452782193}, {\"x\": 0.07941463355249008, \"y\": 0.020907103964700777}, {\"x\": 0.15197622766136426, \"y\": -0.0336331672475621}, {\"x\": 0.17616342569765567, \"y\": 0.22997814361170846}, {\"x\": 0.18825702471580136, \"y\": -0.1063535288639126}, {\"x\": -0.29548693601002657, \"y\": 0.2754283696219275}, {\"x\": 0.3575674109698411, \"y\": 0.14816773679331416}, {\"x\": 0.07941463355249008, \"y\": 0.19361796280353322}, {\"x\": -0.0536149556471126, \"y\": 0.14816773679331416}, {\"x\": -0.25920613895558947, \"y\": -0.2972444781068327}, {\"x\": -0.08989575270154969, \"y\": -0.06090330285369354}, {\"x\": -0.0173341585926755, \"y\": 0.19361796280353322}, {\"x\": 0.26081861882467555, \"y\": 0.1118075559851389}, {\"x\": -0.07780215368340399, \"y\": -0.1881639356823069}, {\"x\": -0.0657085546652583, \"y\": 0.1118075559851389}, {\"x\": -0.11408295073784108, \"y\": -0.2517942520966136}, {\"x\": -0.31967413404631795, \"y\": -0.233614161692526}, {\"x\": -0.22292534190115237, \"y\": -0.3426947041170518}, {\"x\": 0.11569543060692716, \"y\": 0.011817058762656964}]}}, {\"mode\": \"vega-lite\"});\n</script>",
      "text/plain": [
       "alt.Chart(...)"
      ]
     },
     "metadata": {},
     "execution_count": 16
    }
   ],
   "source": [
    "xs_dir = direction(xs_demean)\n",
    "ys_dir = direction(ys_demean)\n",
    "\n",
    "df = pd.DataFrame({'x': xs_dir, 'y': ys_dir})\n",
    "alt.Chart(df).mark_point().encode(\n",
    "    alt.X('x:Q'), alt.Y('y:Q'), alt.Tooltip(['x', 'y'])\n",
    ")"
   ]
  }
 ]
}