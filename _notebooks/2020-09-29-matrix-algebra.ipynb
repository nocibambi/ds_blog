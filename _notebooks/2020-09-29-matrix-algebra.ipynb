{
 "metadata": {
  "language_info": {
   "codemirror_mode": {
    "name": "ipython",
    "version": 3
   },
   "file_extension": ".py",
   "mimetype": "text/x-python",
   "name": "python",
   "nbconvert_exporter": "python",
   "pygments_lexer": "ipython3",
   "version": "3.8.5-final"
  },
  "orig_nbformat": 2,
  "kernelspec": {
   "name": "Python 3.8.5 64-bit ('bigquery': conda)",
   "display_name": "Python 3.8.5 64-bit ('bigquery': conda)",
   "metadata": {
    "interpreter": {
     "hash": "8e6f8fd53d913fe50345f9e659ed342277121f637d2311273da0eef260503de3"
    }
   }
  }
 },
 "nbformat": 4,
 "nbformat_minor": 2,
 "cells": [
  {
   "source": [
    "# Matrix algebra 'from scratch' with type annotations"
   ],
   "cell_type": "markdown",
   "metadata": {}
  },
  {
   "source": [
    "This is the continuation of yesterday's practice, but now with Matrix operations."
   ],
   "cell_type": "markdown",
   "metadata": {}
  },
  {
   "cell_type": "code",
   "execution_count": 1,
   "metadata": {},
   "outputs": [],
   "source": [
    "from typing import List, Tuple, Callable"
   ]
  },
  {
   "cell_type": "code",
   "execution_count": 2,
   "metadata": {},
   "outputs": [],
   "source": [
    "Vector = List[float]\n",
    "Matrix = List[List[float]]"
   ]
  },
  {
   "cell_type": "code",
   "execution_count": 3,
   "metadata": {},
   "outputs": [],
   "source": [
    "A = [[1, 2, 3],\n",
    "     [4, 5, 6]]\n",
    "\n",
    "B = [[1, 2],\n",
    "     [3, 4],\n",
    "     [5, 6]]"
   ]
  },
  {
   "source": [
    "## Shape"
   ],
   "cell_type": "markdown",
   "metadata": {}
  },
  {
   "cell_type": "code",
   "execution_count": 4,
   "metadata": {},
   "outputs": [],
   "source": [
    "def shape(A: Matrix) -> Tuple[int, int]:\n",
    "    number_of_rows = len(A)\n",
    "    number_of_columns = len(A[0]) if A else 0\n",
    "    return number_of_rows, number_of_columns\n",
    "\n",
    "assert shape([[1, 2, 3],[4, 5, 6]]) == (2, 3)"
   ]
  },
  {
   "source": [
    "## Get rows and columns"
   ],
   "cell_type": "markdown",
   "metadata": {}
  },
  {
   "cell_type": "code",
   "execution_count": 5,
   "metadata": {},
   "outputs": [],
   "source": [
    "def get_row(A: Matrix, i: int) -> Vector:\n",
    "    return A[i]\n",
    "\n",
    "def get_columns(A: Matrix, i: int) -> Vector:\n",
    "    return [row[i] for row in A] \n",
    "\n",
    "assert get_columns([[1, 2, 3],[4, 5, 6]], 1) == [2, 5]"
   ]
  },
  {
   "source": [
    "## Create a new matrix from a function of $(i, j)$"
   ],
   "cell_type": "markdown",
   "metadata": {}
  },
  {
   "cell_type": "code",
   "execution_count": 6,
   "metadata": {},
   "outputs": [],
   "source": [
    "def make_matrix(\n",
    "    number_of_rows: int,\n",
    "    number_of_columns: int,\n",
    "    entry_function: Callable[[int, int], float]\n",
    ") -> Matrix:\n",
    "    return [\n",
    "        [entry_function(i, j) for j in range(number_of_columns)]\n",
    "        for i in range(number_of_rows)\n",
    "    ]\n",
    "\n",
    "assert make_matrix(3, 2, lambda i, j: i + j) == [[0, 1], [1, 2], [2, 3]]"
   ]
  },
  {
   "cell_type": "code",
   "execution_count": 7,
   "metadata": {},
   "outputs": [],
   "source": [
    "def identity_matrix(n: int) -> Matrix:\n",
    "    return make_matrix(n, n, lambda i, j: 1 if i == j else 0)\n",
    "\n",
    "assert identity_matrix(3) == [[1, 0, 0], [0, 1, 0], [0, 0, 1]]"
   ]
  },
  {
   "cell_type": "code",
   "execution_count": 8,
   "metadata": {},
   "outputs": [
    {
     "output_type": "execute_result",
     "data": {
      "text/plain": "[[1, 0, 0, 0, 0],\n [0, 1, 0, 0, 0],\n [0, 0, 1, 0, 0],\n [0, 0, 0, 1, 0],\n [0, 0, 0, 0, 1]]"
     },
     "metadata": {},
     "execution_count": 8
    }
   ],
   "source": [
    "identity_matrix(5)"
   ]
  }
 ]
}