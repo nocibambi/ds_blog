{
 "metadata": {
  "language_info": {
   "codemirror_mode": {
    "name": "ipython",
    "version": 3
   },
   "file_extension": ".py",
   "mimetype": "text/x-python",
   "name": "python",
   "nbconvert_exporter": "python",
   "pygments_lexer": "ipython3",
   "version": "3.8.5-final"
  },
  "orig_nbformat": 2,
  "kernelspec": {
   "name": "Python 3.8.5 64-bit ('streamlit': conda)",
   "display_name": "Python 3.8.5 64-bit ('streamlit': conda)",
   "metadata": {
    "interpreter": {
     "hash": "d5b47a323bfc67f94a37e7cb8fd52db1ad06cc55d227a5b8c375f2f5af6e26dc"
    }
   }
  }
 },
 "nbformat": 4,
 "nbformat_minor": 2,
 "cells": [
  {
   "source": [
    "# Probability test\n",
    "\n",
    "Calculating probabilities of values in relation to threshold values.\n",
    "\n",
    "The code is based upon the respective example from [Data Science from Scratch](https://www.oreilly.com/library/view/data-science-from/9781492041122/)."
   ],
   "cell_type": "markdown",
   "metadata": {}
  },
  {
   "source": [
    "## Libraries"
   ],
   "cell_type": "markdown",
   "metadata": {}
  },
  {
   "cell_type": "code",
   "execution_count": 1,
   "metadata": {},
   "outputs": [],
   "source": [
    "from typing import Tuple\n",
    "import math as m\n",
    "\n",
    "import pandas as pd\n",
    "import numpy as np"
   ]
  },
  {
   "source": [
    "## Probability below a threshold"
   ],
   "cell_type": "markdown",
   "metadata": {}
  },
  {
   "source": [
    "$ p = \\frac {1 + \\text{erf} \\ z ( \\frac {x - \\mu} {\\sqrt{2} \\sigma} )} {2} $\n",
    "\n",
    "where\n",
    "\n",
    "$ \\text{erf} \\ z = \\frac {2} {\\sqrt{\\pi}} \\ \\int_0^z e^{-t^2} dt $\n",
    "\n",
    "is the error function."
   ],
   "cell_type": "markdown",
   "metadata": {}
  },
  {
   "cell_type": "code",
   "execution_count": 2,
   "metadata": {},
   "outputs": [],
   "source": [
    "def calc_normal_cdf(x: float, mu: float = 0, sigma: float = 1) -> float:\n",
    "    return (1 + m.erf((x - mu) / m.sqrt(2) / sigma)) / 2"
   ]
  },
  {
   "cell_type": "code",
   "execution_count": 3,
   "metadata": {},
   "outputs": [],
   "source": [
    "normal_probability_below = calc_normal_cdf"
   ]
  },
  {
   "cell_type": "code",
   "execution_count": 4,
   "metadata": {
    "tags": []
   },
   "outputs": [
    {
     "output_type": "stream",
     "name": "stdout",
     "text": "-1.0\t0.1587\n-0.9\t0.1841\n-0.8\t0.2119\n-0.7\t0.2420\n-0.6\t0.2743\n-0.5\t0.3085\n-0.4\t0.3446\n-0.3\t0.3821\n-0.2\t0.4207\n-0.1\t0.4602\n0.0\t0.5000\n0.1\t0.5398\n0.2\t0.5793\n0.3\t0.6179\n0.4\t0.6554\n0.5\t0.6915\n0.6\t0.7257\n0.7\t0.7580\n0.8\t0.7881\n0.9\t0.8159\n1.0\t0.8413\n"
    }
   ],
   "source": [
    "for i in [n / 10 for n in range(-10, 10 + 1, 1)]:\n",
    "    print(\"\\t\".join([str(i), f\"{normal_probability_below(i):.4f}\"]))"
   ]
  },
  {
   "source": [
    "## Probability above a threshold"
   ],
   "cell_type": "markdown",
   "metadata": {}
  },
  {
   "cell_type": "code",
   "execution_count": 5,
   "metadata": {},
   "outputs": [],
   "source": [
    "def normal_probability_above(lo: float, mu: float = 0, sigma: float = 1) -> float:\n",
    "    return 1 - normal_probability_below(lo, mu, sigma)"
   ]
  },
  {
   "cell_type": "code",
   "execution_count": 6,
   "metadata": {
    "tags": []
   },
   "outputs": [
    {
     "output_type": "stream",
     "name": "stdout",
     "text": "-1.0\t0.8413\n-0.9\t0.8159\n-0.8\t0.7881\n-0.7\t0.7580\n-0.6\t0.7257\n-0.5\t0.6915\n-0.4\t0.6554\n-0.3\t0.6179\n-0.2\t0.5793\n-0.1\t0.5398\n0.0\t0.5000\n0.1\t0.4602\n0.2\t0.4207\n0.3\t0.3821\n0.4\t0.3446\n0.5\t0.3085\n0.6\t0.2743\n0.7\t0.2420\n0.8\t0.2119\n0.9\t0.1841\n1.0\t0.1587\n"
    }
   ],
   "source": [
    "for i in [n / 10 for n in range(-10, 10 + 1, 1)]:\n",
    "    print(\"\\t\".join([str(i), f\"{normal_probability_above(i):.4f}\"]))"
   ]
  },
  {
   "source": [
    "## Probability between thresholds"
   ],
   "cell_type": "markdown",
   "metadata": {}
  },
  {
   "cell_type": "code",
   "execution_count": 7,
   "metadata": {},
   "outputs": [
    {
     "output_type": "execute_result",
     "data": {
      "text/plain": "array([-1. , -0.8, -0.6, -0.4, -0.2,  0. ,  0.2,  0.4,  0.6,  0.8,  1. ])"
     },
     "metadata": {},
     "execution_count": 7
    }
   ],
   "source": [
    "domain = np.arange(-10, 10 + 1, 2) / 10\n",
    "domain"
   ]
  },
  {
   "cell_type": "code",
   "execution_count": 8,
   "metadata": {},
   "outputs": [],
   "source": [
    "def normal_probability_between(lo: float, hi: float, mu: float = 0, sigma: float = 1) -> float:\n",
    "    return normal_probability_below(hi, mu, sigma) - normal_probability_below(lo, mu, sigma)"
   ]
  },
  {
   "cell_type": "code",
   "execution_count": 9,
   "metadata": {
    "tags": []
   },
   "outputs": [
    {
     "output_type": "execute_result",
     "data": {
      "text/plain": "      -1.0    -0.8      -0.6      -0.4      -0.2       0.0       0.2  \\\n-1.0   0.0  0.0532  0.115598  0.185923  0.262085  0.341345  0.420604   \n-0.8   NaN  0.0000  0.062398  0.132723  0.208885  0.288145  0.367404   \n-0.6   NaN     NaN  0.000000  0.070325  0.146487  0.225747  0.305007   \n-0.4   NaN     NaN       NaN  0.000000  0.076162  0.155422  0.234681   \n-0.2   NaN     NaN       NaN       NaN  0.000000  0.079260  0.158519   \n 0.0   NaN     NaN       NaN       NaN       NaN  0.000000  0.079260   \n 0.2   NaN     NaN       NaN       NaN       NaN       NaN  0.000000   \n 0.4   NaN     NaN       NaN       NaN       NaN       NaN       NaN   \n 0.6   NaN     NaN       NaN       NaN       NaN       NaN       NaN   \n 0.8   NaN     NaN       NaN       NaN       NaN       NaN       NaN   \n 1.0   NaN     NaN       NaN       NaN       NaN       NaN       NaN   \n\n           0.4       0.6       0.8       1.0  \n-1.0  0.496766  0.567092  0.629489  0.682689  \n-0.8  0.443566  0.513891  0.576289  0.629489  \n-0.6  0.381169  0.451494  0.513891  0.567092  \n-0.4  0.310843  0.381169  0.443566  0.496766  \n-0.2  0.234681  0.305007  0.367404  0.420604  \n 0.0  0.155422  0.225747  0.288145  0.341345  \n 0.2  0.076162  0.146487  0.208885  0.262085  \n 0.4  0.000000  0.070325  0.132723  0.185923  \n 0.6       NaN  0.000000  0.062398  0.115598  \n 0.8       NaN       NaN  0.000000  0.053200  \n 1.0       NaN       NaN       NaN  0.000000  ",
      "text/html": "<div>\n<style scoped>\n    .dataframe tbody tr th:only-of-type {\n        vertical-align: middle;\n    }\n\n    .dataframe tbody tr th {\n        vertical-align: top;\n    }\n\n    .dataframe thead th {\n        text-align: right;\n    }\n</style>\n<table border=\"1\" class=\"dataframe\">\n  <thead>\n    <tr style=\"text-align: right;\">\n      <th></th>\n      <th>-1.0</th>\n      <th>-0.8</th>\n      <th>-0.6</th>\n      <th>-0.4</th>\n      <th>-0.2</th>\n      <th>0.0</th>\n      <th>0.2</th>\n      <th>0.4</th>\n      <th>0.6</th>\n      <th>0.8</th>\n      <th>1.0</th>\n    </tr>\n  </thead>\n  <tbody>\n    <tr>\n      <th>-1.0</th>\n      <td>0.0</td>\n      <td>0.0532</td>\n      <td>0.115598</td>\n      <td>0.185923</td>\n      <td>0.262085</td>\n      <td>0.341345</td>\n      <td>0.420604</td>\n      <td>0.496766</td>\n      <td>0.567092</td>\n      <td>0.629489</td>\n      <td>0.682689</td>\n    </tr>\n    <tr>\n      <th>-0.8</th>\n      <td>NaN</td>\n      <td>0.0000</td>\n      <td>0.062398</td>\n      <td>0.132723</td>\n      <td>0.208885</td>\n      <td>0.288145</td>\n      <td>0.367404</td>\n      <td>0.443566</td>\n      <td>0.513891</td>\n      <td>0.576289</td>\n      <td>0.629489</td>\n    </tr>\n    <tr>\n      <th>-0.6</th>\n      <td>NaN</td>\n      <td>NaN</td>\n      <td>0.000000</td>\n      <td>0.070325</td>\n      <td>0.146487</td>\n      <td>0.225747</td>\n      <td>0.305007</td>\n      <td>0.381169</td>\n      <td>0.451494</td>\n      <td>0.513891</td>\n      <td>0.567092</td>\n    </tr>\n    <tr>\n      <th>-0.4</th>\n      <td>NaN</td>\n      <td>NaN</td>\n      <td>NaN</td>\n      <td>0.000000</td>\n      <td>0.076162</td>\n      <td>0.155422</td>\n      <td>0.234681</td>\n      <td>0.310843</td>\n      <td>0.381169</td>\n      <td>0.443566</td>\n      <td>0.496766</td>\n    </tr>\n    <tr>\n      <th>-0.2</th>\n      <td>NaN</td>\n      <td>NaN</td>\n      <td>NaN</td>\n      <td>NaN</td>\n      <td>0.000000</td>\n      <td>0.079260</td>\n      <td>0.158519</td>\n      <td>0.234681</td>\n      <td>0.305007</td>\n      <td>0.367404</td>\n      <td>0.420604</td>\n    </tr>\n    <tr>\n      <th>0.0</th>\n      <td>NaN</td>\n      <td>NaN</td>\n      <td>NaN</td>\n      <td>NaN</td>\n      <td>NaN</td>\n      <td>0.000000</td>\n      <td>0.079260</td>\n      <td>0.155422</td>\n      <td>0.225747</td>\n      <td>0.288145</td>\n      <td>0.341345</td>\n    </tr>\n    <tr>\n      <th>0.2</th>\n      <td>NaN</td>\n      <td>NaN</td>\n      <td>NaN</td>\n      <td>NaN</td>\n      <td>NaN</td>\n      <td>NaN</td>\n      <td>0.000000</td>\n      <td>0.076162</td>\n      <td>0.146487</td>\n      <td>0.208885</td>\n      <td>0.262085</td>\n    </tr>\n    <tr>\n      <th>0.4</th>\n      <td>NaN</td>\n      <td>NaN</td>\n      <td>NaN</td>\n      <td>NaN</td>\n      <td>NaN</td>\n      <td>NaN</td>\n      <td>NaN</td>\n      <td>0.000000</td>\n      <td>0.070325</td>\n      <td>0.132723</td>\n      <td>0.185923</td>\n    </tr>\n    <tr>\n      <th>0.6</th>\n      <td>NaN</td>\n      <td>NaN</td>\n      <td>NaN</td>\n      <td>NaN</td>\n      <td>NaN</td>\n      <td>NaN</td>\n      <td>NaN</td>\n      <td>NaN</td>\n      <td>0.000000</td>\n      <td>0.062398</td>\n      <td>0.115598</td>\n    </tr>\n    <tr>\n      <th>0.8</th>\n      <td>NaN</td>\n      <td>NaN</td>\n      <td>NaN</td>\n      <td>NaN</td>\n      <td>NaN</td>\n      <td>NaN</td>\n      <td>NaN</td>\n      <td>NaN</td>\n      <td>NaN</td>\n      <td>0.000000</td>\n      <td>0.053200</td>\n    </tr>\n    <tr>\n      <th>1.0</th>\n      <td>NaN</td>\n      <td>NaN</td>\n      <td>NaN</td>\n      <td>NaN</td>\n      <td>NaN</td>\n      <td>NaN</td>\n      <td>NaN</td>\n      <td>NaN</td>\n      <td>NaN</td>\n      <td>NaN</td>\n      <td>0.000000</td>\n    </tr>\n  </tbody>\n</table>\n</div>"
     },
     "metadata": {},
     "execution_count": 9
    }
   ],
   "source": [
    "probabilities_between = pd.DataFrame()\n",
    "\n",
    "for i in domain:\n",
    "    for j in domain:\n",
    "        probabilities_between.loc[i, j] = normal_probability_between(i, j)\n",
    "\n",
    "probabilities_between = pd.DataFrame(np.triu(probabilities_between), index=domain, \n",
    "columns=domain).replace(0, np.NaN)\n",
    "\n",
    "for i in domain:\n",
    "    probabilities_between.loc[i, i] = 0\n",
    "\n",
    "probabilities_between"
   ]
  },
  {
   "source": [
    "## Probabilities outside a threshold range"
   ],
   "cell_type": "markdown",
   "metadata": {}
  },
  {
   "cell_type": "code",
   "execution_count": 10,
   "metadata": {},
   "outputs": [],
   "source": [
    "def normal_probability_outside(lo: float, hi: float, mu: float = 0, sigma: float = 1) -> float:\n",
    "    return 1 - normal_probability_between(lo, hi, mu, sigma)"
   ]
  },
  {
   "cell_type": "code",
   "execution_count": 11,
   "metadata": {},
   "outputs": [
    {
     "output_type": "execute_result",
     "data": {
      "text/plain": "      -1.0    -0.8      -0.6      -0.4      -0.2       0.0       0.2  \\\n-1.0   1.0  0.9468  0.884402  0.814077  0.737915  0.658655  0.579396   \n-0.8   NaN  1.0000  0.937602  0.867277  0.791115  0.711855  0.632596   \n-0.6   NaN     NaN  1.000000  0.929675  0.853513  0.774253  0.694993   \n-0.4   NaN     NaN       NaN  1.000000  0.923838  0.844578  0.765319   \n-0.2   NaN     NaN       NaN       NaN  1.000000  0.920740  0.841481   \n 0.0   NaN     NaN       NaN       NaN       NaN  1.000000  0.920740   \n 0.2   NaN     NaN       NaN       NaN       NaN       NaN  1.000000   \n 0.4   NaN     NaN       NaN       NaN       NaN       NaN       NaN   \n 0.6   NaN     NaN       NaN       NaN       NaN       NaN       NaN   \n 0.8   NaN     NaN       NaN       NaN       NaN       NaN       NaN   \n 1.0   NaN     NaN       NaN       NaN       NaN       NaN       NaN   \n\n           0.4       0.6       0.8       1.0  \n-1.0  0.503234  0.432908  0.370511  0.317311  \n-0.8  0.556434  0.486109  0.423711  0.370511  \n-0.6  0.618831  0.548506  0.486109  0.432908  \n-0.4  0.689157  0.618831  0.556434  0.503234  \n-0.2  0.765319  0.694993  0.632596  0.579396  \n 0.0  0.844578  0.774253  0.711855  0.658655  \n 0.2  0.923838  0.853513  0.791115  0.737915  \n 0.4  1.000000  0.929675  0.867277  0.814077  \n 0.6       NaN  1.000000  0.937602  0.884402  \n 0.8       NaN       NaN  1.000000  0.946800  \n 1.0       NaN       NaN       NaN  1.000000  ",
      "text/html": "<div>\n<style scoped>\n    .dataframe tbody tr th:only-of-type {\n        vertical-align: middle;\n    }\n\n    .dataframe tbody tr th {\n        vertical-align: top;\n    }\n\n    .dataframe thead th {\n        text-align: right;\n    }\n</style>\n<table border=\"1\" class=\"dataframe\">\n  <thead>\n    <tr style=\"text-align: right;\">\n      <th></th>\n      <th>-1.0</th>\n      <th>-0.8</th>\n      <th>-0.6</th>\n      <th>-0.4</th>\n      <th>-0.2</th>\n      <th>0.0</th>\n      <th>0.2</th>\n      <th>0.4</th>\n      <th>0.6</th>\n      <th>0.8</th>\n      <th>1.0</th>\n    </tr>\n  </thead>\n  <tbody>\n    <tr>\n      <th>-1.0</th>\n      <td>1.0</td>\n      <td>0.9468</td>\n      <td>0.884402</td>\n      <td>0.814077</td>\n      <td>0.737915</td>\n      <td>0.658655</td>\n      <td>0.579396</td>\n      <td>0.503234</td>\n      <td>0.432908</td>\n      <td>0.370511</td>\n      <td>0.317311</td>\n    </tr>\n    <tr>\n      <th>-0.8</th>\n      <td>NaN</td>\n      <td>1.0000</td>\n      <td>0.937602</td>\n      <td>0.867277</td>\n      <td>0.791115</td>\n      <td>0.711855</td>\n      <td>0.632596</td>\n      <td>0.556434</td>\n      <td>0.486109</td>\n      <td>0.423711</td>\n      <td>0.370511</td>\n    </tr>\n    <tr>\n      <th>-0.6</th>\n      <td>NaN</td>\n      <td>NaN</td>\n      <td>1.000000</td>\n      <td>0.929675</td>\n      <td>0.853513</td>\n      <td>0.774253</td>\n      <td>0.694993</td>\n      <td>0.618831</td>\n      <td>0.548506</td>\n      <td>0.486109</td>\n      <td>0.432908</td>\n    </tr>\n    <tr>\n      <th>-0.4</th>\n      <td>NaN</td>\n      <td>NaN</td>\n      <td>NaN</td>\n      <td>1.000000</td>\n      <td>0.923838</td>\n      <td>0.844578</td>\n      <td>0.765319</td>\n      <td>0.689157</td>\n      <td>0.618831</td>\n      <td>0.556434</td>\n      <td>0.503234</td>\n    </tr>\n    <tr>\n      <th>-0.2</th>\n      <td>NaN</td>\n      <td>NaN</td>\n      <td>NaN</td>\n      <td>NaN</td>\n      <td>1.000000</td>\n      <td>0.920740</td>\n      <td>0.841481</td>\n      <td>0.765319</td>\n      <td>0.694993</td>\n      <td>0.632596</td>\n      <td>0.579396</td>\n    </tr>\n    <tr>\n      <th>0.0</th>\n      <td>NaN</td>\n      <td>NaN</td>\n      <td>NaN</td>\n      <td>NaN</td>\n      <td>NaN</td>\n      <td>1.000000</td>\n      <td>0.920740</td>\n      <td>0.844578</td>\n      <td>0.774253</td>\n      <td>0.711855</td>\n      <td>0.658655</td>\n    </tr>\n    <tr>\n      <th>0.2</th>\n      <td>NaN</td>\n      <td>NaN</td>\n      <td>NaN</td>\n      <td>NaN</td>\n      <td>NaN</td>\n      <td>NaN</td>\n      <td>1.000000</td>\n      <td>0.923838</td>\n      <td>0.853513</td>\n      <td>0.791115</td>\n      <td>0.737915</td>\n    </tr>\n    <tr>\n      <th>0.4</th>\n      <td>NaN</td>\n      <td>NaN</td>\n      <td>NaN</td>\n      <td>NaN</td>\n      <td>NaN</td>\n      <td>NaN</td>\n      <td>NaN</td>\n      <td>1.000000</td>\n      <td>0.929675</td>\n      <td>0.867277</td>\n      <td>0.814077</td>\n    </tr>\n    <tr>\n      <th>0.6</th>\n      <td>NaN</td>\n      <td>NaN</td>\n      <td>NaN</td>\n      <td>NaN</td>\n      <td>NaN</td>\n      <td>NaN</td>\n      <td>NaN</td>\n      <td>NaN</td>\n      <td>1.000000</td>\n      <td>0.937602</td>\n      <td>0.884402</td>\n    </tr>\n    <tr>\n      <th>0.8</th>\n      <td>NaN</td>\n      <td>NaN</td>\n      <td>NaN</td>\n      <td>NaN</td>\n      <td>NaN</td>\n      <td>NaN</td>\n      <td>NaN</td>\n      <td>NaN</td>\n      <td>NaN</td>\n      <td>1.000000</td>\n      <td>0.946800</td>\n    </tr>\n    <tr>\n      <th>1.0</th>\n      <td>NaN</td>\n      <td>NaN</td>\n      <td>NaN</td>\n      <td>NaN</td>\n      <td>NaN</td>\n      <td>NaN</td>\n      <td>NaN</td>\n      <td>NaN</td>\n      <td>NaN</td>\n      <td>NaN</td>\n      <td>1.000000</td>\n    </tr>\n  </tbody>\n</table>\n</div>"
     },
     "metadata": {},
     "execution_count": 11
    }
   ],
   "source": [
    "probabilities_outside = pd.DataFrame()\n",
    "\n",
    "for i in domain:\n",
    "    for j in domain:\n",
    "        probabilities_outside.loc[i, j] = normal_probability_outside(i, j)\n",
    "\n",
    "pd.DataFrame(np.triu(probabilities_outside), index=domain, columns=domain).replace(0, np.NaN)        "
   ]
  }
 ]
}