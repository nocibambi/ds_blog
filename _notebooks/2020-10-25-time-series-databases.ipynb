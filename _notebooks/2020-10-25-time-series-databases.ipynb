{
 "metadata": {
  "language_info": {
   "codemirror_mode": {
    "name": "ipython",
    "version": 3
   },
   "file_extension": ".py",
   "mimetype": "text/x-python",
   "name": "python",
   "nbconvert_exporter": "python",
   "pygments_lexer": "ipython3",
   "version": "3.8.2-final"
  },
  "orig_nbformat": 2,
  "kernelspec": {
   "name": "Python 3.8.2 64-bit ('stackoverflow': conda)",
   "display_name": "Python 3.8.2 64-bit ('stackoverflow': conda)",
   "metadata": {
    "interpreter": {
     "hash": "f3131ab0c53afd587e929ab5f3e0081bb3b1675889ab2c259292a9bd8773e05a"
    }
   }
  }
 },
 "nbformat": 4,
 "nbformat_minor": 2,
 "cells": [
  {
   "source": [
    "# Time series databases"
   ],
   "cell_type": "markdown",
   "metadata": {}
  },
  {
   "source": [
    "Time series databases ([TSDB][1]) are specifically designed to store time series data, most importantly by storing time/value pairs. The use of time as a key index is perhaps the most important factor distinguishing them from, for example, relational ones.\n",
    "\n",
    "Because of the increased use of machine-generated data (e.g. IoT devices) they gained popularity relative to other database categories (by 180% over the last 24 months based on [DB-Engines][2])\n",
    "\n",
    "## Main types\n",
    "\n",
    "There are many different types of time series databases. As of October 2020 [DB-Engines][2] ranks the following ones as the top five:\n",
    "\n",
    "\n",
    "1. InfluxDB\n",
    "2. Kdb+\n",
    "3. Prometheus\t\n",
    "4. Graphite\t\n",
    "5. RRDtool\t\n",
    "\n",
    "\n",
    "[1]: https://db-engines.com/en/ranking/time+series+dbms\n",
    "[2]: https://en.wikipedia.org/wiki/Time_series_database"
   ],
   "cell_type": "markdown",
   "metadata": {}
  }
 ]
}