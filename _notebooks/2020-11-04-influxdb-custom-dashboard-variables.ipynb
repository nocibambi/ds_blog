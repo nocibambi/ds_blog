{
 "metadata": {
  "language_info": {
   "codemirror_mode": {
    "name": "ipython",
    "version": 3
   },
   "file_extension": ".py",
   "mimetype": "text/x-python",
   "name": "python",
   "nbconvert_exporter": "python",
   "pygments_lexer": "ipython3",
   "version": 3
  },
  "orig_nbformat": 2
 },
 "nbformat": 4,
 "nbformat_minor": 2,
 "cells": [
  {
   "source": [
    "# Custom dashboard variables in InfluxDB"
   ],
   "cell_type": "markdown",
   "metadata": {}
  },
  {
   "source": [
    "You can create a new variable in the **Data Explorer**, in the **Settings** or import from InfluxDB in JSON. Here we review the steps to create a variable in the **Data Explorer**"
   ],
   "cell_type": "markdown",
   "metadata": {}
  },
  {
   "source": [
    "## Dashboard variable types\n",
    "\n",
    "There are three types of dashboard variables. The types refert to the structuring of the variable's possible values.\n",
    "\n",
    "- Map: stores values as key/value pairs in a comma separated format. The UI presents the keys but works with the values.\n",
    "- Query: uses values from a Flux query's `_value` column. (If the values are in another colum, you can first rename that column to `_value`)\n",
    "- CSV: uses a CSV-formatted list."
   ],
   "cell_type": "markdown",
   "metadata": {}
  },
  {
   "source": [
    "## Create variable in Data Explorer\n",
    "\n",
    "1. Open the **Data Explorer**\n",
    "2. Build a query with the **Query Builder** or the **Script Editor**\n",
    "3. Select **Save As** at the top right corner\n",
    "4. Select the **Variable** tab.\n",
    "5. Add a name for the variable and click **Save as Variable**"
   ],
   "cell_type": "markdown",
   "metadata": {}
  },
  {
   "source": [
    "## Viewing dashboard variables\n",
    "\n",
    "You can view variables which belong to your **organization**.\n",
    "\n",
    "\n",
    "You can review them in two places:\n",
    "\n",
    "1. In the **Settings** menu on the **Variables** tab\n",
    "2. In the **Data Explorer**, in **Script Editor** mode under the **Variables** tab.\n",
    "\n"
   ],
   "cell_type": "markdown",
   "metadata": {}
  },
  {
   "source": [
    "## Update, export, or delete a dashboard variable\n",
    "\n",
    "1. Open the **Settings** menu in the navigation bar\n",
    "2. Select the **Variables** tab.\n",
    "3. For update, click on a variable's name in the list. To rename, export, or delete, select the appropriate icon in the top right corner of their card."
   ],
   "cell_type": "markdown",
   "metadata": {}
  },
  {
   "source": [
    "## Variable queries\n",
    "\n",
    "### List buckets\n",
    "\n",
    "```\n",
    "// List buckets in the current organization\n",
    "buckets()\n",
    "\n",
    "// Rename the `name` column to `_value`\n",
    "  |> rename(columns: {\"name\": \"_value\"})\n",
    "\n",
    "// Return a table only with the specific columns\n",
    "  |> keep(columns: [\"_value\"])\n",
    "```\n",
    "\n",
    "###  List measurements\n",
    "\n",
    "```\n",
    "// List all measurements in the bucket\n",
    "\n",
    "// Import the schema package\n",
    "import \"influxdata/influxdb/schema\"\n",
    "\n",
    "// List the measurements of the specified bucket\n",
    "schema.measurements(bucket: \"bucket-name\")\n",
    "```\n",
    "\n",
    "### List fields in a measurement\n",
    "List field in the specified bucket + measurement.\n",
    "\n",
    "```\n",
    "// Import the schema package\n",
    "import \"influxdata/influxdb/schema\"\n",
    "\n",
    "schema.measurementTagValues(\n",
    "  bucket: \"bucket-name\",\n",
    "  measurement: \"measurement-name\",\n",
    "  tag: \"_field\"\n",
    ")\n",
    "```\n",
    "\n",
    "## List unique tag values\n",
    "\n",
    "List the unique values of the `host` tag.\n",
    "\n",
    "\n",
    "```\n",
    "import \"influxdata/influxdb/schema\"\n",
    "\n",
    "schame.measurementTagValues(bucket: \"bucket-name\", tag: \"host\")\n",
    "```\n"
   ],
   "cell_type": "markdown",
   "metadata": {}
  },
  {
   "cell_type": "code",
   "execution_count": null,
   "metadata": {},
   "outputs": [],
   "source": []
  }
 ]
}