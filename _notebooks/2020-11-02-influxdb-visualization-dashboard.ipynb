{
 "metadata": {
  "language_info": {
   "codemirror_mode": {
    "name": "ipython",
    "version": 3
   },
   "file_extension": ".py",
   "mimetype": "text/x-python",
   "name": "python",
   "nbconvert_exporter": "python",
   "pygments_lexer": "ipython3",
   "version": 3
  },
  "orig_nbformat": 2
 },
 "nbformat": 4,
 "nbformat_minor": 2,
 "cells": [
  {
   "source": [
    "# Data visualization and dashboards with InfluxDB"
   ],
   "cell_type": "markdown",
   "metadata": {}
  },
  {
   "source": [
    "## Visualizations"
   ],
   "cell_type": "markdown",
   "metadata": {}
  },
  {
   "source": [
    "1. Open **Data Explorer**\n",
    "2. Create a flux query (either with the panel at the bottom, or writing manually in the **Script Editor**)\n",
    "3. Press **Submit** to run the query. This will generate the graph preview.\n",
    "\n",
    "- You can add further queries with the `+` button\n",
    "- You an hide/show the visualizations by clicking on the eye icon\n",
    "\n",
    "You can choose a different graph type from the left menu.\n",
    "\n",
    "To see you data in a tablet format, turn on the **View Raw Data** switch.\n",
    "\n",
    "You can refresh the dashboard with the refresh button. \n",
    "You can change the auto-refresh interval (by default it is stopped and shows a pause sign).\n",
    "\n",
    "You can save your query as a dashboard cell by clicking on the **Save as**"
   ],
   "cell_type": "markdown",
   "metadata": {}
  },
  {
   "source": [
    "## Dashboards"
   ],
   "cell_type": "markdown",
   "metadata": {}
  },
  {
   "source": [
    "1. Select the **Boards** menu item in the navigation menu.\n",
    "2. Select **Create Dashboard** menu in the middle and select **New Dashboard**\n",
    "3. Name the dashboard at the top field (saying **Name this dashboard**)\n",
    "\n",
    "You can also import a dashboard from a file or simply pasting a JSON file.\n",
    "\n",
    "You can also create a new dashboard from templates.\n",
    "\n",
    "You can also clone your dashboard and change it for another need."
   ],
   "cell_type": "markdown",
   "metadata": {}
  },
  {
   "source": [
    "For these operations you need to open a dashboard (e.g. by clicking on its name in the **Boards** screen).\n",
    "\n",
    "- You can add further data to your dashboard with the **Add cell** button at the top left corner.\n",
    "- You can add notes to your dashboard with the **Add Note** buttom at the top left corner.\n",
    "- Change time zone\n",
    "- Manually refresh\n",
    "- Set automatic refresh interval\n",
    "- Select time range\n"
   ],
   "cell_type": "markdown",
   "metadata": {}
  },
  {
   "source": [
    "## Further operations\n",
    "\n",
    "- **Export**: Click on the gear icon and select **Export**. You can export the dashboard as\n",
    "    - JSON file\n",
    "    - A template\n",
    "Or you can copy the JSON to the clipboard.\n",
    "\n",
    "\n",
    "- **Delete**"
   ],
   "cell_type": "markdown",
   "metadata": {}
  }
 ]
}