{
 "metadata": {
  "language_info": {
   "codemirror_mode": {
    "name": "ipython",
    "version": 3
   },
   "file_extension": ".py",
   "mimetype": "text/x-python",
   "name": "python",
   "nbconvert_exporter": "python",
   "pygments_lexer": "ipython3",
   "version": 3
  },
  "orig_nbformat": 2
 },
 "nbformat": 4,
 "nbformat_minor": 2,
 "cells": [
  {
   "source": [
    "# InfluxDB Design principles, Line Protocol, Data Schema"
   ],
   "cell_type": "markdown",
   "metadata": {}
  },
  {
   "source": [
    "## InfluxDB design principles\n",
    "\n",
    "- Time ordering\n",
    "- Restricted delete and update\n",
    "- Priority of read/write over consistency\n",
    "- Schemaless design allowing discontinous data\n",
    "- Priority of datasets over invdividual points. Points do not have IDs besides their timestamp and series.\n",
    "- Assuming duplicates status for identical points. If only field value is different, update with the latest.\n"
   ],
   "cell_type": "markdown",
   "metadata": {}
  },
  {
   "source": [
    "## Line protocol"
   ],
   "cell_type": "markdown",
   "metadata": {}
  },
  {
   "source": [
    "The elements of the line protocol\n",
    "\n",
    "- measurement\n",
    "- tag set\n",
    "- field set:\n",
    "    - double quote field values\n",
    "- timestamp\n",
    "\n",
    "\n",
    "```sh\n",
    "# An example\n",
    "myMeasurement,tag1=value1,tag2=value2 fieldKey=\"fieldValue\" 1556813561098000000\n",
    "```\n",
    "\n",
    "The line protocol is whitespace sensitive and `\\n` newlines separate single points.\n",
    "\n",
    "\n",
    "```shell\n",
    "measurementName,tagKey=tagValue [whitespace] fieldKey=\"fieldValue\" [whitespace] 1465839830100400200\n",
    "```\n",
    "\n",
    "\n",
    "For further information read the [documentation](https://docs.influxdata.com/influxdb/v2.0/reference/syntax/line-protocol/#elements-of-line-protocol)"
   ],
   "cell_type": "markdown",
   "metadata": {}
  },
  {
   "source": [
    "## Data Schema\n",
    "\n",
    "Tabular data schema\n",
    "\n",
    "You can use it to view raw data and return query results with annotated syntax.\n",
    "\n",
    "\n",
    "- annotation rows: describe column properties (e.g. datatype)\n",
    "- header row: column labels\n",
    "- data rows: the values defined in the header for each point\n",
    "- other columns: they are optional\n",
    "    - annotation\n",
    "    - result\n",
    "    - table\n",
    "- group keys: use for grouping\n"
   ],
   "cell_type": "markdown",
   "metadata": {}
  }
 ]
}