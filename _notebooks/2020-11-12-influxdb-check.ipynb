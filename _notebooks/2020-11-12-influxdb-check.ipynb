{
 "metadata": {
  "language_info": {
   "codemirror_mode": {
    "name": "ipython",
    "version": 3
   },
   "file_extension": ".py",
   "mimetype": "text/x-python",
   "name": "python",
   "nbconvert_exporter": "python",
   "pygments_lexer": "ipython3",
   "version": 3
  },
  "orig_nbformat": 2
 },
 "nbformat": 4,
 "nbformat_minor": 2,
 "cells": [
  {
   "source": [
    "# Checks in InlfuxDB"
   ],
   "cell_type": "markdown",
   "metadata": {}
  },
  {
   "source": [
    "You can use InfluxDB to monitor your data and generate notifications reporting its status.\n",
    "\n",
    "## Concepts\n",
    "\n",
    "- **Check**: generate statuses based on a queries expressing a conditino. It stores them in the `_monitoring` bucket (under `statuses` measurement)\n",
    "- **Notification rule**: check the `statuses` measurement and, based on its own conditions, triggers the notification endpoint. It also stores notifications in the `_monitoring` bucket (under `notifications` measurement)\n",
    "- **Notification endpoint**: "
   ],
   "cell_type": "markdown",
   "metadata": {}
  },
  {
   "source": [
    "## Checks\n",
    "\n",
    "The elements of a check:\n",
    "\n",
    "1. Query: Defines what to monitor.\n",
    "2. Configuration: defines check interval, messages, and status.\n",
    "\n",
    "Check types\n",
    "\n",
    "- **Threshold check**: monitors a value against (high/low) thresholds and assigns one of the following values: **CRIT**, **WARN**, **INFO**, **OK**.\n",
    "- **Deadman check**: monitors if a series or group responds within a given amount of time."
   ],
   "cell_type": "markdown",
   "metadata": {}
  },
  {
   "source": [
    "## Create a check\n",
    "\n",
    "1. Select the **Alerts** menu in the navigation pane.\n",
    "2. Click on **Create**\n",
    "3. Select the check type.\n",
    "\n",
    "## Query\n",
    "\n",
    "By default, you will find yourself in the **Define Query** screen.\n",
    "\n",
    "1. Select the **bucket**, the **measurement**, the **field**, and the **tag sets**.\n",
    "2. For threshold check: Select an **aggregate function** (e.g. mean, median, std, etc.).\n",
    "\n",
    "You can preview the results of the query by clicking on **Submit**.\n",
    "\n",
    "After these steps, select the **Configure Check** screen.\n",
    "\n",
    "1. Define the check schedule interval (this updates the aggregate function interval).\n",
    "2. Filter the check based on tags (Optional).\n",
    "3. Edit the status message template (Optional).\n",
    "\n",
    "- For threshold check: define the thresholds and rules that will trigger the specific statuses. You can also set them with the mouse by moving their respective labels on the preview screen.\n",
    "- For deadman check: specify the duration to check for, the status the lack of series or groups should trigger, and time after which it should stop checking the series / group.\n",
    "\n",
    "\n",
    "Finally, name the check at the top of the screen.\n",
    "\n",
    "Click the green checkmark to save the check."
   ],
   "cell_type": "markdown",
   "metadata": {}
  }
 ]
}