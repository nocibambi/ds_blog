{
 "metadata": {
  "language_info": {
   "codemirror_mode": {
    "name": "ipython",
    "version": 3
   },
   "file_extension": ".py",
   "mimetype": "text/x-python",
   "name": "python",
   "nbconvert_exporter": "python",
   "pygments_lexer": "ipython3",
   "version": "3.8.5-final"
  },
  "orig_nbformat": 2,
  "kernelspec": {
   "name": "Python 3.8.5 64-bit",
   "display_name": "Python 3.8.5 64-bit",
   "metadata": {
    "interpreter": {
     "hash": "8e6f8fd53d913fe50345f9e659ed342277121f637d2311273da0eef260503de3"
    }
   }
  }
 },
 "nbformat": 4,
 "nbformat_minor": 2,
 "cells": [
  {
   "source": [
    "# Linear regression 'from scratch' to predict Ethereum gas prices from transaction values"
   ],
   "cell_type": "markdown",
   "metadata": {}
  },
  {
   "source": [
    "In this post I go through the main steps of how to calculate a simple univariate linear regression model.\n",
    "\n",
    "For the example I try to predict Ethereum daily average gas prices from daily average transaction values. I pull the data from the public Google data base with BigQuery.\n",
    "\n",
    "Code and inspiration are based on Jason Brownlee's [\"Machine Learning Algorithms from Scratch\" book](https://machinelearningmastery.com/machine-learning-algorithms-from-scratch/)"
   ],
   "cell_type": "markdown",
   "metadata": {}
  },
  {
   "source": [
    "## Libraries and data load"
   ],
   "cell_type": "markdown",
   "metadata": {}
  },
  {
   "cell_type": "code",
   "execution_count": 3,
   "metadata": {},
   "outputs": [],
   "source": [
    "import os\n",
    "os.environ[\"GOOGLE_APPLICATION_CREDENTIALS\"]=os.path.expanduser(\"~/.credentials/Notebook bigquery-c422e406404b.json\")"
   ]
  },
  {
   "cell_type": "code",
   "execution_count": 4,
   "metadata": {},
   "outputs": [],
   "source": [
    "from google.cloud import bigquery\n",
    "client = bigquery.Client()"
   ]
  },
  {
   "cell_type": "code",
   "execution_count": 5,
   "metadata": {},
   "outputs": [
    {
     "output_type": "execute_result",
     "data": {
      "text/plain": "DataTransformerRegistry.enable('default')"
     },
     "metadata": {},
     "execution_count": 5
    }
   ],
   "source": [
    "import altair as alt\n",
    "alt.data_transformers.disable_max_rows()"
   ]
  },
  {
   "cell_type": "code",
   "execution_count": 10,
   "metadata": {},
   "outputs": [],
   "source": [
    "query =\"\"\"\n",
    "SELECT\n",
    "    EXTRACT(DATE FROM block_timestamp) AS date,\n",
    "    AVG(value) AS value,\n",
    "    AVG(gas_price) AS gas_price,    \n",
    "FROM `bigquery-public-data.ethereum_blockchain.transactions`\n",
    "WHERE\n",
    "    EXTRACT(YEAR FROM block_timestamp) = 2019\n",
    "GROUP BY date\n",
    "ORDER BY date\n",
    "\"\"\""
   ]
  },
  {
   "cell_type": "code",
   "execution_count": 11,
   "metadata": {},
   "outputs": [
    {
     "output_type": "execute_result",
     "data": {
      "text/plain": "        date         value     gas_price\n0 2019-01-01  3.719103e+18  1.431514e+10\n1 2019-01-02  4.649915e+18  1.349952e+10\n2 2019-01-03  4.188781e+18  1.269504e+10\n3 2019-01-04  6.958368e+18  1.418197e+10\n4 2019-01-05  8.167590e+18  2.410475e+10",
      "text/html": "<div>\n<style scoped>\n    .dataframe tbody tr th:only-of-type {\n        vertical-align: middle;\n    }\n\n    .dataframe tbody tr th {\n        vertical-align: top;\n    }\n\n    .dataframe thead th {\n        text-align: right;\n    }\n</style>\n<table border=\"1\" class=\"dataframe\">\n  <thead>\n    <tr style=\"text-align: right;\">\n      <th></th>\n      <th>date</th>\n      <th>value</th>\n      <th>gas_price</th>\n    </tr>\n  </thead>\n  <tbody>\n    <tr>\n      <th>0</th>\n      <td>2019-01-01</td>\n      <td>3.719103e+18</td>\n      <td>1.431514e+10</td>\n    </tr>\n    <tr>\n      <th>1</th>\n      <td>2019-01-02</td>\n      <td>4.649915e+18</td>\n      <td>1.349952e+10</td>\n    </tr>\n    <tr>\n      <th>2</th>\n      <td>2019-01-03</td>\n      <td>4.188781e+18</td>\n      <td>1.269504e+10</td>\n    </tr>\n    <tr>\n      <th>3</th>\n      <td>2019-01-04</td>\n      <td>6.958368e+18</td>\n      <td>1.418197e+10</td>\n    </tr>\n    <tr>\n      <th>4</th>\n      <td>2019-01-05</td>\n      <td>8.167590e+18</td>\n      <td>2.410475e+10</td>\n    </tr>\n  </tbody>\n</table>\n</div>"
     },
     "metadata": {},
     "execution_count": 11
    }
   ],
   "source": [
    "values = client.query(query).to_dataframe(dtypes={'value': float, 'gas_price': float}, date_as_object=False)\n",
    "values.head()"
   ]
  },
  {
   "source": [
    "## Calculating linear regression"
   ],
   "cell_type": "markdown",
   "metadata": {}
  },
  {
   "source": [
    "Linear regression makes predictions with the help of linear coefficient. For an univariate case, this is expressed as:\n",
    "\n",
    "$ \\hat{y} = b_0 + b_1 x $\n",
    "\n",
    "### Coefficients\n",
    "\n",
    "We can estimate the $b_0$ and $b_1$ coeffients in the following ways:\n",
    "\n",
    "$ b_1 = \\frac { \\sum_{i = 1}^{n} (x_i - \\bar{x} ) (y_i - \\bar{y} ) } { \\sum_{i=1}^{n} (x_i - \\bar{x})^2 } $\n",
    "\n",
    "$ b_0 = \\bar{y} - b_1 \\bar{x} $\n",
    "\n",
    "\n",
    "Where \n",
    "\n",
    "- $x$: the predictor variable\n",
    "- $y$: the variable to predict\n",
    "- $ \\bar{x} $ and $\\bar{y}$ are their respective means\n",
    "\n",
    "### Covariance and variance\n",
    "\n",
    "We can also can get the $b_1$ coefficient from the variance and covariance:\n",
    "\n",
    "- Covariance: $ \\text{Cov}(x, y) = \\frac  { \\sum_{i = 1}^{n} (x_i - \\bar{x} ) (y_i - \\bar{y} ) } { n } $\n",
    "- Variance: $ \\delta^2 = \\frac { { \\sum_{i=1}^{n} (x_i - \\bar{x})^2 } } { n } $\n",
    "\n",
    "From these, we can get\n",
    "\n",
    "$ b_1 = \\frac { \\text{Cov} } { \\delta^2 } $\n",
    "\n",
    "### Calculation steps\n",
    "\n",
    "Accordingly, we need to calculate the following metrics:\n",
    "\n",
    "1. Variable means for both $x$ and $y$\n",
    "2. Their deviations from the mean\n",
    "3. Covariance of $x$ and $y$\n",
    "4. Variance of $x$\n",
    "5. The $b_1$ coeffcient\n",
    "6. The $b_0$ coefficient\n",
    "7. $\\hat{y}$, that is, the predictions"
   ],
   "cell_type": "markdown",
   "metadata": {}
  },
  {
   "source": [
    "## Means"
   ],
   "cell_type": "markdown",
   "metadata": {}
  },
  {
   "source": [
    "values.mean()"
   ],
   "cell_type": "code",
   "metadata": {},
   "execution_count": 14,
   "outputs": [
    {
     "output_type": "execute_result",
     "data": {
      "text/plain": "value        3.173648e+18\ngas_price    1.616874e+10\ndtype: float64"
     },
     "metadata": {},
     "execution_count": 14
    }
   ]
  },
  {
   "source": [
    "## Deviations from the mean "
   ],
   "cell_type": "markdown",
   "metadata": {}
  },
  {
   "cell_type": "code",
   "execution_count": 19,
   "metadata": {},
   "outputs": [],
   "source": [
    "def deviation(array):\n",
    "    return array - array.mean()"
   ]
  },
  {
   "cell_type": "code",
   "execution_count": 49,
   "metadata": {},
   "outputs": [
    {
     "output_type": "execute_result",
     "data": {
      "text/plain": "0      5.454550e+17\n1      1.476267e+18\n2      1.015132e+18\n3      3.784720e+18\n4      4.993942e+18\n           ...     \n360   -1.004019e+18\n361   -1.259703e+18\n362   -1.050454e+18\n363   -6.660476e+17\n364    5.699485e+17\nName: value, Length: 365, dtype: float64"
     },
     "metadata": {},
     "execution_count": 49
    }
   ],
   "source": [
    "deviation(values['value'])"
   ]
  },
  {
   "source": [
    "## Covariance"
   ],
   "cell_type": "markdown",
   "metadata": {}
  },
  {
   "cell_type": "code",
   "execution_count": 41,
   "metadata": {},
   "outputs": [],
   "source": [
    "def covariance(arr1, arr2):\n",
    "    return (deviation(arr1) * deviation(arr2)).sum() / len(arr1)"
   ]
  },
  {
   "cell_type": "code",
   "execution_count": 75,
   "metadata": {},
   "outputs": [
    {
     "output_type": "execute_result",
     "data": {
      "text/plain": "2.8148882775011114e+27"
     },
     "metadata": {},
     "execution_count": 75
    }
   ],
   "source": [
    "covariance(values['value'], values['gas_price'])"
   ]
  },
  {
   "source": [
    "## Variance"
   ],
   "cell_type": "markdown",
   "metadata": {}
  },
  {
   "cell_type": "code",
   "execution_count": 77,
   "metadata": {},
   "outputs": [],
   "source": [
    "def variance(arr):\n",
    "    return (deviation(arr) ** 2).sum() / len(arr)"
   ]
  },
  {
   "cell_type": "code",
   "execution_count": 78,
   "metadata": {},
   "outputs": [
    {
     "output_type": "execute_result",
     "data": {
      "text/plain": "1.3829873312251886e+36"
     },
     "metadata": {},
     "execution_count": 78
    }
   ],
   "source": [
    "variance(values['value'])"
   ]
  },
  {
   "source": [
    "## The $b_1$ coefficient"
   ],
   "cell_type": "markdown",
   "metadata": {}
  },
  {
   "cell_type": "code",
   "execution_count": 57,
   "metadata": {},
   "outputs": [],
   "source": [
    "def b1(arr1, arr2):\n",
    "    return covariance(arr1, arr2) / variance(arr1)"
   ]
  },
  {
   "cell_type": "code",
   "execution_count": 79,
   "metadata": {},
   "outputs": [
    {
     "output_type": "execute_result",
     "data": {
      "text/plain": "2.035368086132359e-09"
     },
     "metadata": {},
     "execution_count": 79
    }
   ],
   "source": [
    "b1(values['value'], values['gas_price'])"
   ]
  },
  {
   "source": [
    "## The $b_0$ coefficient"
   ],
   "cell_type": "markdown",
   "metadata": {}
  },
  {
   "cell_type": "code",
   "execution_count": 59,
   "metadata": {},
   "outputs": [],
   "source": [
    "def b0(arr1, arr2):\n",
    "    return arr2.mean() - b1(arr1, arr2) * arr1.mean()"
   ]
  },
  {
   "cell_type": "code",
   "execution_count": 64,
   "metadata": {},
   "outputs": [
    {
     "output_type": "execute_result",
     "data": {
      "text/plain": "9709198058.151459"
     },
     "metadata": {},
     "execution_count": 64
    }
   ],
   "source": [
    "b_0 = b0(values['value'], values['gas_price'])\n",
    "b_0"
   ]
  },
  {
   "source": [
    "## Predictions"
   ],
   "cell_type": "markdown",
   "metadata": {}
  },
  {
   "cell_type": "code",
   "execution_count": 67,
   "metadata": {},
   "outputs": [],
   "source": [
    "values['predictions'] = b_0 + values['value'] * b_1"
   ]
  },
  {
   "cell_type": "code",
   "execution_count": 80,
   "metadata": {},
   "outputs": [
    {
     "output_type": "execute_result",
     "data": {
      "text/plain": "0      1.727894e+10\n1      1.917349e+10\n2      1.823491e+10\n3      2.387204e+10\n4      2.633325e+10\n           ...     \n360    1.412519e+10\n361    1.360478e+10\n362    1.403068e+10\n363    1.481309e+10\n364    1.732880e+10\nName: predictions, Length: 365, dtype: float64"
     },
     "metadata": {},
     "execution_count": 80
    }
   ],
   "source": [
    "values['predictions']"
   ]
  },
  {
   "cell_type": "code",
   "execution_count": 98,
   "metadata": {},
   "outputs": [
    {
     "output_type": "execute_result",
     "data": {
      "text/plain": "        date         value     gas_price   predictions\n0 2019-01-01  3.719103e+18  1.431514e+10  1.727894e+10\n1 2019-01-02  4.649915e+18  1.349952e+10  1.917349e+10\n2 2019-01-03  4.188781e+18  1.269504e+10  1.823491e+10\n3 2019-01-04  6.958368e+18  1.418197e+10  2.387204e+10\n4 2019-01-05  8.167590e+18  2.410475e+10  2.633325e+10",
      "text/html": "<div>\n<style scoped>\n    .dataframe tbody tr th:only-of-type {\n        vertical-align: middle;\n    }\n\n    .dataframe tbody tr th {\n        vertical-align: top;\n    }\n\n    .dataframe thead th {\n        text-align: right;\n    }\n</style>\n<table border=\"1\" class=\"dataframe\">\n  <thead>\n    <tr style=\"text-align: right;\">\n      <th></th>\n      <th>date</th>\n      <th>value</th>\n      <th>gas_price</th>\n      <th>predictions</th>\n    </tr>\n  </thead>\n  <tbody>\n    <tr>\n      <th>0</th>\n      <td>2019-01-01</td>\n      <td>3.719103e+18</td>\n      <td>1.431514e+10</td>\n      <td>1.727894e+10</td>\n    </tr>\n    <tr>\n      <th>1</th>\n      <td>2019-01-02</td>\n      <td>4.649915e+18</td>\n      <td>1.349952e+10</td>\n      <td>1.917349e+10</td>\n    </tr>\n    <tr>\n      <th>2</th>\n      <td>2019-01-03</td>\n      <td>4.188781e+18</td>\n      <td>1.269504e+10</td>\n      <td>1.823491e+10</td>\n    </tr>\n    <tr>\n      <th>3</th>\n      <td>2019-01-04</td>\n      <td>6.958368e+18</td>\n      <td>1.418197e+10</td>\n      <td>2.387204e+10</td>\n    </tr>\n    <tr>\n      <th>4</th>\n      <td>2019-01-05</td>\n      <td>8.167590e+18</td>\n      <td>2.410475e+10</td>\n      <td>2.633325e+10</td>\n    </tr>\n  </tbody>\n</table>\n</div>"
     },
     "metadata": {},
     "execution_count": 98
    }
   ],
   "source": [
    "values.head()"
   ]
  },
  {
   "source": [
    "## Plotting the results"
   ],
   "cell_type": "markdown",
   "metadata": {}
  },
  {
   "source": [
    "First we transform the data into long format"
   ],
   "cell_type": "markdown",
   "metadata": {}
  },
  {
   "cell_type": "code",
   "execution_count": 103,
   "metadata": {},
   "outputs": [
    {
     "output_type": "execute_result",
     "data": {
      "text/plain": "        date     status         value\n0 2019-01-01  gas_price  1.431514e+10\n1 2019-01-02  gas_price  1.349952e+10\n2 2019-01-03  gas_price  1.269504e+10\n3 2019-01-04  gas_price  1.418197e+10\n4 2019-01-05  gas_price  2.410475e+10",
      "text/html": "<div>\n<style scoped>\n    .dataframe tbody tr th:only-of-type {\n        vertical-align: middle;\n    }\n\n    .dataframe tbody tr th {\n        vertical-align: top;\n    }\n\n    .dataframe thead th {\n        text-align: right;\n    }\n</style>\n<table border=\"1\" class=\"dataframe\">\n  <thead>\n    <tr style=\"text-align: right;\">\n      <th></th>\n      <th>date</th>\n      <th>status</th>\n      <th>value</th>\n    </tr>\n  </thead>\n  <tbody>\n    <tr>\n      <th>0</th>\n      <td>2019-01-01</td>\n      <td>gas_price</td>\n      <td>1.431514e+10</td>\n    </tr>\n    <tr>\n      <th>1</th>\n      <td>2019-01-02</td>\n      <td>gas_price</td>\n      <td>1.349952e+10</td>\n    </tr>\n    <tr>\n      <th>2</th>\n      <td>2019-01-03</td>\n      <td>gas_price</td>\n      <td>1.269504e+10</td>\n    </tr>\n    <tr>\n      <th>3</th>\n      <td>2019-01-04</td>\n      <td>gas_price</td>\n      <td>1.418197e+10</td>\n    </tr>\n    <tr>\n      <th>4</th>\n      <td>2019-01-05</td>\n      <td>gas_price</td>\n      <td>2.410475e+10</td>\n    </tr>\n  </tbody>\n</table>\n</div>"
     },
     "metadata": {},
     "execution_count": 103
    }
   ],
   "source": [
    "to_plot = values.melt(id_vars=['date'], value_vars=['gas_price', 'predictions'], var_name='status')\n",
    "to_plot.head()"
   ]
  },
  {
   "source": [
    "Then, we plot the results."
   ],
   "cell_type": "markdown",
   "metadata": {}
  },
  {
   "cell_type": "code",
   "execution_count": 112,
   "metadata": {},
   "outputs": [
    {
     "output_type": "execute_result",
     "data": {
      "text/html": "\n<div id=\"altair-viz-69a2a58bb415447cb1532c2de44af9db\"></div>\n<script type=\"text/javascript\">\n  (function(spec, embedOpt){\n    let outputDiv = document.currentScript.previousElementSibling;\n    if (outputDiv.id !== \"altair-viz-69a2a58bb415447cb1532c2de44af9db\") {\n      outputDiv = document.getElementById(\"altair-viz-69a2a58bb415447cb1532c2de44af9db\");\n    }\n    const paths = {\n      \"vega\": \"https://cdn.jsdelivr.net/npm//vega@5?noext\",\n      \"vega-lib\": \"https://cdn.jsdelivr.net/npm//vega-lib?noext\",\n      \"vega-lite\": \"https://cdn.jsdelivr.net/npm//vega-lite@4.8.1?noext\",\n      \"vega-embed\": \"https://cdn.jsdelivr.net/npm//vega-embed@6?noext\",\n    };\n\n    function loadScript(lib) {\n      return new Promise(function(resolve, reject) {\n        var s = document.createElement('script');\n        s.src = paths[lib];\n        s.async = true;\n        s.onload = () => resolve(paths[lib]);\n        s.onerror = () => reject(`Error loading script: ${paths[lib]}`);\n        document.getElementsByTagName(\"head\")[0].appendChild(s);\n      });\n    }\n\n    function showError(err) {\n      outputDiv.innerHTML = `<div class=\"error\" style=\"color:red;\">${err}</div>`;\n      throw err;\n    }\n\n    function displayChart(vegaEmbed) {\n      vegaEmbed(outputDiv, spec, embedOpt)\n        .catch(err => showError(`Javascript Error: ${err.message}<br>This usually means there's a typo in your chart specification. See the javascript console for the full traceback.`));\n    }\n\n    if(typeof define === \"function\" && define.amd) {\n      requirejs.config({paths});\n      require([\"vega-embed\"], displayChart, err => showError(`Error loading script: ${err.message}`));\n    } else if (typeof vegaEmbed === \"function\") {\n      displayChart(vegaEmbed);\n    } else {\n      loadScript(\"vega\")\n        .then(() => loadScript(\"vega-lite\"))\n        .then(() => loadScript(\"vega-embed\"))\n        .catch(showError)\n        .then(() => displayChart(vegaEmbed));\n    }\n  })({\"config\": {\"view\": {\"continuousWidth\": 400, \"continuousHeight\": 300}}, \"layer\": [{\"mark\": \"line\", \"encoding\": {\"color\": {\"type\": \"nominal\", \"field\": \"status\"}, \"x\": {\"type\": \"temporal\", \"axis\": {\"format\": \"%x\", \"labelAngle\": 270}, \"field\": \"date\"}, \"y\": {\"type\": \"quantitative\", \"axis\": {\"format\": \",.2e\"}, \"field\": \"value\", \"scale\": {\"type\": \"log\"}}}, \"width\": 600}, {\"mark\": \"circle\", \"encoding\": {\"color\": {\"type\": \"nominal\", \"field\": \"status\"}, \"opacity\": {\"condition\": {\"value\": 1, \"selection\": \"selector030\"}, \"value\": 0}, \"x\": {\"type\": \"temporal\", \"axis\": {\"format\": \"%x\", \"labelAngle\": 270}, \"field\": \"date\"}, \"y\": {\"type\": \"quantitative\", \"axis\": {\"format\": \",.2e\"}, \"field\": \"value\", \"scale\": {\"type\": \"log\"}}}, \"selection\": {\"selector030\": {\"type\": \"single\", \"encodings\": [\"x\"], \"on\": \"mouseover\", \"nearest\": true, \"empty\": \"none\"}}, \"width\": 600}, {\"mark\": {\"type\": \"rule\", \"color\": \"darkgray\"}, \"encoding\": {\"x\": {\"type\": \"temporal\", \"field\": \"date\"}}, \"transform\": [{\"filter\": {\"selection\": \"selector030\"}}]}, {\"mark\": {\"type\": \"text\", \"align\": \"left\", \"dx\": 5, \"dy\": -5, \"stroke\": \"black\", \"strokeWidth\": 0.5}, \"encoding\": {\"color\": {\"type\": \"nominal\", \"field\": \"status\"}, \"text\": {\"type\": \"quantitative\", \"field\": \"value\", \"format\": \",.2e\"}, \"x\": {\"type\": \"temporal\", \"axis\": {\"format\": \"%x\", \"labelAngle\": 270}, \"field\": \"date\"}, \"y\": {\"type\": \"quantitative\", \"axis\": {\"format\": \",.2e\"}, \"field\": \"value\", \"scale\": {\"type\": \"log\"}}}, \"transform\": [{\"filter\": {\"selection\": \"selector030\"}}], \"width\": 600}, {\"mark\": {\"type\": \"text\", \"align\": \"left\", \"dx\": 5, \"dy\": -5}, \"encoding\": {\"color\": {\"type\": \"nominal\", \"field\": \"status\"}, \"text\": {\"type\": \"quantitative\", \"field\": \"value\", \"format\": \",.2e\"}, \"x\": {\"type\": \"temporal\", \"axis\": {\"format\": \"%x\", \"labelAngle\": 270}, \"field\": \"date\"}, \"y\": {\"type\": \"quantitative\", \"axis\": {\"format\": \",.2e\"}, \"field\": \"value\", \"scale\": {\"type\": \"log\"}}}, \"transform\": [{\"filter\": {\"selection\": \"selector030\"}}], \"width\": 600}], \"data\": {\"name\": \"data-c9276884325d28100c6da04ae7dd40ba\"}, \"height\": 400, \"title\": \"Gas prices and their predictions (log scale)\", \"width\": 600, \"$schema\": \"https://vega.github.io/schema/vega-lite/v4.8.1.json\", \"datasets\": {\"data-c9276884325d28100c6da04ae7dd40ba\": [{\"date\": \"2019-01-01T00:00:00\", \"status\": \"gas_price\", \"value\": 14315142889.145943}, {\"date\": \"2019-01-02T00:00:00\", \"status\": \"gas_price\", \"value\": 13499521218.479685}, {\"date\": \"2019-01-03T00:00:00\", \"status\": \"gas_price\", \"value\": 12695043341.144863}, {\"date\": \"2019-01-04T00:00:00\", \"status\": \"gas_price\", \"value\": 14181969584.39591}, {\"date\": \"2019-01-05T00:00:00\", \"status\": \"gas_price\", \"value\": 24104750527.720737}, {\"date\": \"2019-01-06T00:00:00\", \"status\": \"gas_price\", \"value\": 13415788989.912727}, {\"date\": \"2019-01-07T00:00:00\", \"status\": \"gas_price\", \"value\": 15720058234.205006}, {\"date\": \"2019-01-08T00:00:00\", \"status\": \"gas_price\", \"value\": 13657909933.728014}, {\"date\": \"2019-01-09T00:00:00\", \"status\": \"gas_price\", \"value\": 13513810184.239502}, {\"date\": \"2019-01-10T00:00:00\", \"status\": \"gas_price\", \"value\": 15353317537.891487}, {\"date\": \"2019-01-11T00:00:00\", \"status\": \"gas_price\", \"value\": 13623596488.87948}, {\"date\": \"2019-01-12T00:00:00\", \"status\": \"gas_price\", \"value\": 12173815219.40442}, {\"date\": \"2019-01-13T00:00:00\", \"status\": \"gas_price\", \"value\": 12292233182.47961}, {\"date\": \"2019-01-14T00:00:00\", \"status\": \"gas_price\", \"value\": 19170497164.09862}, {\"date\": \"2019-01-15T00:00:00\", \"status\": \"gas_price\", \"value\": 18382479128.083447}, {\"date\": \"2019-01-16T00:00:00\", \"status\": \"gas_price\", \"value\": 20583948506.261314}, {\"date\": \"2019-01-17T00:00:00\", \"status\": \"gas_price\", \"value\": 13577368389.678377}, {\"date\": \"2019-01-18T00:00:00\", \"status\": \"gas_price\", \"value\": 14354716512.804844}, {\"date\": \"2019-01-19T00:00:00\", \"status\": \"gas_price\", \"value\": 12391011086.775784}, {\"date\": \"2019-01-20T00:00:00\", \"status\": \"gas_price\", \"value\": 12337688742.512108}, {\"date\": \"2019-01-21T00:00:00\", \"status\": \"gas_price\", \"value\": 13502669872.581282}, {\"date\": \"2019-01-22T00:00:00\", \"status\": \"gas_price\", \"value\": 18531220647.97098}, {\"date\": \"2019-01-23T00:00:00\", \"status\": \"gas_price\", \"value\": 13263803398.196943}, {\"date\": \"2019-01-24T00:00:00\", \"status\": \"gas_price\", \"value\": 14353232108.046131}, {\"date\": \"2019-01-25T00:00:00\", \"status\": \"gas_price\", \"value\": 13840439478.527985}, {\"date\": \"2019-01-26T00:00:00\", \"status\": \"gas_price\", \"value\": 12589133944.202158}, {\"date\": \"2019-01-27T00:00:00\", \"status\": \"gas_price\", \"value\": 11769278879.409578}, {\"date\": \"2019-01-28T00:00:00\", \"status\": \"gas_price\", \"value\": 15188267293.277246}, {\"date\": \"2019-01-29T00:00:00\", \"status\": \"gas_price\", \"value\": 12419605789.641191}, {\"date\": \"2019-01-30T00:00:00\", \"status\": \"gas_price\", \"value\": 13039594019.551449}, {\"date\": \"2019-01-31T00:00:00\", \"status\": \"gas_price\", \"value\": 14185099542.783363}, {\"date\": \"2019-02-01T00:00:00\", \"status\": \"gas_price\", \"value\": 13213020381.671923}, {\"date\": \"2019-02-02T00:00:00\", \"status\": \"gas_price\", \"value\": 11945272141.662292}, {\"date\": \"2019-02-03T00:00:00\", \"status\": \"gas_price\", \"value\": 11599425759.446758}, {\"date\": \"2019-02-04T00:00:00\", \"status\": \"gas_price\", \"value\": 12038176843.991419}, {\"date\": \"2019-02-05T00:00:00\", \"status\": \"gas_price\", \"value\": 12551502885.032118}, {\"date\": \"2019-02-06T00:00:00\", \"status\": \"gas_price\", \"value\": 12572180915.256405}, {\"date\": \"2019-02-07T00:00:00\", \"status\": \"gas_price\", \"value\": 14024837996.980894}, {\"date\": \"2019-02-08T00:00:00\", \"status\": \"gas_price\", \"value\": 13284437647.547201}, {\"date\": \"2019-02-09T00:00:00\", \"status\": \"gas_price\", \"value\": 12363600588.758627}, {\"date\": \"2019-02-10T00:00:00\", \"status\": \"gas_price\", \"value\": 12843661007.019697}, {\"date\": \"2019-02-11T00:00:00\", \"status\": \"gas_price\", \"value\": 13943920200.235804}, {\"date\": \"2019-02-12T00:00:00\", \"status\": \"gas_price\", \"value\": 12998438367.625889}, {\"date\": \"2019-02-13T00:00:00\", \"status\": \"gas_price\", \"value\": 13681955215.749994}, {\"date\": \"2019-02-14T00:00:00\", \"status\": \"gas_price\", \"value\": 19107069178.142746}, {\"date\": \"2019-02-15T00:00:00\", \"status\": \"gas_price\", \"value\": 14732468819.567251}, {\"date\": \"2019-02-16T00:00:00\", \"status\": \"gas_price\", \"value\": 13479449377.505962}, {\"date\": \"2019-02-17T00:00:00\", \"status\": \"gas_price\", \"value\": 13729254463.139553}, {\"date\": \"2019-02-18T00:00:00\", \"status\": \"gas_price\", \"value\": 17066345359.55928}, {\"date\": \"2019-02-19T00:00:00\", \"status\": \"gas_price\", \"value\": 373537415906.3768}, {\"date\": \"2019-02-20T00:00:00\", \"status\": \"gas_price\", \"value\": 16071353124.481653}, {\"date\": \"2019-02-21T00:00:00\", \"status\": \"gas_price\", \"value\": 15301279312.013311}, {\"date\": \"2019-02-22T00:00:00\", \"status\": \"gas_price\", \"value\": 14906500367.376968}, {\"date\": \"2019-02-23T00:00:00\", \"status\": \"gas_price\", \"value\": 14038665092.719246}, {\"date\": \"2019-02-24T00:00:00\", \"status\": \"gas_price\", \"value\": 16250710476.300611}, {\"date\": \"2019-02-25T00:00:00\", \"status\": \"gas_price\", \"value\": 17016748385.490389}, {\"date\": \"2019-02-26T00:00:00\", \"status\": \"gas_price\", \"value\": 17411522198.505695}, {\"date\": \"2019-02-27T00:00:00\", \"status\": \"gas_price\", \"value\": 16333133968.050844}, {\"date\": \"2019-02-28T00:00:00\", \"status\": \"gas_price\", \"value\": 18828795385.196796}, {\"date\": \"2019-03-01T00:00:00\", \"status\": \"gas_price\", \"value\": 12927381010.813858}, {\"date\": \"2019-03-02T00:00:00\", \"status\": \"gas_price\", \"value\": 12055153413.57115}, {\"date\": \"2019-03-03T00:00:00\", \"status\": \"gas_price\", \"value\": 11963576046.21506}, {\"date\": \"2019-03-04T00:00:00\", \"status\": \"gas_price\", \"value\": 12586925298.775534}, {\"date\": \"2019-03-05T00:00:00\", \"status\": \"gas_price\", \"value\": 13416451614.20132}, {\"date\": \"2019-03-06T00:00:00\", \"status\": \"gas_price\", \"value\": 13941269746.353466}, {\"date\": \"2019-03-07T00:00:00\", \"status\": \"gas_price\", \"value\": 13606205052.058552}, {\"date\": \"2019-03-08T00:00:00\", \"status\": \"gas_price\", \"value\": 13375275525.359518}, {\"date\": \"2019-03-09T00:00:00\", \"status\": \"gas_price\", \"value\": 11860783671.243021}, {\"date\": \"2019-03-10T00:00:00\", \"status\": \"gas_price\", \"value\": 11983551088.385302}, {\"date\": \"2019-03-11T00:00:00\", \"status\": \"gas_price\", \"value\": 12399324152.554485}, {\"date\": \"2019-03-12T00:00:00\", \"status\": \"gas_price\", \"value\": 12158684765.006546}, {\"date\": \"2019-03-13T00:00:00\", \"status\": \"gas_price\", \"value\": 11624837408.300169}, {\"date\": \"2019-03-14T00:00:00\", \"status\": \"gas_price\", \"value\": 10989696263.509779}, {\"date\": \"2019-03-15T00:00:00\", \"status\": \"gas_price\", \"value\": 10940212075.542826}, {\"date\": \"2019-03-16T00:00:00\", \"status\": \"gas_price\", \"value\": 10309274810.279844}, {\"date\": \"2019-03-17T00:00:00\", \"status\": \"gas_price\", \"value\": 14443740238.441362}, {\"date\": \"2019-03-18T00:00:00\", \"status\": \"gas_price\", \"value\": 194266686358.90775}, {\"date\": \"2019-03-19T00:00:00\", \"status\": \"gas_price\", \"value\": 13048876404.340824}, {\"date\": \"2019-03-20T00:00:00\", \"status\": \"gas_price\", \"value\": 12113517345.709997}, {\"date\": \"2019-03-21T00:00:00\", \"status\": \"gas_price\", \"value\": 13795593836.984797}, {\"date\": \"2019-03-22T00:00:00\", \"status\": \"gas_price\", \"value\": 12524493040.65563}, {\"date\": \"2019-03-23T00:00:00\", \"status\": \"gas_price\", \"value\": 10946080954.559103}, {\"date\": \"2019-03-24T00:00:00\", \"status\": \"gas_price\", \"value\": 10956875286.327505}, {\"date\": \"2019-03-25T00:00:00\", \"status\": \"gas_price\", \"value\": 12489367039.117603}, {\"date\": \"2019-03-26T00:00:00\", \"status\": \"gas_price\", \"value\": 13016325389.375248}, {\"date\": \"2019-03-27T00:00:00\", \"status\": \"gas_price\", \"value\": 13538110998.516697}, {\"date\": \"2019-03-28T00:00:00\", \"status\": \"gas_price\", \"value\": 12169523606.319317}, {\"date\": \"2019-03-29T00:00:00\", \"status\": \"gas_price\", \"value\": 12522004706.028831}, {\"date\": \"2019-03-30T00:00:00\", \"status\": \"gas_price\", \"value\": 10372174778.038227}, {\"date\": \"2019-03-31T00:00:00\", \"status\": \"gas_price\", \"value\": 10506785000.666502}, {\"date\": \"2019-04-01T00:00:00\", \"status\": \"gas_price\", \"value\": 12504161043.854633}, {\"date\": \"2019-04-02T00:00:00\", \"status\": \"gas_price\", \"value\": 13831753794.218987}, {\"date\": \"2019-04-03T00:00:00\", \"status\": \"gas_price\", \"value\": 16724789805.634813}, {\"date\": \"2019-04-04T00:00:00\", \"status\": \"gas_price\", \"value\": 13670289736.210403}, {\"date\": \"2019-04-05T00:00:00\", \"status\": \"gas_price\", \"value\": 11802153034.062923}, {\"date\": \"2019-04-06T00:00:00\", \"status\": \"gas_price\", \"value\": 10710997658.490343}, {\"date\": \"2019-04-07T00:00:00\", \"status\": \"gas_price\", \"value\": 11287108181.417034}, {\"date\": \"2019-04-08T00:00:00\", \"status\": \"gas_price\", \"value\": 12491420245.660002}, {\"date\": \"2019-04-09T00:00:00\", \"status\": \"gas_price\", \"value\": 11997807262.885752}, {\"date\": \"2019-04-10T00:00:00\", \"status\": \"gas_price\", \"value\": 15176978195.08451}, {\"date\": \"2019-04-11T00:00:00\", \"status\": \"gas_price\", \"value\": 12460278246.548168}, {\"date\": \"2019-04-12T00:00:00\", \"status\": \"gas_price\", \"value\": 11627414484.56955}, {\"date\": \"2019-04-13T00:00:00\", \"status\": \"gas_price\", \"value\": 10598198089.885382}, {\"date\": \"2019-04-14T00:00:00\", \"status\": \"gas_price\", \"value\": 10321563354.917921}, {\"date\": \"2019-04-15T00:00:00\", \"status\": \"gas_price\", \"value\": 10545604318.815344}, {\"date\": \"2019-04-16T00:00:00\", \"status\": \"gas_price\", \"value\": 10722255078.780825}, {\"date\": \"2019-04-17T00:00:00\", \"status\": \"gas_price\", \"value\": 11247466001.906633}, {\"date\": \"2019-04-18T00:00:00\", \"status\": \"gas_price\", \"value\": 11899445742.906096}, {\"date\": \"2019-04-19T00:00:00\", \"status\": \"gas_price\", \"value\": 11015536488.938826}, {\"date\": \"2019-04-20T00:00:00\", \"status\": \"gas_price\", \"value\": 8972528637.82742}, {\"date\": \"2019-04-21T00:00:00\", \"status\": \"gas_price\", \"value\": 9475838125.425066}, {\"date\": \"2019-04-22T00:00:00\", \"status\": \"gas_price\", \"value\": 10727955034.444277}, {\"date\": \"2019-04-23T00:00:00\", \"status\": \"gas_price\", \"value\": 11214008798.863558}, {\"date\": \"2019-04-24T00:00:00\", \"status\": \"gas_price\", \"value\": 12100633453.267256}, {\"date\": \"2019-04-25T00:00:00\", \"status\": \"gas_price\", \"value\": 10495381232.645422}, {\"date\": \"2019-04-26T00:00:00\", \"status\": \"gas_price\", \"value\": 12053019099.709557}, {\"date\": \"2019-04-27T00:00:00\", \"status\": \"gas_price\", \"value\": 9606611204.372013}, {\"date\": \"2019-04-28T00:00:00\", \"status\": \"gas_price\", \"value\": 9363974399.108189}, {\"date\": \"2019-04-29T00:00:00\", \"status\": \"gas_price\", \"value\": 10299621089.87885}, {\"date\": \"2019-04-30T00:00:00\", \"status\": \"gas_price\", \"value\": 10086150999.263308}, {\"date\": \"2019-05-01T00:00:00\", \"status\": \"gas_price\", \"value\": 9759507361.48863}, {\"date\": \"2019-05-02T00:00:00\", \"status\": \"gas_price\", \"value\": 40341264571.365524}, {\"date\": \"2019-05-03T00:00:00\", \"status\": \"gas_price\", \"value\": 10976179677.857414}, {\"date\": \"2019-05-04T00:00:00\", \"status\": \"gas_price\", \"value\": 10066498232.23989}, {\"date\": \"2019-05-05T00:00:00\", \"status\": \"gas_price\", \"value\": 9671345585.629208}, {\"date\": \"2019-05-06T00:00:00\", \"status\": \"gas_price\", \"value\": 10575197237.092169}, {\"date\": \"2019-05-07T00:00:00\", \"status\": \"gas_price\", \"value\": 12553479114.672457}, {\"date\": \"2019-05-08T00:00:00\", \"status\": \"gas_price\", \"value\": 10961776250.894297}, {\"date\": \"2019-05-09T00:00:00\", \"status\": \"gas_price\", \"value\": 10629145315.85879}, {\"date\": \"2019-05-10T00:00:00\", \"status\": \"gas_price\", \"value\": 11358309468.6713}, {\"date\": \"2019-05-11T00:00:00\", \"status\": \"gas_price\", \"value\": 10883175280.97874}, {\"date\": \"2019-05-12T00:00:00\", \"status\": \"gas_price\", \"value\": 10808762189.401594}, {\"date\": \"2019-05-13T00:00:00\", \"status\": \"gas_price\", \"value\": 13655220194.331926}, {\"date\": \"2019-05-14T00:00:00\", \"status\": \"gas_price\", \"value\": 13324170896.80431}, {\"date\": \"2019-05-15T00:00:00\", \"status\": \"gas_price\", \"value\": 16256626442.958456}, {\"date\": \"2019-05-16T00:00:00\", \"status\": \"gas_price\", \"value\": 20964198058.343056}, {\"date\": \"2019-05-17T00:00:00\", \"status\": \"gas_price\", \"value\": 18176034249.59134}, {\"date\": \"2019-05-18T00:00:00\", \"status\": \"gas_price\", \"value\": 14695791113.283972}, {\"date\": \"2019-05-19T00:00:00\", \"status\": \"gas_price\", \"value\": 14010637942.158304}, {\"date\": \"2019-05-20T00:00:00\", \"status\": \"gas_price\", \"value\": 15506866617.056934}, {\"date\": \"2019-05-21T00:00:00\", \"status\": \"gas_price\", \"value\": 12938880344.252508}, {\"date\": \"2019-05-22T00:00:00\", \"status\": \"gas_price\", \"value\": 16397753342.687696}, {\"date\": \"2019-05-23T00:00:00\", \"status\": \"gas_price\", \"value\": 14454854613.574865}, {\"date\": \"2019-05-24T00:00:00\", \"status\": \"gas_price\", \"value\": 15042266916.414429}, {\"date\": \"2019-05-25T00:00:00\", \"status\": \"gas_price\", \"value\": 12097498199.299076}, {\"date\": \"2019-05-26T00:00:00\", \"status\": \"gas_price\", \"value\": 10765444798.979704}, {\"date\": \"2019-05-27T00:00:00\", \"status\": \"gas_price\", \"value\": 14692533800.325842}, {\"date\": \"2019-05-28T00:00:00\", \"status\": \"gas_price\", \"value\": 15107046576.578012}, {\"date\": \"2019-05-29T00:00:00\", \"status\": \"gas_price\", \"value\": 16588407345.780476}, {\"date\": \"2019-05-30T00:00:00\", \"status\": \"gas_price\", \"value\": 17350696740.681927}, {\"date\": \"2019-05-31T00:00:00\", \"status\": \"gas_price\", \"value\": 15858668907.4599}, {\"date\": \"2019-06-01T00:00:00\", \"status\": \"gas_price\", \"value\": 13486479705.99864}, {\"date\": \"2019-06-02T00:00:00\", \"status\": \"gas_price\", \"value\": 10826467027.30326}, {\"date\": \"2019-06-03T00:00:00\", \"status\": \"gas_price\", \"value\": 13621925373.57894}, {\"date\": \"2019-06-04T00:00:00\", \"status\": \"gas_price\", \"value\": 14314676697.94552}, {\"date\": \"2019-06-05T00:00:00\", \"status\": \"gas_price\", \"value\": 14714206624.414236}, {\"date\": \"2019-06-06T00:00:00\", \"status\": \"gas_price\", \"value\": 12763037622.556751}, {\"date\": \"2019-06-07T00:00:00\", \"status\": \"gas_price\", \"value\": 13536408978.823763}, {\"date\": \"2019-06-08T00:00:00\", \"status\": \"gas_price\", \"value\": 17833977397.409077}, {\"date\": \"2019-06-09T00:00:00\", \"status\": \"gas_price\", \"value\": 11736547597.631672}, {\"date\": \"2019-06-10T00:00:00\", \"status\": \"gas_price\", \"value\": 18736590066.33598}, {\"date\": \"2019-06-11T00:00:00\", \"status\": \"gas_price\", \"value\": 15286063573.323198}, {\"date\": \"2019-06-12T00:00:00\", \"status\": \"gas_price\", \"value\": 10687904409.14468}, {\"date\": \"2019-06-13T00:00:00\", \"status\": \"gas_price\", \"value\": 12462441565.499758}, {\"date\": \"2019-06-14T00:00:00\", \"status\": \"gas_price\", \"value\": 14488656180.24607}, {\"date\": \"2019-06-15T00:00:00\", \"status\": \"gas_price\", \"value\": 16621128283.843412}, {\"date\": \"2019-06-16T00:00:00\", \"status\": \"gas_price\", \"value\": 11723471543.086685}, {\"date\": \"2019-06-17T00:00:00\", \"status\": \"gas_price\", \"value\": 18012948405.273632}, {\"date\": \"2019-06-18T00:00:00\", \"status\": \"gas_price\", \"value\": 14123788706.207716}, {\"date\": \"2019-06-19T00:00:00\", \"status\": \"gas_price\", \"value\": 15123969502.831335}, {\"date\": \"2019-06-20T00:00:00\", \"status\": \"gas_price\", \"value\": 19142666832.55753}, {\"date\": \"2019-06-21T00:00:00\", \"status\": \"gas_price\", \"value\": 13116500533.454165}, {\"date\": \"2019-06-22T00:00:00\", \"status\": \"gas_price\", \"value\": 13053354853.989662}, {\"date\": \"2019-06-23T00:00:00\", \"status\": \"gas_price\", \"value\": 12864071155.826109}, {\"date\": \"2019-06-24T00:00:00\", \"status\": \"gas_price\", \"value\": 14320705395.91457}, {\"date\": \"2019-06-25T00:00:00\", \"status\": \"gas_price\", \"value\": 18393913181.896328}, {\"date\": \"2019-06-26T00:00:00\", \"status\": \"gas_price\", \"value\": 18216041457.002922}, {\"date\": \"2019-06-27T00:00:00\", \"status\": \"gas_price\", \"value\": 20523146772.8367}, {\"date\": \"2019-06-28T00:00:00\", \"status\": \"gas_price\", \"value\": 17825750475.81638}, {\"date\": \"2019-06-29T00:00:00\", \"status\": \"gas_price\", \"value\": 14940918163.38419}, {\"date\": \"2019-06-30T00:00:00\", \"status\": \"gas_price\", \"value\": 16104017148.185862}, {\"date\": \"2019-07-01T00:00:00\", \"status\": \"gas_price\", \"value\": 19495480701.714096}, {\"date\": \"2019-07-02T00:00:00\", \"status\": \"gas_price\", \"value\": 15707401801.979269}, {\"date\": \"2019-07-03T00:00:00\", \"status\": \"gas_price\", \"value\": 13421011843.617744}, {\"date\": \"2019-07-04T00:00:00\", \"status\": \"gas_price\", \"value\": 12332431760.11959}, {\"date\": \"2019-07-05T00:00:00\", \"status\": \"gas_price\", \"value\": 14966418456.74494}, {\"date\": \"2019-07-06T00:00:00\", \"status\": \"gas_price\", \"value\": 14105736513.629091}, {\"date\": \"2019-07-07T00:00:00\", \"status\": \"gas_price\", \"value\": 11104776037.97307}, {\"date\": \"2019-07-08T00:00:00\", \"status\": \"gas_price\", \"value\": 15357671729.064627}, {\"date\": \"2019-07-09T00:00:00\", \"status\": \"gas_price\", \"value\": 13354434732.006521}, {\"date\": \"2019-07-10T00:00:00\", \"status\": \"gas_price\", \"value\": 12311263459.138468}, {\"date\": \"2019-07-11T00:00:00\", \"status\": \"gas_price\", \"value\": 17659604203.620167}, {\"date\": \"2019-07-12T00:00:00\", \"status\": \"gas_price\", \"value\": 13858375813.898067}, {\"date\": \"2019-07-13T00:00:00\", \"status\": \"gas_price\", \"value\": 11648504712.711386}, {\"date\": \"2019-07-14T00:00:00\", \"status\": \"gas_price\", \"value\": 14549904866.125637}, {\"date\": \"2019-07-15T00:00:00\", \"status\": \"gas_price\", \"value\": 14391823350.859928}, {\"date\": \"2019-07-16T00:00:00\", \"status\": \"gas_price\", \"value\": 22086081173.105663}, {\"date\": \"2019-07-17T00:00:00\", \"status\": \"gas_price\", \"value\": 19039577901.73461}, {\"date\": \"2019-07-18T00:00:00\", \"status\": \"gas_price\", \"value\": 13146043766.110455}, {\"date\": \"2019-07-19T00:00:00\", \"status\": \"gas_price\", \"value\": 17313501866.343327}, {\"date\": \"2019-07-20T00:00:00\", \"status\": \"gas_price\", \"value\": 11810805732.136753}, {\"date\": \"2019-07-21T00:00:00\", \"status\": \"gas_price\", \"value\": 12415064190.04344}, {\"date\": \"2019-07-22T00:00:00\", \"status\": \"gas_price\", \"value\": 12068997937.863482}, {\"date\": \"2019-07-23T00:00:00\", \"status\": \"gas_price\", \"value\": 13393372879.434504}, {\"date\": \"2019-07-24T00:00:00\", \"status\": \"gas_price\", \"value\": 18739975652.7801}, {\"date\": \"2019-07-25T00:00:00\", \"status\": \"gas_price\", \"value\": 17913721825.6357}, {\"date\": \"2019-07-26T00:00:00\", \"status\": \"gas_price\", \"value\": 12793416890.2739}, {\"date\": \"2019-07-27T00:00:00\", \"status\": \"gas_price\", \"value\": 11902985197.889536}, {\"date\": \"2019-07-28T00:00:00\", \"status\": \"gas_price\", \"value\": 10821896262.927036}, {\"date\": \"2019-07-29T00:00:00\", \"status\": \"gas_price\", \"value\": 12353159145.726198}, {\"date\": \"2019-07-30T00:00:00\", \"status\": \"gas_price\", \"value\": 12961176518.002071}, {\"date\": \"2019-07-31T00:00:00\", \"status\": \"gas_price\", \"value\": 13082037369.675957}, {\"date\": \"2019-08-01T00:00:00\", \"status\": \"gas_price\", \"value\": 18280321204.77691}, {\"date\": \"2019-08-02T00:00:00\", \"status\": \"gas_price\", \"value\": 14792415477.555885}, {\"date\": \"2019-08-03T00:00:00\", \"status\": \"gas_price\", \"value\": 17574013265.751602}, {\"date\": \"2019-08-04T00:00:00\", \"status\": \"gas_price\", \"value\": 10388113968.01078}, {\"date\": \"2019-08-05T00:00:00\", \"status\": \"gas_price\", \"value\": 12187870498.771694}, {\"date\": \"2019-08-06T00:00:00\", \"status\": \"gas_price\", \"value\": 12139358648.336273}, {\"date\": \"2019-08-07T00:00:00\", \"status\": \"gas_price\", \"value\": 11717497891.19727}, {\"date\": \"2019-08-08T00:00:00\", \"status\": \"gas_price\", \"value\": 12938718897.003216}, {\"date\": \"2019-08-09T00:00:00\", \"status\": \"gas_price\", \"value\": 13260251621.328356}, {\"date\": \"2019-08-10T00:00:00\", \"status\": \"gas_price\", \"value\": 12172213257.774445}, {\"date\": \"2019-08-11T00:00:00\", \"status\": \"gas_price\", \"value\": 11564609919.233292}, {\"date\": \"2019-08-12T00:00:00\", \"status\": \"gas_price\", \"value\": 12868397974.671618}, {\"date\": \"2019-08-13T00:00:00\", \"status\": \"gas_price\", \"value\": 18838946735.008232}, {\"date\": \"2019-08-14T00:00:00\", \"status\": \"gas_price\", \"value\": 12123110518.761435}, {\"date\": \"2019-08-15T00:00:00\", \"status\": \"gas_price\", \"value\": 14148150753.593416}, {\"date\": \"2019-08-16T00:00:00\", \"status\": \"gas_price\", \"value\": 12114359150.300108}, {\"date\": \"2019-08-17T00:00:00\", \"status\": \"gas_price\", \"value\": 10563371318.20903}, {\"date\": \"2019-08-18T00:00:00\", \"status\": \"gas_price\", \"value\": 11034062177.674665}, {\"date\": \"2019-08-19T00:00:00\", \"status\": \"gas_price\", \"value\": 13796809850.16007}, {\"date\": \"2019-08-20T00:00:00\", \"status\": \"gas_price\", \"value\": 13718778876.038692}, {\"date\": \"2019-08-21T00:00:00\", \"status\": \"gas_price\", \"value\": 16114389266.714102}, {\"date\": \"2019-08-22T00:00:00\", \"status\": \"gas_price\", \"value\": 14723959421.29444}, {\"date\": \"2019-08-23T00:00:00\", \"status\": \"gas_price\", \"value\": 13873813418.871763}, {\"date\": \"2019-08-24T00:00:00\", \"status\": \"gas_price\", \"value\": 12920227453.232563}, {\"date\": \"2019-08-25T00:00:00\", \"status\": \"gas_price\", \"value\": 13821837015.355513}, {\"date\": \"2019-08-26T00:00:00\", \"status\": \"gas_price\", \"value\": 17088918181.935698}, {\"date\": \"2019-08-27T00:00:00\", \"status\": \"gas_price\", \"value\": 14634259687.98456}, {\"date\": \"2019-08-28T00:00:00\", \"status\": \"gas_price\", \"value\": 14683870414.689789}, {\"date\": \"2019-08-29T00:00:00\", \"status\": \"gas_price\", \"value\": 14960110915.98668}, {\"date\": \"2019-08-30T00:00:00\", \"status\": \"gas_price\", \"value\": 14677822912.066103}, {\"date\": \"2019-08-31T00:00:00\", \"status\": \"gas_price\", \"value\": 14071247778.68958}, {\"date\": \"2019-09-01T00:00:00\", \"status\": \"gas_price\", \"value\": 14732668912.951118}, {\"date\": \"2019-09-02T00:00:00\", \"status\": \"gas_price\", \"value\": 15922512329.470194}, {\"date\": \"2019-09-03T00:00:00\", \"status\": \"gas_price\", \"value\": 14921310953.544798}, {\"date\": \"2019-09-04T00:00:00\", \"status\": \"gas_price\", \"value\": 14791560414.225723}, {\"date\": \"2019-09-05T00:00:00\", \"status\": \"gas_price\", \"value\": 18530078952.53841}, {\"date\": \"2019-09-06T00:00:00\", \"status\": \"gas_price\", \"value\": 18496725304.965233}, {\"date\": \"2019-09-07T00:00:00\", \"status\": \"gas_price\", \"value\": 17632530479.305798}, {\"date\": \"2019-09-08T00:00:00\", \"status\": \"gas_price\", \"value\": 18511810107.514267}, {\"date\": \"2019-09-09T00:00:00\", \"status\": \"gas_price\", \"value\": 20485600367.528507}, {\"date\": \"2019-09-10T00:00:00\", \"status\": \"gas_price\", \"value\": 21893562544.670563}, {\"date\": \"2019-09-11T00:00:00\", \"status\": \"gas_price\", \"value\": 21338785474.113106}, {\"date\": \"2019-09-12T00:00:00\", \"status\": \"gas_price\", \"value\": 22871476411.199093}, {\"date\": \"2019-09-13T00:00:00\", \"status\": \"gas_price\", \"value\": 21988452520.57916}, {\"date\": \"2019-09-14T00:00:00\", \"status\": \"gas_price\", \"value\": 22834967681.785786}, {\"date\": \"2019-09-15T00:00:00\", \"status\": \"gas_price\", \"value\": 22236047670.604507}, {\"date\": \"2019-09-16T00:00:00\", \"status\": \"gas_price\", \"value\": 22817267228.20903}, {\"date\": \"2019-09-17T00:00:00\", \"status\": \"gas_price\", \"value\": 26399503002.216927}, {\"date\": \"2019-09-18T00:00:00\", \"status\": \"gas_price\", \"value\": 28365773094.483418}, {\"date\": \"2019-09-19T00:00:00\", \"status\": \"gas_price\", \"value\": 29777963294.17413}, {\"date\": \"2019-09-20T00:00:00\", \"status\": \"gas_price\", \"value\": 28526250719.641983}, {\"date\": \"2019-09-21T00:00:00\", \"status\": \"gas_price\", \"value\": 23140282797.509495}, {\"date\": \"2019-09-22T00:00:00\", \"status\": \"gas_price\", \"value\": 20590632022.558315}, {\"date\": \"2019-09-23T00:00:00\", \"status\": \"gas_price\", \"value\": 25255801042.599834}, {\"date\": \"2019-09-24T00:00:00\", \"status\": \"gas_price\", \"value\": 28995093148.55359}, {\"date\": \"2019-09-25T00:00:00\", \"status\": \"gas_price\", \"value\": 34505552333.84905}, {\"date\": \"2019-09-26T00:00:00\", \"status\": \"gas_price\", \"value\": 24831091092.37379}, {\"date\": \"2019-09-27T00:00:00\", \"status\": \"gas_price\", \"value\": 25298724391.555347}, {\"date\": \"2019-09-28T00:00:00\", \"status\": \"gas_price\", \"value\": 22560249320.503246}, {\"date\": \"2019-09-29T00:00:00\", \"status\": \"gas_price\", \"value\": 23500550119.6079}, {\"date\": \"2019-09-30T00:00:00\", \"status\": \"gas_price\", \"value\": 21684520866.035156}, {\"date\": \"2019-10-01T00:00:00\", \"status\": \"gas_price\", \"value\": 14781049721.21979}, {\"date\": \"2019-10-02T00:00:00\", \"status\": \"gas_price\", \"value\": 14772438926.092075}, {\"date\": \"2019-10-03T00:00:00\", \"status\": \"gas_price\", \"value\": 16407408336.671663}, {\"date\": \"2019-10-04T00:00:00\", \"status\": \"gas_price\", \"value\": 16613882216.84208}, {\"date\": \"2019-10-05T00:00:00\", \"status\": \"gas_price\", \"value\": 15294772837.044483}, {\"date\": \"2019-10-06T00:00:00\", \"status\": \"gas_price\", \"value\": 13847522631.574123}, {\"date\": \"2019-10-07T00:00:00\", \"status\": \"gas_price\", \"value\": 14662439610.036695}, {\"date\": \"2019-10-08T00:00:00\", \"status\": \"gas_price\", \"value\": 14780478594.538527}, {\"date\": \"2019-10-09T00:00:00\", \"status\": \"gas_price\", \"value\": 16931636429.056364}, {\"date\": \"2019-10-10T00:00:00\", \"status\": \"gas_price\", \"value\": 15830259492.878628}, {\"date\": \"2019-10-11T00:00:00\", \"status\": \"gas_price\", \"value\": 15347748040.868813}, {\"date\": \"2019-10-12T00:00:00\", \"status\": \"gas_price\", \"value\": 14521288688.047262}, {\"date\": \"2019-10-13T00:00:00\", \"status\": \"gas_price\", \"value\": 15205496605.485388}, {\"date\": \"2019-10-14T00:00:00\", \"status\": \"gas_price\", \"value\": 15193558342.53717}, {\"date\": \"2019-10-15T00:00:00\", \"status\": \"gas_price\", \"value\": 15078048201.27983}, {\"date\": \"2019-10-16T00:00:00\", \"status\": \"gas_price\", \"value\": 14442536505.862288}, {\"date\": \"2019-10-17T00:00:00\", \"status\": \"gas_price\", \"value\": 14085367410.135777}, {\"date\": \"2019-10-18T00:00:00\", \"status\": \"gas_price\", \"value\": 14274341744.28422}, {\"date\": \"2019-10-19T00:00:00\", \"status\": \"gas_price\", \"value\": 14160476025.259829}, {\"date\": \"2019-10-20T00:00:00\", \"status\": \"gas_price\", \"value\": 15559116072.132044}, {\"date\": \"2019-10-21T00:00:00\", \"status\": \"gas_price\", \"value\": 15266270346.563036}, {\"date\": \"2019-10-22T00:00:00\", \"status\": \"gas_price\", \"value\": 16331757175.08962}, {\"date\": \"2019-10-23T00:00:00\", \"status\": \"gas_price\", \"value\": 18813665909.726673}, {\"date\": \"2019-10-24T00:00:00\", \"status\": \"gas_price\", \"value\": 15227776777.778873}, {\"date\": \"2019-10-25T00:00:00\", \"status\": \"gas_price\", \"value\": 16002570283.002058}, {\"date\": \"2019-10-26T00:00:00\", \"status\": \"gas_price\", \"value\": 15991853518.35314}, {\"date\": \"2019-10-27T00:00:00\", \"status\": \"gas_price\", \"value\": 14655154975.752813}, {\"date\": \"2019-10-28T00:00:00\", \"status\": \"gas_price\", \"value\": 16046758542.702173}, {\"date\": \"2019-10-29T00:00:00\", \"status\": \"gas_price\", \"value\": 16274384920.84929}, {\"date\": \"2019-10-30T00:00:00\", \"status\": \"gas_price\", \"value\": 16141508326.649279}, {\"date\": \"2019-10-31T00:00:00\", \"status\": \"gas_price\", \"value\": 15961552606.427937}, {\"date\": \"2019-11-01T00:00:00\", \"status\": \"gas_price\", \"value\": 15321987417.572718}, {\"date\": \"2019-11-02T00:00:00\", \"status\": \"gas_price\", \"value\": 14224241993.929321}, {\"date\": \"2019-11-03T00:00:00\", \"status\": \"gas_price\", \"value\": 14550149168.317661}, {\"date\": \"2019-11-04T00:00:00\", \"status\": \"gas_price\", \"value\": 15052772930.521759}, {\"date\": \"2019-11-05T00:00:00\", \"status\": \"gas_price\", \"value\": 14465881627.174042}, {\"date\": \"2019-11-06T00:00:00\", \"status\": \"gas_price\", \"value\": 13845995029.108974}, {\"date\": \"2019-11-07T00:00:00\", \"status\": \"gas_price\", \"value\": 17177221542.859785}, {\"date\": \"2019-11-08T00:00:00\", \"status\": \"gas_price\", \"value\": 14127759344.071516}, {\"date\": \"2019-11-09T00:00:00\", \"status\": \"gas_price\", \"value\": 14300394285.133938}, {\"date\": \"2019-11-10T00:00:00\", \"status\": \"gas_price\", \"value\": 13850949717.7438}, {\"date\": \"2019-11-11T00:00:00\", \"status\": \"gas_price\", \"value\": 14747036207.396698}, {\"date\": \"2019-11-12T00:00:00\", \"status\": \"gas_price\", \"value\": 14518867195.81945}, {\"date\": \"2019-11-13T00:00:00\", \"status\": \"gas_price\", \"value\": 14931341099.758415}, {\"date\": \"2019-11-14T00:00:00\", \"status\": \"gas_price\", \"value\": 15963193058.319746}, {\"date\": \"2019-11-15T00:00:00\", \"status\": \"gas_price\", \"value\": 14416136367.862843}, {\"date\": \"2019-11-16T00:00:00\", \"status\": \"gas_price\", \"value\": 13075206899.323515}, {\"date\": \"2019-11-17T00:00:00\", \"status\": \"gas_price\", \"value\": 13579132571.024006}, {\"date\": \"2019-11-18T00:00:00\", \"status\": \"gas_price\", \"value\": 21587135502.504177}, {\"date\": \"2019-11-19T00:00:00\", \"status\": \"gas_price\", \"value\": 14256562237.51926}, {\"date\": \"2019-11-20T00:00:00\", \"status\": \"gas_price\", \"value\": 15019514150.590528}, {\"date\": \"2019-11-21T00:00:00\", \"status\": \"gas_price\", \"value\": 17806076490.97582}, {\"date\": \"2019-11-22T00:00:00\", \"status\": \"gas_price\", \"value\": 23860020478.02895}, {\"date\": \"2019-11-23T00:00:00\", \"status\": \"gas_price\", \"value\": 13460039572.623714}, {\"date\": \"2019-11-24T00:00:00\", \"status\": \"gas_price\", \"value\": 13754131455.100632}, {\"date\": \"2019-11-25T00:00:00\", \"status\": \"gas_price\", \"value\": 20117940341.82736}, {\"date\": \"2019-11-26T00:00:00\", \"status\": \"gas_price\", \"value\": 16313983190.967009}, {\"date\": \"2019-11-27T00:00:00\", \"status\": \"gas_price\", \"value\": 14455380894.50836}, {\"date\": \"2019-11-28T00:00:00\", \"status\": \"gas_price\", \"value\": 14607340826.229788}, {\"date\": \"2019-11-29T00:00:00\", \"status\": \"gas_price\", \"value\": 13447918522.453352}, {\"date\": \"2019-11-30T00:00:00\", \"status\": \"gas_price\", \"value\": 13159635313.623148}, {\"date\": \"2019-12-01T00:00:00\", \"status\": \"gas_price\", \"value\": 16143356637.321142}, {\"date\": \"2019-12-02T00:00:00\", \"status\": \"gas_price\", \"value\": 15202735292.441095}, {\"date\": \"2019-12-03T00:00:00\", \"status\": \"gas_price\", \"value\": 13974400140.088074}, {\"date\": \"2019-12-04T00:00:00\", \"status\": \"gas_price\", \"value\": 13985771861.293497}, {\"date\": \"2019-12-05T00:00:00\", \"status\": \"gas_price\", \"value\": 13288101213.021933}, {\"date\": \"2019-12-06T00:00:00\", \"status\": \"gas_price\", \"value\": 13462023783.082895}, {\"date\": \"2019-12-07T00:00:00\", \"status\": \"gas_price\", \"value\": 12136209109.727436}, {\"date\": \"2019-12-08T00:00:00\", \"status\": \"gas_price\", \"value\": 9616107817.826738}, {\"date\": \"2019-12-09T00:00:00\", \"status\": \"gas_price\", \"value\": 11583325488.288395}, {\"date\": \"2019-12-10T00:00:00\", \"status\": \"gas_price\", \"value\": 12193590221.443087}, {\"date\": \"2019-12-11T00:00:00\", \"status\": \"gas_price\", \"value\": 13178906108.727484}, {\"date\": \"2019-12-12T00:00:00\", \"status\": \"gas_price\", \"value\": 12084892087.33682}, {\"date\": \"2019-12-13T00:00:00\", \"status\": \"gas_price\", \"value\": 12012144513.820158}, {\"date\": \"2019-12-14T00:00:00\", \"status\": \"gas_price\", \"value\": 11628995251.5801}, {\"date\": \"2019-12-15T00:00:00\", \"status\": \"gas_price\", \"value\": 12351635009.503233}, {\"date\": \"2019-12-16T00:00:00\", \"status\": \"gas_price\", \"value\": 13510950391.636923}, {\"date\": \"2019-12-17T00:00:00\", \"status\": \"gas_price\", \"value\": 15385205487.200768}, {\"date\": \"2019-12-18T00:00:00\", \"status\": \"gas_price\", \"value\": 16472648521.39225}, {\"date\": \"2019-12-19T00:00:00\", \"status\": \"gas_price\", \"value\": 12734043476.553686}, {\"date\": \"2019-12-20T00:00:00\", \"status\": \"gas_price\", \"value\": 12975504495.38009}, {\"date\": \"2019-12-21T00:00:00\", \"status\": \"gas_price\", \"value\": 11564292445.088812}, {\"date\": \"2019-12-22T00:00:00\", \"status\": \"gas_price\", \"value\": 11027415250.106451}, {\"date\": \"2019-12-23T00:00:00\", \"status\": \"gas_price\", \"value\": 12717961964.828913}, {\"date\": \"2019-12-24T00:00:00\", \"status\": \"gas_price\", \"value\": 11734131588.454784}, {\"date\": \"2019-12-25T00:00:00\", \"status\": \"gas_price\", \"value\": 11906752772.223349}, {\"date\": \"2019-12-26T00:00:00\", \"status\": \"gas_price\", \"value\": 11923552524.528252}, {\"date\": \"2019-12-27T00:00:00\", \"status\": \"gas_price\", \"value\": 12089403345.747084}, {\"date\": \"2019-12-28T00:00:00\", \"status\": \"gas_price\", \"value\": 11799263252.668003}, {\"date\": \"2019-12-29T00:00:00\", \"status\": \"gas_price\", \"value\": 11237678855.096022}, {\"date\": \"2019-12-30T00:00:00\", \"status\": \"gas_price\", \"value\": 11976381560.49635}, {\"date\": \"2019-12-31T00:00:00\", \"status\": \"gas_price\", \"value\": 14012024992.610601}, {\"date\": \"2019-01-01T00:00:00\", \"status\": \"predictions\", \"value\": 17278941895.59642}, {\"date\": \"2019-01-02T00:00:00\", \"status\": \"predictions\", \"value\": 19173486721.415627}, {\"date\": \"2019-01-03T00:00:00\", \"status\": \"predictions\", \"value\": 18234908396.49792}, {\"date\": \"2019-01-04T00:00:00\", \"status\": \"predictions\", \"value\": 23872037918.12377}, {\"date\": \"2019-01-05T00:00:00\", \"status\": \"predictions\", \"value\": 26333250957.51525}, {\"date\": \"2019-01-06T00:00:00\", \"status\": \"predictions\", \"value\": 19755924029.944584}, {\"date\": \"2019-01-07T00:00:00\", \"status\": \"predictions\", \"value\": 19420308274.87774}, {\"date\": \"2019-01-08T00:00:00\", \"status\": \"predictions\", \"value\": 18327746169.74043}, {\"date\": \"2019-01-09T00:00:00\", \"status\": \"predictions\", \"value\": 17704149313.45541}, {\"date\": \"2019-01-10T00:00:00\", \"status\": \"predictions\", \"value\": 20738446004.79524}, {\"date\": \"2019-01-11T00:00:00\", \"status\": \"predictions\", \"value\": 24309241721.799393}, {\"date\": \"2019-01-12T00:00:00\", \"status\": \"predictions\", \"value\": 16393668221.188389}, {\"date\": \"2019-01-13T00:00:00\", \"status\": \"predictions\", \"value\": 17218279797.494415}, {\"date\": \"2019-01-14T00:00:00\", \"status\": \"predictions\", \"value\": 21912420916.827324}, {\"date\": \"2019-01-15T00:00:00\", \"status\": \"predictions\", \"value\": 18706065000.642998}, {\"date\": \"2019-01-16T00:00:00\", \"status\": \"predictions\", \"value\": 20332794290.962143}, {\"date\": \"2019-01-17T00:00:00\", \"status\": \"predictions\", \"value\": 18204945392.24896}, {\"date\": \"2019-01-18T00:00:00\", \"status\": \"predictions\", \"value\": 16389988691.991919}, {\"date\": \"2019-01-19T00:00:00\", \"status\": \"predictions\", \"value\": 15224911884.606087}, {\"date\": \"2019-01-20T00:00:00\", \"status\": \"predictions\", \"value\": 16224797222.611643}, {\"date\": \"2019-01-21T00:00:00\", \"status\": \"predictions\", \"value\": 16127837228.10336}, {\"date\": \"2019-01-22T00:00:00\", \"status\": \"predictions\", \"value\": 15894499023.107553}, {\"date\": \"2019-01-23T00:00:00\", \"status\": \"predictions\", \"value\": 17245619885.379486}, {\"date\": \"2019-01-24T00:00:00\", \"status\": \"predictions\", \"value\": 19011896815.781742}, {\"date\": \"2019-01-25T00:00:00\", \"status\": \"predictions\", \"value\": 17642482038.692974}, {\"date\": \"2019-01-26T00:00:00\", \"status\": \"predictions\", \"value\": 15362557466.885902}, {\"date\": \"2019-01-27T00:00:00\", \"status\": \"predictions\", \"value\": 17488708421.859734}, {\"date\": \"2019-01-28T00:00:00\", \"status\": \"predictions\", \"value\": 21347872875.017998}, {\"date\": \"2019-01-29T00:00:00\", \"status\": \"predictions\", \"value\": 17919091224.21734}, {\"date\": \"2019-01-30T00:00:00\", \"status\": \"predictions\", \"value\": 18402100626.747932}, {\"date\": \"2019-01-31T00:00:00\", \"status\": \"predictions\", \"value\": 18983593591.58982}, {\"date\": \"2019-02-01T00:00:00\", \"status\": \"predictions\", \"value\": 17687866573.82348}, {\"date\": \"2019-02-02T00:00:00\", \"status\": \"predictions\", \"value\": 15225323764.771278}, {\"date\": \"2019-02-03T00:00:00\", \"status\": \"predictions\", \"value\": 15938141431.960827}, {\"date\": \"2019-02-04T00:00:00\", \"status\": \"predictions\", \"value\": 14733899725.70264}, {\"date\": \"2019-02-05T00:00:00\", \"status\": \"predictions\", \"value\": 14559938073.270279}, {\"date\": \"2019-02-06T00:00:00\", \"status\": \"predictions\", \"value\": 18055068175.67353}, {\"date\": \"2019-02-07T00:00:00\", \"status\": \"predictions\", \"value\": 16586185180.503271}, {\"date\": \"2019-02-08T00:00:00\", \"status\": \"predictions\", \"value\": 18996620651.18769}, {\"date\": \"2019-02-09T00:00:00\", \"status\": \"predictions\", \"value\": 15360844978.80291}, {\"date\": \"2019-02-10T00:00:00\", \"status\": \"predictions\", \"value\": 17450431920.01822}, {\"date\": \"2019-02-11T00:00:00\", \"status\": \"predictions\", \"value\": 18774085601.8927}, {\"date\": \"2019-02-12T00:00:00\", \"status\": \"predictions\", \"value\": 16862013266.622032}, {\"date\": \"2019-02-13T00:00:00\", \"status\": \"predictions\", \"value\": 17187018402.096996}, {\"date\": \"2019-02-14T00:00:00\", \"status\": \"predictions\", \"value\": 16860798178.622334}, {\"date\": \"2019-02-15T00:00:00\", \"status\": \"predictions\", \"value\": 16611649010.932621}, {\"date\": \"2019-02-16T00:00:00\", \"status\": \"predictions\", \"value\": 14551347416.894722}, {\"date\": \"2019-02-17T00:00:00\", \"status\": \"predictions\", \"value\": 17683870543.179123}, {\"date\": \"2019-02-18T00:00:00\", \"status\": \"predictions\", \"value\": 21656939858.654877}, {\"date\": \"2019-02-19T00:00:00\", \"status\": \"predictions\", \"value\": 20291466156.955032}, {\"date\": \"2019-02-20T00:00:00\", \"status\": \"predictions\", \"value\": 18299004875.29939}, {\"date\": \"2019-02-21T00:00:00\", \"status\": \"predictions\", \"value\": 17733535092.946007}, {\"date\": \"2019-02-22T00:00:00\", \"status\": \"predictions\", \"value\": 17807342489.008114}, {\"date\": \"2019-02-23T00:00:00\", \"status\": \"predictions\", \"value\": 16258998678.807035}, {\"date\": \"2019-02-24T00:00:00\", \"status\": \"predictions\", \"value\": 20567826421.74693}, {\"date\": \"2019-02-25T00:00:00\", \"status\": \"predictions\", \"value\": 22930677670.703667}, {\"date\": \"2019-02-26T00:00:00\", \"status\": \"predictions\", \"value\": 16632449228.336777}, {\"date\": \"2019-02-27T00:00:00\", \"status\": \"predictions\", \"value\": 20742813655.622498}, {\"date\": \"2019-02-28T00:00:00\", \"status\": \"predictions\", \"value\": 18576431263.976753}, {\"date\": \"2019-03-01T00:00:00\", \"status\": \"predictions\", \"value\": 16614021408.86297}, {\"date\": \"2019-03-02T00:00:00\", \"status\": \"predictions\", \"value\": 15452490347.695116}, {\"date\": \"2019-03-03T00:00:00\", \"status\": \"predictions\", \"value\": 16735289487.309746}, {\"date\": \"2019-03-04T00:00:00\", \"status\": \"predictions\", \"value\": 17949651448.482227}, {\"date\": \"2019-03-05T00:00:00\", \"status\": \"predictions\", \"value\": 17668801878.29703}, {\"date\": \"2019-03-06T00:00:00\", \"status\": \"predictions\", \"value\": 17468381541.639084}, {\"date\": \"2019-03-07T00:00:00\", \"status\": \"predictions\", \"value\": 17283059759.325912}, {\"date\": \"2019-03-08T00:00:00\", \"status\": \"predictions\", \"value\": 18438145943.29989}, {\"date\": \"2019-03-09T00:00:00\", \"status\": \"predictions\", \"value\": 16398997870.398361}, {\"date\": \"2019-03-10T00:00:00\", \"status\": \"predictions\", \"value\": 16947822145.362875}, {\"date\": \"2019-03-11T00:00:00\", \"status\": \"predictions\", \"value\": 19091457645.292107}, {\"date\": \"2019-03-12T00:00:00\", \"status\": \"predictions\", \"value\": 18250272310.684685}, {\"date\": \"2019-03-13T00:00:00\", \"status\": \"predictions\", \"value\": 17052303996.256847}, {\"date\": \"2019-03-14T00:00:00\", \"status\": \"predictions\", \"value\": 17821344097.62531}, {\"date\": \"2019-03-15T00:00:00\", \"status\": \"predictions\", \"value\": 17768181081.22354}, {\"date\": \"2019-03-16T00:00:00\", \"status\": \"predictions\", \"value\": 17492645554.493053}, {\"date\": \"2019-03-17T00:00:00\", \"status\": \"predictions\", \"value\": 16917347023.631344}, {\"date\": \"2019-03-18T00:00:00\", \"status\": \"predictions\", \"value\": 18925060411.41156}, {\"date\": \"2019-03-19T00:00:00\", \"status\": \"predictions\", \"value\": 15799804119.44527}, {\"date\": \"2019-03-20T00:00:00\", \"status\": \"predictions\", \"value\": 19056259699.21921}, {\"date\": \"2019-03-21T00:00:00\", \"status\": \"predictions\", \"value\": 17928800922.225967}, {\"date\": \"2019-03-22T00:00:00\", \"status\": \"predictions\", \"value\": 16439996051.85078}, {\"date\": \"2019-03-23T00:00:00\", \"status\": \"predictions\", \"value\": 19002367462.653385}, {\"date\": \"2019-03-24T00:00:00\", \"status\": \"predictions\", \"value\": 16327312655.165327}, {\"date\": \"2019-03-25T00:00:00\", \"status\": \"predictions\", \"value\": 18734540550.84426}, {\"date\": \"2019-03-26T00:00:00\", \"status\": \"predictions\", \"value\": 17971189588.48407}, {\"date\": \"2019-03-27T00:00:00\", \"status\": \"predictions\", \"value\": 17186668660.034477}, {\"date\": \"2019-03-28T00:00:00\", \"status\": \"predictions\", \"value\": 17200978078.99706}, {\"date\": \"2019-03-29T00:00:00\", \"status\": \"predictions\", \"value\": 17955383604.19743}, {\"date\": \"2019-03-30T00:00:00\", \"status\": \"predictions\", \"value\": 17404286771.480087}, {\"date\": \"2019-03-31T00:00:00\", \"status\": \"predictions\", \"value\": 16533809112.350086}, {\"date\": \"2019-04-01T00:00:00\", \"status\": \"predictions\", \"value\": 16962525247.912071}, {\"date\": \"2019-04-02T00:00:00\", \"status\": \"predictions\", \"value\": 20753564114.035614}, {\"date\": \"2019-04-03T00:00:00\", \"status\": \"predictions\", \"value\": 21073306297.376053}, {\"date\": \"2019-04-04T00:00:00\", \"status\": \"predictions\", \"value\": 18510410930.51971}, {\"date\": \"2019-04-05T00:00:00\", \"status\": \"predictions\", \"value\": 18530904660.776985}, {\"date\": \"2019-04-06T00:00:00\", \"status\": \"predictions\", \"value\": 16525365130.150799}, {\"date\": \"2019-04-07T00:00:00\", \"status\": \"predictions\", \"value\": 18264650723.402412}, {\"date\": \"2019-04-08T00:00:00\", \"status\": \"predictions\", \"value\": 21281641654.627113}, {\"date\": \"2019-04-09T00:00:00\", \"status\": \"predictions\", \"value\": 20105111326.066483}, {\"date\": \"2019-04-10T00:00:00\", \"status\": \"predictions\", \"value\": 18313615524.2127}, {\"date\": \"2019-04-11T00:00:00\", \"status\": \"predictions\", \"value\": 17930619794.44374}, {\"date\": \"2019-04-12T00:00:00\", \"status\": \"predictions\", \"value\": 17080699768.13037}, {\"date\": \"2019-04-13T00:00:00\", \"status\": \"predictions\", \"value\": 14848912888.973576}, {\"date\": \"2019-04-14T00:00:00\", \"status\": \"predictions\", \"value\": 16099492716.812443}, {\"date\": \"2019-04-15T00:00:00\", \"status\": \"predictions\", \"value\": 18070686502.122467}, {\"date\": \"2019-04-16T00:00:00\", \"status\": \"predictions\", \"value\": 16593689241.17359}, {\"date\": \"2019-04-17T00:00:00\", \"status\": \"predictions\", \"value\": 16383455962.016253}, {\"date\": \"2019-04-18T00:00:00\", \"status\": \"predictions\", \"value\": 17397124444.20568}, {\"date\": \"2019-04-19T00:00:00\", \"status\": \"predictions\", \"value\": 16497426116.224579}, {\"date\": \"2019-04-20T00:00:00\", \"status\": \"predictions\", \"value\": 15281796501.268976}, {\"date\": \"2019-04-21T00:00:00\", \"status\": \"predictions\", \"value\": 16188424241.550617}, {\"date\": \"2019-04-22T00:00:00\", \"status\": \"predictions\", \"value\": 16527487336.200718}, {\"date\": \"2019-04-23T00:00:00\", \"status\": \"predictions\", \"value\": 17387237841.64818}, {\"date\": \"2019-04-24T00:00:00\", \"status\": \"predictions\", \"value\": 20317817269.43245}, {\"date\": \"2019-04-25T00:00:00\", \"status\": \"predictions\", \"value\": 19156390368.55785}, {\"date\": \"2019-04-26T00:00:00\", \"status\": \"predictions\", \"value\": 23651784790.582966}, {\"date\": \"2019-04-27T00:00:00\", \"status\": \"predictions\", \"value\": 16645729344.856018}, {\"date\": \"2019-04-28T00:00:00\", \"status\": \"predictions\", \"value\": 17713974340.875774}, {\"date\": \"2019-04-29T00:00:00\", \"status\": \"predictions\", \"value\": 19685721429.170174}, {\"date\": \"2019-04-30T00:00:00\", \"status\": \"predictions\", \"value\": 18250859856.435463}, {\"date\": \"2019-05-01T00:00:00\", \"status\": \"predictions\", \"value\": 17285307763.8129}, {\"date\": \"2019-05-02T00:00:00\", \"status\": \"predictions\", \"value\": 16560683530.519138}, {\"date\": \"2019-05-03T00:00:00\", \"status\": \"predictions\", \"value\": 17382091269.837807}, {\"date\": \"2019-05-04T00:00:00\", \"status\": \"predictions\", \"value\": 16188526961.732687}, {\"date\": \"2019-05-05T00:00:00\", \"status\": \"predictions\", \"value\": 15684947657.764698}, {\"date\": \"2019-05-06T00:00:00\", \"status\": \"predictions\", \"value\": 18348714193.885654}, {\"date\": \"2019-05-07T00:00:00\", \"status\": \"predictions\", \"value\": 20187093223.218685}, {\"date\": \"2019-05-08T00:00:00\", \"status\": \"predictions\", \"value\": 18979045390.52997}, {\"date\": \"2019-05-09T00:00:00\", \"status\": \"predictions\", \"value\": 17748350475.674294}, {\"date\": \"2019-05-10T00:00:00\", \"status\": \"predictions\", \"value\": 17599365189.981903}, {\"date\": \"2019-05-11T00:00:00\", \"status\": \"predictions\", \"value\": 22059624490.555115}, {\"date\": \"2019-05-12T00:00:00\", \"status\": \"predictions\", \"value\": 17887544174.30753}, {\"date\": \"2019-05-13T00:00:00\", \"status\": \"predictions\", \"value\": 20334651393.823456}, {\"date\": \"2019-05-14T00:00:00\", \"status\": \"predictions\", \"value\": 18348805617.127525}, {\"date\": \"2019-05-15T00:00:00\", \"status\": \"predictions\", \"value\": 20251312226.114815}, {\"date\": \"2019-05-16T00:00:00\", \"status\": \"predictions\", \"value\": 25512392459.722176}, {\"date\": \"2019-05-17T00:00:00\", \"status\": \"predictions\", \"value\": 21285951523.156803}, {\"date\": \"2019-05-18T00:00:00\", \"status\": \"predictions\", \"value\": 16025660195.950325}, {\"date\": \"2019-05-19T00:00:00\", \"status\": \"predictions\", \"value\": 16163044320.348427}, {\"date\": \"2019-05-20T00:00:00\", \"status\": \"predictions\", \"value\": 17176301061.41818}, {\"date\": \"2019-05-21T00:00:00\", \"status\": \"predictions\", \"value\": 16815066076.814201}, {\"date\": \"2019-05-22T00:00:00\", \"status\": \"predictions\", \"value\": 16433852326.197935}, {\"date\": \"2019-05-23T00:00:00\", \"status\": \"predictions\", \"value\": 17118765635.053993}, {\"date\": \"2019-05-24T00:00:00\", \"status\": \"predictions\", \"value\": 15302041035.275295}, {\"date\": \"2019-05-25T00:00:00\", \"status\": \"predictions\", \"value\": 14221173545.71965}, {\"date\": \"2019-05-26T00:00:00\", \"status\": \"predictions\", \"value\": 16205266693.42298}, {\"date\": \"2019-05-27T00:00:00\", \"status\": \"predictions\", \"value\": 16770348609.391277}, {\"date\": \"2019-05-28T00:00:00\", \"status\": \"predictions\", \"value\": 15428927016.79823}, {\"date\": \"2019-05-29T00:00:00\", \"status\": \"predictions\", \"value\": 17949779131.427612}, {\"date\": \"2019-05-30T00:00:00\", \"status\": \"predictions\", \"value\": 18045470423.631664}, {\"date\": \"2019-05-31T00:00:00\", \"status\": \"predictions\", \"value\": 17873876618.846626}, {\"date\": \"2019-06-01T00:00:00\", \"status\": \"predictions\", \"value\": 13688952868.262455}, {\"date\": \"2019-06-02T00:00:00\", \"status\": \"predictions\", \"value\": 13339326285.76264}, {\"date\": \"2019-06-03T00:00:00\", \"status\": \"predictions\", \"value\": 16295088710.41148}, {\"date\": \"2019-06-04T00:00:00\", \"status\": \"predictions\", \"value\": 17204637510.288345}, {\"date\": \"2019-06-05T00:00:00\", \"status\": \"predictions\", \"value\": 18425196920.70945}, {\"date\": \"2019-06-06T00:00:00\", \"status\": \"predictions\", \"value\": 14741009784.259178}, {\"date\": \"2019-06-07T00:00:00\", \"status\": \"predictions\", \"value\": 15195082413.73013}, {\"date\": \"2019-06-08T00:00:00\", \"status\": \"predictions\", \"value\": 12301514155.206686}, {\"date\": \"2019-06-09T00:00:00\", \"status\": \"predictions\", \"value\": 14837712084.358273}, {\"date\": \"2019-06-10T00:00:00\", \"status\": \"predictions\", \"value\": 14979341863.510464}, {\"date\": \"2019-06-11T00:00:00\", \"status\": \"predictions\", \"value\": 14518786113.346836}, {\"date\": \"2019-06-12T00:00:00\", \"status\": \"predictions\", \"value\": 15496056540.781834}, {\"date\": \"2019-06-13T00:00:00\", \"status\": \"predictions\", \"value\": 17106797675.528938}, {\"date\": \"2019-06-14T00:00:00\", \"status\": \"predictions\", \"value\": 16424785866.646595}, {\"date\": \"2019-06-15T00:00:00\", \"status\": \"predictions\", \"value\": 17550713519.423855}, {\"date\": \"2019-06-16T00:00:00\", \"status\": \"predictions\", \"value\": 16393823034.559597}, {\"date\": \"2019-06-17T00:00:00\", \"status\": \"predictions\", \"value\": 14759755192.455845}, {\"date\": \"2019-06-18T00:00:00\", \"status\": \"predictions\", \"value\": 16607457655.252642}, {\"date\": \"2019-06-19T00:00:00\", \"status\": \"predictions\", \"value\": 16594369913.422077}, {\"date\": \"2019-06-20T00:00:00\", \"status\": \"predictions\", \"value\": 14547754880.041908}, {\"date\": \"2019-06-21T00:00:00\", \"status\": \"predictions\", \"value\": 17643413785.03502}, {\"date\": \"2019-06-22T00:00:00\", \"status\": \"predictions\", \"value\": 17279065227.43023}, {\"date\": \"2019-06-23T00:00:00\", \"status\": \"predictions\", \"value\": 15341615220.178804}, {\"date\": \"2019-06-24T00:00:00\", \"status\": \"predictions\", \"value\": 16060881053.572618}, {\"date\": \"2019-06-25T00:00:00\", \"status\": \"predictions\", \"value\": 15995947435.661228}, {\"date\": \"2019-06-26T00:00:00\", \"status\": \"predictions\", \"value\": 18647744506.11918}, {\"date\": \"2019-06-27T00:00:00\", \"status\": \"predictions\", \"value\": 18959363518.077473}, {\"date\": \"2019-06-28T00:00:00\", \"status\": \"predictions\", \"value\": 15170735357.19767}, {\"date\": \"2019-06-29T00:00:00\", \"status\": \"predictions\", \"value\": 16838403005.632908}, {\"date\": \"2019-06-30T00:00:00\", \"status\": \"predictions\", \"value\": 15544567655.465424}, {\"date\": \"2019-07-01T00:00:00\", \"status\": \"predictions\", \"value\": 14939702160.313868}, {\"date\": \"2019-07-02T00:00:00\", \"status\": \"predictions\", \"value\": 14955653192.915668}, {\"date\": \"2019-07-03T00:00:00\", \"status\": \"predictions\", \"value\": 15293288411.063148}, {\"date\": \"2019-07-04T00:00:00\", \"status\": \"predictions\", \"value\": 14463885804.591763}, {\"date\": \"2019-07-05T00:00:00\", \"status\": \"predictions\", \"value\": 13626515489.076824}, {\"date\": \"2019-07-06T00:00:00\", \"status\": \"predictions\", \"value\": 12798879794.17523}, {\"date\": \"2019-07-07T00:00:00\", \"status\": \"predictions\", \"value\": 14717211378.153036}, {\"date\": \"2019-07-08T00:00:00\", \"status\": \"predictions\", \"value\": 14169059718.26518}, {\"date\": \"2019-07-09T00:00:00\", \"status\": \"predictions\", \"value\": 20929660496.60115}, {\"date\": \"2019-07-10T00:00:00\", \"status\": \"predictions\", \"value\": 16568428671.715382}, {\"date\": \"2019-07-11T00:00:00\", \"status\": \"predictions\", \"value\": 17480363723.215252}, {\"date\": \"2019-07-12T00:00:00\", \"status\": \"predictions\", \"value\": 14911868385.999233}, {\"date\": \"2019-07-13T00:00:00\", \"status\": \"predictions\", \"value\": 13298491763.815723}, {\"date\": \"2019-07-14T00:00:00\", \"status\": \"predictions\", \"value\": 17034587758.726665}, {\"date\": \"2019-07-15T00:00:00\", \"status\": \"predictions\", \"value\": 18051507035.585617}, {\"date\": \"2019-07-16T00:00:00\", \"status\": \"predictions\", \"value\": 14893204915.643967}, {\"date\": \"2019-07-17T00:00:00\", \"status\": \"predictions\", \"value\": 16852013468.659122}, {\"date\": \"2019-07-18T00:00:00\", \"status\": \"predictions\", \"value\": 17009558791.10353}, {\"date\": \"2019-07-19T00:00:00\", \"status\": \"predictions\", \"value\": 14647974499.22123}, {\"date\": \"2019-07-20T00:00:00\", \"status\": \"predictions\", \"value\": 14518886997.578373}, {\"date\": \"2019-07-21T00:00:00\", \"status\": \"predictions\", \"value\": 14046609438.800032}, {\"date\": \"2019-07-22T00:00:00\", \"status\": \"predictions\", \"value\": 14931330946.365519}, {\"date\": \"2019-07-23T00:00:00\", \"status\": \"predictions\", \"value\": 14968383675.942165}, {\"date\": \"2019-07-24T00:00:00\", \"status\": \"predictions\", \"value\": 13221337083.231764}, {\"date\": \"2019-07-25T00:00:00\", \"status\": \"predictions\", \"value\": 13250837111.649}, {\"date\": \"2019-07-26T00:00:00\", \"status\": \"predictions\", \"value\": 17825374219.539417}, {\"date\": \"2019-07-27T00:00:00\", \"status\": \"predictions\", \"value\": 13766618800.79337}, {\"date\": \"2019-07-28T00:00:00\", \"status\": \"predictions\", \"value\": 13177363282.256573}, {\"date\": \"2019-07-29T00:00:00\", \"status\": \"predictions\", \"value\": 14863282358.351547}, {\"date\": \"2019-07-30T00:00:00\", \"status\": \"predictions\", \"value\": 14599080695.316195}, {\"date\": \"2019-07-31T00:00:00\", \"status\": \"predictions\", \"value\": 14693239877.97411}, {\"date\": \"2019-08-01T00:00:00\", \"status\": \"predictions\", \"value\": 16471100156.017075}, {\"date\": \"2019-08-02T00:00:00\", \"status\": \"predictions\", \"value\": 14787203002.25135}, {\"date\": \"2019-08-03T00:00:00\", \"status\": \"predictions\", \"value\": 12979393304.478344}, {\"date\": \"2019-08-04T00:00:00\", \"status\": \"predictions\", \"value\": 13180365626.492868}, {\"date\": \"2019-08-05T00:00:00\", \"status\": \"predictions\", \"value\": 17724873730.30892}, {\"date\": \"2019-08-06T00:00:00\", \"status\": \"predictions\", \"value\": 16040431559.29491}, {\"date\": \"2019-08-07T00:00:00\", \"status\": \"predictions\", \"value\": 14589293495.64223}, {\"date\": \"2019-08-08T00:00:00\", \"status\": \"predictions\", \"value\": 16046843707.369524}, {\"date\": \"2019-08-09T00:00:00\", \"status\": \"predictions\", \"value\": 14979032711.365211}, {\"date\": \"2019-08-10T00:00:00\", \"status\": \"predictions\", \"value\": 14130919950.279757}, {\"date\": \"2019-08-11T00:00:00\", \"status\": \"predictions\", \"value\": 13857662719.012592}, {\"date\": \"2019-08-12T00:00:00\", \"status\": \"predictions\", \"value\": 14037164193.897978}, {\"date\": \"2019-08-13T00:00:00\", \"status\": \"predictions\", \"value\": 14513087437.053612}, {\"date\": \"2019-08-14T00:00:00\", \"status\": \"predictions\", \"value\": 15991739984.093235}, {\"date\": \"2019-08-15T00:00:00\", \"status\": \"predictions\", \"value\": 17431981378.341404}, {\"date\": \"2019-08-16T00:00:00\", \"status\": \"predictions\", \"value\": 15530492400.43218}, {\"date\": \"2019-08-17T00:00:00\", \"status\": \"predictions\", \"value\": 13613895386.006351}, {\"date\": \"2019-08-18T00:00:00\", \"status\": \"predictions\", \"value\": 13729037995.792097}, {\"date\": \"2019-08-19T00:00:00\", \"status\": \"predictions\", \"value\": 14541713574.536863}, {\"date\": \"2019-08-20T00:00:00\", \"status\": \"predictions\", \"value\": 16407006829.83928}, {\"date\": \"2019-08-21T00:00:00\", \"status\": \"predictions\", \"value\": 14667409326.792004}, {\"date\": \"2019-08-22T00:00:00\", \"status\": \"predictions\", \"value\": 14671025171.043081}, {\"date\": \"2019-08-23T00:00:00\", \"status\": \"predictions\", \"value\": 14723647702.663696}, {\"date\": \"2019-08-24T00:00:00\", \"status\": \"predictions\", \"value\": 13446597953.627052}, {\"date\": \"2019-08-25T00:00:00\", \"status\": \"predictions\", \"value\": 13418885411.049013}, {\"date\": \"2019-08-26T00:00:00\", \"status\": \"predictions\", \"value\": 14783733895.273975}, {\"date\": \"2019-08-27T00:00:00\", \"status\": \"predictions\", \"value\": 14082454047.198769}, {\"date\": \"2019-08-28T00:00:00\", \"status\": \"predictions\", \"value\": 15083961050.14394}, {\"date\": \"2019-08-29T00:00:00\", \"status\": \"predictions\", \"value\": 15396015505.771198}, {\"date\": \"2019-08-30T00:00:00\", \"status\": \"predictions\", \"value\": 15509524492.172825}, {\"date\": \"2019-08-31T00:00:00\", \"status\": \"predictions\", \"value\": 17090381791.944496}, {\"date\": \"2019-09-01T00:00:00\", \"status\": \"predictions\", \"value\": 13303383514.774443}, {\"date\": \"2019-09-02T00:00:00\", \"status\": \"predictions\", \"value\": 14502946501.690838}, {\"date\": \"2019-09-03T00:00:00\", \"status\": \"predictions\", \"value\": 16729673199.15261}, {\"date\": \"2019-09-04T00:00:00\", \"status\": \"predictions\", \"value\": 15176539280.695366}, {\"date\": \"2019-09-05T00:00:00\", \"status\": \"predictions\", \"value\": 14170810838.392956}, {\"date\": \"2019-09-06T00:00:00\", \"status\": \"predictions\", \"value\": 14528672770.803295}, {\"date\": \"2019-09-07T00:00:00\", \"status\": \"predictions\", \"value\": 15416710341.492199}, {\"date\": \"2019-09-08T00:00:00\", \"status\": \"predictions\", \"value\": 14383388414.10471}, {\"date\": \"2019-09-09T00:00:00\", \"status\": \"predictions\", \"value\": 14936179012.204094}, {\"date\": \"2019-09-10T00:00:00\", \"status\": \"predictions\", \"value\": 14071626946.985863}, {\"date\": \"2019-09-11T00:00:00\", \"status\": \"predictions\", \"value\": 15079802646.785614}, {\"date\": \"2019-09-12T00:00:00\", \"status\": \"predictions\", \"value\": 14079321688.422245}, {\"date\": \"2019-09-13T00:00:00\", \"status\": \"predictions\", \"value\": 16088099014.997528}, {\"date\": \"2019-09-14T00:00:00\", \"status\": \"predictions\", \"value\": 13540369648.872166}, {\"date\": \"2019-09-15T00:00:00\", \"status\": \"predictions\", \"value\": 13962011179.975662}, {\"date\": \"2019-09-16T00:00:00\", \"status\": \"predictions\", \"value\": 16205056766.569866}, {\"date\": \"2019-09-17T00:00:00\", \"status\": \"predictions\", \"value\": 16912294722.421322}, {\"date\": \"2019-09-18T00:00:00\", \"status\": \"predictions\", \"value\": 17222208342.76581}, {\"date\": \"2019-09-19T00:00:00\", \"status\": \"predictions\", \"value\": 15428881525.548355}, {\"date\": \"2019-09-20T00:00:00\", \"status\": \"predictions\", \"value\": 15024330509.081379}, {\"date\": \"2019-09-21T00:00:00\", \"status\": \"predictions\", \"value\": 13299620931.79584}, {\"date\": \"2019-09-22T00:00:00\", \"status\": \"predictions\", \"value\": 13439363378.936125}, {\"date\": \"2019-09-23T00:00:00\", \"status\": \"predictions\", \"value\": 15410216460.79765}, {\"date\": \"2019-09-24T00:00:00\", \"status\": \"predictions\", \"value\": 19273623158.040565}, {\"date\": \"2019-09-25T00:00:00\", \"status\": \"predictions\", \"value\": 18036641679.4176}, {\"date\": \"2019-09-26T00:00:00\", \"status\": \"predictions\", \"value\": 18255216082.407097}, {\"date\": \"2019-09-27T00:00:00\", \"status\": \"predictions\", \"value\": 16815132745.40068}, {\"date\": \"2019-09-28T00:00:00\", \"status\": \"predictions\", \"value\": 15061575999.810877}, {\"date\": \"2019-09-29T00:00:00\", \"status\": \"predictions\", \"value\": 14104062239.903435}, {\"date\": \"2019-09-30T00:00:00\", \"status\": \"predictions\", \"value\": 17532796198.65473}, {\"date\": \"2019-10-01T00:00:00\", \"status\": \"predictions\", \"value\": 15065718914.077843}, {\"date\": \"2019-10-02T00:00:00\", \"status\": \"predictions\", \"value\": 13753485840.325123}, {\"date\": \"2019-10-03T00:00:00\", \"status\": \"predictions\", \"value\": 13028916140.03478}, {\"date\": \"2019-10-04T00:00:00\", \"status\": \"predictions\", \"value\": 13584087160.583466}, {\"date\": \"2019-10-05T00:00:00\", \"status\": \"predictions\", \"value\": 12652700196.72705}, {\"date\": \"2019-10-06T00:00:00\", \"status\": \"predictions\", \"value\": 13120710100.085424}, {\"date\": \"2019-10-07T00:00:00\", \"status\": \"predictions\", \"value\": 14301869584.237509}, {\"date\": \"2019-10-08T00:00:00\", \"status\": \"predictions\", \"value\": 14422411272.803082}, {\"date\": \"2019-10-09T00:00:00\", \"status\": \"predictions\", \"value\": 14724698552.897915}, {\"date\": \"2019-10-10T00:00:00\", \"status\": \"predictions\", \"value\": 13911277822.253002}, {\"date\": \"2019-10-11T00:00:00\", \"status\": \"predictions\", \"value\": 13974760845.247643}, {\"date\": \"2019-10-12T00:00:00\", \"status\": \"predictions\", \"value\": 13624629769.22125}, {\"date\": \"2019-10-13T00:00:00\", \"status\": \"predictions\", \"value\": 12635217026.50144}, {\"date\": \"2019-10-14T00:00:00\", \"status\": \"predictions\", \"value\": 16222769450.960978}, {\"date\": \"2019-10-15T00:00:00\", \"status\": \"predictions\", \"value\": 13660554238.885487}, {\"date\": \"2019-10-16T00:00:00\", \"status\": \"predictions\", \"value\": 14051250507.70178}, {\"date\": \"2019-10-17T00:00:00\", \"status\": \"predictions\", \"value\": 13185810500.223549}, {\"date\": \"2019-10-18T00:00:00\", \"status\": \"predictions\", \"value\": 14416357980.606909}, {\"date\": \"2019-10-19T00:00:00\", \"status\": \"predictions\", \"value\": 12402328849.751818}, {\"date\": \"2019-10-20T00:00:00\", \"status\": \"predictions\", \"value\": 13697976389.979675}, {\"date\": \"2019-10-21T00:00:00\", \"status\": \"predictions\", \"value\": 13787195899.810999}, {\"date\": \"2019-10-22T00:00:00\", \"status\": \"predictions\", \"value\": 13471639283.177174}, {\"date\": \"2019-10-23T00:00:00\", \"status\": \"predictions\", \"value\": 16772064104.948284}, {\"date\": \"2019-10-24T00:00:00\", \"status\": \"predictions\", \"value\": 16648213383.086899}, {\"date\": \"2019-10-25T00:00:00\", \"status\": \"predictions\", \"value\": 15131961874.704838}, {\"date\": \"2019-10-26T00:00:00\", \"status\": \"predictions\", \"value\": 16286649363.350592}, {\"date\": \"2019-10-27T00:00:00\", \"status\": \"predictions\", \"value\": 13548367299.5425}, {\"date\": \"2019-10-28T00:00:00\", \"status\": \"predictions\", \"value\": 18537506785.156208}, {\"date\": \"2019-10-29T00:00:00\", \"status\": \"predictions\", \"value\": 15405925712.42992}, {\"date\": \"2019-10-30T00:00:00\", \"status\": \"predictions\", \"value\": 14641523876.141735}, {\"date\": \"2019-10-31T00:00:00\", \"status\": \"predictions\", \"value\": 14405306817.024511}, {\"date\": \"2019-11-01T00:00:00\", \"status\": \"predictions\", \"value\": 13753978225.148624}, {\"date\": \"2019-11-02T00:00:00\", \"status\": \"predictions\", \"value\": 12937496948.326622}, {\"date\": \"2019-11-03T00:00:00\", \"status\": \"predictions\", \"value\": 13472761334.137365}, {\"date\": \"2019-11-04T00:00:00\", \"status\": \"predictions\", \"value\": 15144484094.359093}, {\"date\": \"2019-11-05T00:00:00\", \"status\": \"predictions\", \"value\": 15902001215.776163}, {\"date\": \"2019-11-06T00:00:00\", \"status\": \"predictions\", \"value\": 13597042950.962824}, {\"date\": \"2019-11-07T00:00:00\", \"status\": \"predictions\", \"value\": 12583251835.0953}, {\"date\": \"2019-11-08T00:00:00\", \"status\": \"predictions\", \"value\": 13915526552.862703}, {\"date\": \"2019-11-09T00:00:00\", \"status\": \"predictions\", \"value\": 12552344213.75063}, {\"date\": \"2019-11-10T00:00:00\", \"status\": \"predictions\", \"value\": 12396451553.59676}, {\"date\": \"2019-11-11T00:00:00\", \"status\": \"predictions\", \"value\": 13260813332.42279}, {\"date\": \"2019-11-12T00:00:00\", \"status\": \"predictions\", \"value\": 14528872589.163252}, {\"date\": \"2019-11-13T00:00:00\", \"status\": \"predictions\", \"value\": 13407929748.9673}, {\"date\": \"2019-11-14T00:00:00\", \"status\": \"predictions\", \"value\": 13091348585.367033}, {\"date\": \"2019-11-15T00:00:00\", \"status\": \"predictions\", \"value\": 14146060459.215384}, {\"date\": \"2019-11-16T00:00:00\", \"status\": \"predictions\", \"value\": 12610970871.864956}, {\"date\": \"2019-11-17T00:00:00\", \"status\": \"predictions\", \"value\": 12401783014.491867}, {\"date\": \"2019-11-18T00:00:00\", \"status\": \"predictions\", \"value\": 13559176871.8347}, {\"date\": \"2019-11-19T00:00:00\", \"status\": \"predictions\", \"value\": 13748007597.364252}, {\"date\": \"2019-11-20T00:00:00\", \"status\": \"predictions\", \"value\": 13629634725.683842}, {\"date\": \"2019-11-21T00:00:00\", \"status\": \"predictions\", \"value\": 14856815077.695446}, {\"date\": \"2019-11-22T00:00:00\", \"status\": \"predictions\", \"value\": 18309907583.54665}, {\"date\": \"2019-11-23T00:00:00\", \"status\": \"predictions\", \"value\": 13692762016.46626}, {\"date\": \"2019-11-24T00:00:00\", \"status\": \"predictions\", \"value\": 13318212468.880259}, {\"date\": \"2019-11-25T00:00:00\", \"status\": \"predictions\", \"value\": 17485272502.5684}, {\"date\": \"2019-11-26T00:00:00\", \"status\": \"predictions\", \"value\": 13744854865.510498}, {\"date\": \"2019-11-27T00:00:00\", \"status\": \"predictions\", \"value\": 16494216903.160471}, {\"date\": \"2019-11-28T00:00:00\", \"status\": \"predictions\", \"value\": 16423072163.131102}, {\"date\": \"2019-11-29T00:00:00\", \"status\": \"predictions\", \"value\": 13919325038.7173}, {\"date\": \"2019-11-30T00:00:00\", \"status\": \"predictions\", \"value\": 14259273805.227348}, {\"date\": \"2019-12-01T00:00:00\", \"status\": \"predictions\", \"value\": 12474747283.309868}, {\"date\": \"2019-12-02T00:00:00\", \"status\": \"predictions\", \"value\": 14830528813.320831}, {\"date\": \"2019-12-03T00:00:00\", \"status\": \"predictions\", \"value\": 13949514950.8051}, {\"date\": \"2019-12-04T00:00:00\", \"status\": \"predictions\", \"value\": 14008972993.973974}, {\"date\": \"2019-12-05T00:00:00\", \"status\": \"predictions\", \"value\": 14258057114.37755}, {\"date\": \"2019-12-06T00:00:00\", \"status\": \"predictions\", \"value\": 14712476607.89676}, {\"date\": \"2019-12-07T00:00:00\", \"status\": \"predictions\", \"value\": 12855050082.215717}, {\"date\": \"2019-12-08T00:00:00\", \"status\": \"predictions\", \"value\": 12285468567.797234}, {\"date\": \"2019-12-09T00:00:00\", \"status\": \"predictions\", \"value\": 13408446253.904716}, {\"date\": \"2019-12-10T00:00:00\", \"status\": \"predictions\", \"value\": 14730546441.733149}, {\"date\": \"2019-12-11T00:00:00\", \"status\": \"predictions\", \"value\": 12611967937.475496}, {\"date\": \"2019-12-12T00:00:00\", \"status\": \"predictions\", \"value\": 13493988906.534264}, {\"date\": \"2019-12-13T00:00:00\", \"status\": \"predictions\", \"value\": 13289912001.314434}, {\"date\": \"2019-12-14T00:00:00\", \"status\": \"predictions\", \"value\": 12659268050.652695}, {\"date\": \"2019-12-15T00:00:00\", \"status\": \"predictions\", \"value\": 12225121560.266693}, {\"date\": \"2019-12-16T00:00:00\", \"status\": \"predictions\", \"value\": 14705835491.140556}, {\"date\": \"2019-12-17T00:00:00\", \"status\": \"predictions\", \"value\": 18109304190.182167}, {\"date\": \"2019-12-18T00:00:00\", \"status\": \"predictions\", \"value\": 19143268612.377193}, {\"date\": \"2019-12-19T00:00:00\", \"status\": \"predictions\", \"value\": 20440160242.2872}, {\"date\": \"2019-12-20T00:00:00\", \"status\": \"predictions\", \"value\": 14243691874.062515}, {\"date\": \"2019-12-21T00:00:00\", \"status\": \"predictions\", \"value\": 12868794422.545086}, {\"date\": \"2019-12-22T00:00:00\", \"status\": \"predictions\", \"value\": 12811631350.052975}, {\"date\": \"2019-12-23T00:00:00\", \"status\": \"predictions\", \"value\": 15554605046.821918}, {\"date\": \"2019-12-24T00:00:00\", \"status\": \"predictions\", \"value\": 13804078321.470074}, {\"date\": \"2019-12-25T00:00:00\", \"status\": \"predictions\", \"value\": 14967812985.060938}, {\"date\": \"2019-12-26T00:00:00\", \"status\": \"predictions\", \"value\": 13759076093.27679}, {\"date\": \"2019-12-27T00:00:00\", \"status\": \"predictions\", \"value\": 14125191342.148727}, {\"date\": \"2019-12-28T00:00:00\", \"status\": \"predictions\", \"value\": 13604779938.294384}, {\"date\": \"2019-12-29T00:00:00\", \"status\": \"predictions\", \"value\": 14030679043.204147}, {\"date\": \"2019-12-30T00:00:00\", \"status\": \"predictions\", \"value\": 14813088189.84141}, {\"date\": \"2019-12-31T00:00:00\", \"status\": \"predictions\", \"value\": 17328795198.12813}]}}, {\"mode\": \"vega-lite\"});\n</script>",
      "text/plain": "alt.LayerChart(...)"
     },
     "metadata": {},
     "execution_count": 112
    }
   ],
   "source": [
    "chart = alt.Chart().mark_line().encode(\n",
    "    alt.X('date:T', axis=alt.Axis(format=(\"%x\"), labelAngle=270)),\n",
    "    alt.Y('value:Q', axis=alt.Axis(format=\",.2e\"), scale=alt.Scale(type='log')), color=alt.Color('status:N')\n",
    ").properties(width=600)\n",
    "\n",
    "label = alt.selection_single(\n",
    "    encodings=['x'],\n",
    "    on='mouseover',\n",
    "    nearest=True,\n",
    "    empty='none'\n",
    ")\n",
    "\n",
    "\n",
    "alt.layer(\n",
    "    chart,\n",
    "\n",
    "\n",
    "    chart.mark_circle().encode(\n",
    "        opacity=alt.condition(label, alt.value(1), alt.value(0))\n",
    "    ).add_selection(label),\n",
    "    \n",
    "    alt.Chart().mark_rule(color='darkgray').encode(\n",
    "        x='date:T'\n",
    "    ).transform_filter(label),\n",
    "    \n",
    "    chart.mark_text(align='left', dx=5, dy=-5, stroke='black', strokeWidth=0.5).encode(\n",
    "        text=alt.Text('value:Q', format=',.2e')\n",
    "    ).transform_filter(label),\n",
    "\n",
    "    chart.mark_text(align='left', dx=5, dy=-5).encode(\n",
    "        text=alt.Text('value:Q', format=',.2e')\n",
    "    ).transform_filter(label),\n",
    "    data=to_plot\n",
    "\n",
    ").properties(title='Gas prices and their predictions (log scale)', width=600, height=400)"
   ]
  },
  {
   "source": [
    "It is a bit hard to assess the performance of the results just by looking at them, but at least it seems to generate values within the same ballpark. We could generate metrics as RMSE for reference.\n",
    "\n",
    "Obvious improvements\n",
    "- remove the outliers\n",
    "- include past values"
   ],
   "cell_type": "markdown",
   "metadata": {}
  },
  {
   "cell_type": "code",
   "execution_count": null,
   "metadata": {},
   "outputs": [],
   "source": []
  }
 ]
}