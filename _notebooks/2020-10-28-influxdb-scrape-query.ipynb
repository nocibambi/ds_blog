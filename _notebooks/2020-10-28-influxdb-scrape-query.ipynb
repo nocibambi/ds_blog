{
 "metadata": {
  "language_info": {
   "codemirror_mode": {
    "name": "ipython",
    "version": 3
   },
   "file_extension": ".py",
   "mimetype": "text/x-python",
   "name": "python",
   "nbconvert_exporter": "python",
   "pygments_lexer": "ipython3",
   "version": 3
  },
  "orig_nbformat": 2
 },
 "nbformat": 4,
 "nbformat_minor": 2,
 "cells": [
  {
   "source": [
    "# Scraping, writing, and querying data with InfluxDB"
   ],
   "cell_type": "markdown",
   "metadata": {}
  },
  {
   "source": [
    "## Scraping data\n",
    "\n",
    "InfluxDB can scrape data\n",
    "- Can collect data in specified intervals\n",
    "- Saves data into a InfluxDB bucket\n",
    "- It collects data from endpoints that accept HTTP(S) and that provide data in the [prometheus data format][https://prometheus.io/docs/instrumenting/exposition_formats/]."
   ],
   "cell_type": "markdown",
   "metadata": {}
  },
  {
   "source": [
    "### Steps to scrape data\n",
    "\n",
    "Here we will use a the sample metrics data what influxDB generates and can be accessed at `http://localhost:8086/metrics`\n",
    "\n",
    "1. Find the navigation menu and select **Data**\n",
    "2. There select the **Scrapers** tab\n",
    "3. Click on the **Select Scraper** button\n",
    "4. In the popup window, enter a name and select a bucket.\n",
    "5. For the **Target URL** add `http://localhost:8086/metrics` (or the url from where you would like to scrape your data)\n",
    "6. Click **Create**"
   ],
   "cell_type": "markdown",
   "metadata": {}
  },
  {
   "source": [
    "## Querying data\n",
    "\n",
    "You can mainly query data in the following ways\n",
    "\n",
    "1. Flux, InfluxData's functional scripting language\n",
    "2. The InfluxDB user interface\n",
    "3. The `influx` command line interface\n",
    "4. Directly through the InfluxDB API (`/api/v2/query`)\n",
    "5. Using one of the InfluxDB clients \n",
    "\n",
    "\n"
   ],
   "cell_type": "markdown",
   "metadata": {}
  },
  {
   "cell_type": "code",
   "execution_count": null,
   "metadata": {},
   "outputs": [],
   "source": []
  }
 ]
}