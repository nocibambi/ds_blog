{
 "metadata": {
  "language_info": {
   "codemirror_mode": {
    "name": "ipython",
    "version": 3
   },
   "file_extension": ".py",
   "mimetype": "text/x-python",
   "name": "python",
   "nbconvert_exporter": "python",
   "pygments_lexer": "ipython3",
   "version": 3
  },
  "orig_nbformat": 2
 },
 "nbformat": 4,
 "nbformat_minor": 2,
 "cells": [
  {
   "source": [
    "# InfluxDB tasks"
   ],
   "cell_type": "markdown",
   "metadata": {}
  },
  {
   "source": [
    "\n",
    "Tasks are scheduled Flux queries that allow you to process data with InfluxDB.\n",
    "### Task components\n",
    "Tasks should have the following components:\n",
    "\n",
    "\n",
    "- Options\n",
    "- Data source\n",
    "- Processing steps\n",
    "- Destination"
   ],
   "cell_type": "markdown",
   "metadata": {}
  },
  {
   "source": [
    "## Task Options\n",
    "\n",
    "You can specify options that tasks will use. This makes it easier to reuse and modify your tasks.\n",
    "\n",
    "```\n",
    "option task = {\n",
    "    // Task name\n",
    "    name: \"monitor task\",\n",
    "\n",
    "    // Run interval\n",
    "    every: 5m,\n",
    "\n",
    "    // Cron job\n",
    "    cron : \"0 * * * * *\"\n",
    "\n",
    "    // Task start delay\n",
    "    offset: 10m,\n",
    "\n",
    "    // Maximum number of concurrent tasks\n",
    "    concurrency: 2,\n",
    "\n",
    "    // Number of tries before getting failed status\n",
    "    retry: 5,\n",
    "}\n",
    "```"
   ],
   "cell_type": "markdown",
   "metadata": {}
  },
  {
   "source": [
    "## Task data source\n",
    "\n",
    "You can use the `from()` function to specify the data you try to get.\n",
    "\n",
    "```\n",
    "data = from(bucket: \"status info\")\n",
    "  // `-task.every` is a task option passed here\n",
    "  |> range(start: -task.every)\n",
    "  |> filter(fn: (r) =>\n",
    "    r._measurement == \"temperature\" and\n",
    "    r.host == \"dataSource\"\n",
    "  )\n",
    "```\n"
   ],
   "cell_type": "markdown",
   "metadata": {}
  },
  {
   "source": [
    "## Data processing and destination\n",
    "\n",
    "You can use the `to()` function to store the results in another bucket.\n",
    "\n",
    "```\n",
    "data\n",
    "  // Process\n",
    "  |> aggregateWindow(\n",
    "      every: 1h,\n",
    "      fn: sum\n",
    "  )\n",
    "  \n",
    "  // Store results\n",
    "  |> to(bucket: \"status_log\", org: \"logger\")\n",
    "```\n",
    "\n",
    "\n",
    "You can learn more about data processing in the [documentation](https://docs.influxdata.com/influxdb/v2.0/process-data/common-tasks/)."
   ],
   "cell_type": "markdown",
   "metadata": {}
  },
  {
   "source": [
    "## Create a task in the UI\n",
    "\n",
    "In the UI, you can create tasks by the following ways\n",
    "\n",
    "- The **Data Explorer** screen\n",
    "- The **Task** screen\n",
    "- Import (in the **Task** screen)\n",
    "- Create from template (in the **Settings** screen)\n",
    "- Clone a taks (in the **Task** screen)\n",
    "\n",
    "### Data Explorer\n",
    "\n",
    "1. Open the **Data Explorer**\n",
    "2. Select **Task**\n",
    "3. Define the task options.\n",
    "4. Select a token.\n",
    "5. Click **Save as Task**\n",
    "\n",
    "\n",
    "### Task UI\n",
    "\n",
    "1. Open the **Task** screen\n",
    "2. Select **Create Task**\n",
    "3. Click **New Task**\n",
    "4. Define the task options.\n",
    "5. Select a token.\n",
    "6. Enter your script\n",
    "7. Click **Save**\n"
   ],
   "cell_type": "markdown",
   "metadata": {}
  }
 ]
}