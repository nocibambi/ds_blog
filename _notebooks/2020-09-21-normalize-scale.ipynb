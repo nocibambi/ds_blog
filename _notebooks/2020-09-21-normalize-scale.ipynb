{
 "cells": [
  {
   "cell_type": "markdown",
   "metadata": {},
   "source": [
    "# Data scale normalization"
   ]
  },
  {
   "cell_type": "markdown",
   "metadata": {},
   "source": [
    "Normalization is a common technique used in machine learning to render the scales of different magnitudes to a common range between 0 and 1.\n",
    "\n",
    "Here we demonstrate how this is done with pandas and altair.\n",
    "\n",
    "\n",
    "Original inspiration: (Jason Brownlee: Machine Learning Algorithms from Scratch)[https://machinelearningmastery.com/machine-learning-algorithms-from-scratch/]"
   ]
  },
  {
   "cell_type": "code",
   "execution_count": 33,
   "metadata": {},
   "outputs": [
    {
     "data": {
      "text/plain": [
       "RendererRegistry(active='default', registered=['colab', 'default', 'json', 'jupyterlab', 'kaggle', 'nteract', 'png', 'svg', 'zeppelin'])"
      ]
     },
     "execution_count": 33,
     "metadata": {},
     "output_type": "execute_result"
    }
   ],
   "source": [
    "import altair as alt\n",
    "\n",
    "# alt.renderers.enable('default')\n",
    "alt.renderers"
   ]
  },
  {
   "cell_type": "code",
   "execution_count": 18,
   "metadata": {},
   "outputs": [],
   "source": [
    "from vega_datasets import data"
   ]
  },
  {
   "cell_type": "markdown",
   "metadata": {},
   "source": [
    "We use the Gapminder health and income dataset"
   ]
  },
  {
   "cell_type": "code",
   "execution_count": 19,
   "metadata": {},
   "outputs": [
    {
     "data": {
      "text/html": [
       "<div>\n",
       "<style scoped>\n",
       "    .dataframe tbody tr th:only-of-type {\n",
       "        vertical-align: middle;\n",
       "    }\n",
       "\n",
       "    .dataframe tbody tr th {\n",
       "        vertical-align: top;\n",
       "    }\n",
       "\n",
       "    .dataframe thead th {\n",
       "        text-align: right;\n",
       "    }\n",
       "</style>\n",
       "<table border=\"1\" class=\"dataframe\">\n",
       "  <thead>\n",
       "    <tr style=\"text-align: right;\">\n",
       "      <th></th>\n",
       "      <th>country</th>\n",
       "      <th>income</th>\n",
       "      <th>health</th>\n",
       "      <th>population</th>\n",
       "    </tr>\n",
       "  </thead>\n",
       "  <tbody>\n",
       "    <tr>\n",
       "      <th>0</th>\n",
       "      <td>Afghanistan</td>\n",
       "      <td>1925</td>\n",
       "      <td>57.63</td>\n",
       "      <td>32526562</td>\n",
       "    </tr>\n",
       "    <tr>\n",
       "      <th>1</th>\n",
       "      <td>Albania</td>\n",
       "      <td>10620</td>\n",
       "      <td>76.00</td>\n",
       "      <td>2896679</td>\n",
       "    </tr>\n",
       "    <tr>\n",
       "      <th>2</th>\n",
       "      <td>Algeria</td>\n",
       "      <td>13434</td>\n",
       "      <td>76.50</td>\n",
       "      <td>39666519</td>\n",
       "    </tr>\n",
       "    <tr>\n",
       "      <th>3</th>\n",
       "      <td>Andorra</td>\n",
       "      <td>46577</td>\n",
       "      <td>84.10</td>\n",
       "      <td>70473</td>\n",
       "    </tr>\n",
       "    <tr>\n",
       "      <th>4</th>\n",
       "      <td>Angola</td>\n",
       "      <td>7615</td>\n",
       "      <td>61.00</td>\n",
       "      <td>25021974</td>\n",
       "    </tr>\n",
       "  </tbody>\n",
       "</table>\n",
       "</div>"
      ],
      "text/plain": [
       "       country  income  health  population\n",
       "0  Afghanistan    1925   57.63    32526562\n",
       "1      Albania   10620   76.00     2896679\n",
       "2      Algeria   13434   76.50    39666519\n",
       "3      Andorra   46577   84.10       70473\n",
       "4       Angola    7615   61.00    25021974"
      ]
     },
     "execution_count": 19,
     "metadata": {},
     "output_type": "execute_result"
    }
   ],
   "source": [
    "health_income = data('gapminder-health-income')\n",
    "health_income.head()"
   ]
  },
  {
   "cell_type": "code",
   "execution_count": 20,
   "metadata": {},
   "outputs": [
    {
     "data": {
      "application/vnd.vegalite.v3+json": {
       "$schema": "https://vega.github.io/schema/vega-lite/v3.4.0.json",
       "config": {
        "mark": {
         "tooltip": null
        },
        "view": {
         "height": 300,
         "width": 400
        }
       },
       "data": {
        "name": "data-7e3b7ef5d72a8470b0044710e8a24cca"
       },
       "datasets": {
        "data-7e3b7ef5d72a8470b0044710e8a24cca": [
         {
          "country": "Afghanistan",
          "health": 57.63,
          "income": 1925,
          "population": 32526562
         },
         {
          "country": "Albania",
          "health": 76,
          "income": 10620,
          "population": 2896679
         },
         {
          "country": "Algeria",
          "health": 76.5,
          "income": 13434,
          "population": 39666519
         },
         {
          "country": "Andorra",
          "health": 84.1,
          "income": 46577,
          "population": 70473
         },
         {
          "country": "Angola",
          "health": 61,
          "income": 7615,
          "population": 25021974
         },
         {
          "country": "Antigua and Barbuda",
          "health": 75.2,
          "income": 21049,
          "population": 91818
         },
         {
          "country": "Argentina",
          "health": 76.2,
          "income": 17344,
          "population": 43416755
         },
         {
          "country": "Armenia",
          "health": 74.4,
          "income": 7763,
          "population": 3017712
         },
         {
          "country": "Australia",
          "health": 81.8,
          "income": 44056,
          "population": 23968973
         },
         {
          "country": "Austria",
          "health": 81,
          "income": 44401,
          "population": 8544586
         },
         {
          "country": "Azerbaijan",
          "health": 72.9,
          "income": 16986,
          "population": 9753968
         },
         {
          "country": "Bahamas",
          "health": 72.3,
          "income": 22818,
          "population": 388019
         },
         {
          "country": "Bahrain",
          "health": 79.2,
          "income": 44138,
          "population": 1377237
         },
         {
          "country": "Bangladesh",
          "health": 70.1,
          "income": 3161,
          "population": 160995642
         },
         {
          "country": "Barbados",
          "health": 75.8,
          "income": 12984,
          "population": 284215
         },
         {
          "country": "Belarus",
          "health": 70.4,
          "income": 17415,
          "population": 9495826
         },
         {
          "country": "Belgium",
          "health": 80.4,
          "income": 41240,
          "population": 11299192
         },
         {
          "country": "Belize",
          "health": 70,
          "income": 8501,
          "population": 359287
         },
         {
          "country": "Benin",
          "health": 65.5,
          "income": 1830,
          "population": 10879829
         },
         {
          "country": "Bhutan",
          "health": 70.2,
          "income": 7983,
          "population": 774830
         },
         {
          "country": "Bolivia",
          "health": 72.3,
          "income": 6295,
          "population": 10724705
         },
         {
          "country": "Bosnia and Herzegovina",
          "health": 77.9,
          "income": 9833,
          "population": 3810416
         },
         {
          "country": "Botswana",
          "health": 66.4,
          "income": 17196,
          "population": 2262485
         },
         {
          "country": "Brazil",
          "health": 75.6,
          "income": 15441,
          "population": 207847528
         },
         {
          "country": "Brunei",
          "health": 78.7,
          "income": 73003,
          "population": 423188
         },
         {
          "country": "Bulgaria",
          "health": 74.9,
          "income": 16371,
          "population": 7149787
         },
         {
          "country": "Burkina Faso",
          "health": 62.8,
          "income": 1654,
          "population": 18105570
         },
         {
          "country": "Burundi",
          "health": 60.4,
          "income": 777,
          "population": 11178921
         },
         {
          "country": "Cambodia",
          "health": 68.4,
          "income": 3267,
          "population": 15577899
         },
         {
          "country": "Cameroon",
          "health": 59.5,
          "income": 2897,
          "population": 23344179
         },
         {
          "country": "Canada",
          "health": 81.7,
          "income": 43294,
          "population": 35939927
         },
         {
          "country": "Cape Verde",
          "health": 74.6,
          "income": 6514,
          "population": 520502
         },
         {
          "country": "Central African Republic",
          "health": 53.8,
          "income": 599,
          "population": 4900274
         },
         {
          "country": "Chad",
          "health": 57.7,
          "income": 2191,
          "population": 14037472
         },
         {
          "country": "Chile",
          "health": 79.3,
          "income": 22465,
          "population": 17948141
         },
         {
          "country": "China",
          "health": 76.9,
          "income": 13334,
          "population": 1376048943
         },
         {
          "country": "Colombia",
          "health": 75.8,
          "income": 12761,
          "population": 48228704
         },
         {
          "country": "Comoros",
          "health": 64.1,
          "income": 1472,
          "population": 788474
         },
         {
          "country": "Congo, Dem. Rep.",
          "health": 58.3,
          "income": 809,
          "population": 77266814
         },
         {
          "country": "Congo, Rep.",
          "health": 61.9,
          "income": 6220,
          "population": 4620330
         },
         {
          "country": "Costa Rica",
          "health": 80,
          "income": 14132,
          "population": 4807850
         },
         {
          "country": "Cote d'Ivoire",
          "health": 60.33,
          "income": 3491,
          "population": 22701556
         },
         {
          "country": "Croatia",
          "health": 78,
          "income": 20260,
          "population": 4240317
         },
         {
          "country": "Cuba",
          "health": 78.5,
          "income": 21291,
          "population": 11389562
         },
         {
          "country": "Cyprus",
          "health": 82.6,
          "income": 29797,
          "population": 1165300
         },
         {
          "country": "Czech Republic",
          "health": 78.6,
          "income": 29437,
          "population": 10543186
         },
         {
          "country": "Denmark",
          "health": 80.1,
          "income": 43495,
          "population": 5669081
         },
         {
          "country": "Djibouti",
          "health": 64.63,
          "income": 3139,
          "population": 887861
         },
         {
          "country": "Dominica",
          "health": 74.6,
          "income": 10503,
          "population": 72680
         },
         {
          "country": "Dominican Republic",
          "health": 73.8,
          "income": 12837,
          "population": 10528391
         },
         {
          "country": "Ecuador",
          "health": 75.2,
          "income": 10996,
          "population": 16144363
         },
         {
          "country": "Egypt",
          "health": 71.3,
          "income": 11031,
          "population": 91508084
         },
         {
          "country": "El Salvador",
          "health": 74.1,
          "income": 7776,
          "population": 6126583
         },
         {
          "country": "Equatorial Guinea",
          "health": 60.63,
          "income": 31087,
          "population": 845060
         },
         {
          "country": "Eritrea",
          "health": 62.9,
          "income": 1129,
          "population": 5227791
         },
         {
          "country": "Estonia",
          "health": 76.8,
          "income": 26812,
          "population": 1312558
         },
         {
          "country": "Ethiopia",
          "health": 63.6,
          "income": 1520,
          "population": 99390750
         },
         {
          "country": "Fiji",
          "health": 66.3,
          "income": 7925,
          "population": 892145
         },
         {
          "country": "Finland",
          "health": 80.8,
          "income": 38923,
          "population": 5503457
         },
         {
          "country": "France",
          "health": 81.9,
          "income": 37599,
          "population": 64395345
         },
         {
          "country": "Gabon",
          "health": 60.53,
          "income": 18627,
          "population": 1725292
         },
         {
          "country": "Gambia",
          "health": 65.1,
          "income": 1644,
          "population": 1990924
         },
         {
          "country": "Georgia",
          "health": 73.3,
          "income": 7474,
          "population": 3999812
         },
         {
          "country": "Germany",
          "health": 81.1,
          "income": 44053,
          "population": 80688545
         },
         {
          "country": "Ghana",
          "health": 65.5,
          "income": 4099,
          "population": 27409893
         },
         {
          "country": "Greece",
          "health": 79.8,
          "income": 25430,
          "population": 10954617
         },
         {
          "country": "Grenada",
          "health": 71.7,
          "income": 11593,
          "population": 106825
         },
         {
          "country": "Guatemala",
          "health": 73.1,
          "income": 7279,
          "population": 16342897
         },
         {
          "country": "Guinea",
          "health": 60.8,
          "income": 1225,
          "population": 12608590
         },
         {
          "country": "Guinea-Bissau",
          "health": 53.4,
          "income": 1386,
          "population": 1844325
         },
         {
          "country": "Guyana",
          "health": 64.4,
          "income": 6816,
          "population": 767085
         },
         {
          "country": "Haiti",
          "health": 65.3,
          "income": 1710,
          "population": 10711067
         },
         {
          "country": "Honduras",
          "health": 72.4,
          "income": 4270,
          "population": 8075060
         },
         {
          "country": "Hungary",
          "health": 76.2,
          "income": 24200,
          "population": 9855023
         },
         {
          "country": "Iceland",
          "health": 82.8,
          "income": 42182,
          "population": 329425
         },
         {
          "country": "India",
          "health": 66.8,
          "income": 5903,
          "population": 1311050527
         },
         {
          "country": "Indonesia",
          "health": 70.9,
          "income": 10504,
          "population": 257563815
         },
         {
          "country": "Iran",
          "health": 78.5,
          "income": 15573,
          "population": 79109272
         },
         {
          "country": "Iraq",
          "health": 72.1,
          "income": 14646,
          "population": 36423395
         },
         {
          "country": "Ireland",
          "health": 80.4,
          "income": 47758,
          "population": 4688465
         },
         {
          "country": "Israel",
          "health": 82.4,
          "income": 31590,
          "population": 8064036
         },
         {
          "country": "Italy",
          "health": 82.1,
          "income": 33297,
          "population": 59797685
         },
         {
          "country": "Jamaica",
          "health": 75.5,
          "income": 8606,
          "population": 2793335
         },
         {
          "country": "Japan",
          "health": 83.5,
          "income": 36162,
          "population": 126573481
         },
         {
          "country": "Jordan",
          "health": 78.3,
          "income": 11752,
          "population": 7594547
         },
         {
          "country": "Kazakhstan",
          "health": 68.2,
          "income": 23468,
          "population": 17625226
         },
         {
          "country": "Kenya",
          "health": 66.63,
          "income": 2898,
          "population": 46050302
         },
         {
          "country": "Kiribati",
          "health": 62.4,
          "income": 1824,
          "population": 112423
         },
         {
          "country": "Kuwait",
          "health": 80.7,
          "income": 82633,
          "population": 3892115
         },
         {
          "country": "Kyrgyz Republic",
          "health": 69,
          "income": 3245,
          "population": 5939962
         },
         {
          "country": "Lao",
          "health": 66.4,
          "income": 5212,
          "population": 6802023
         },
         {
          "country": "Latvia",
          "health": 75.7,
          "income": 23282,
          "population": 1970503
         },
         {
          "country": "Lebanon",
          "health": 78.5,
          "income": 17050,
          "population": 5850743
         },
         {
          "country": "Lesotho",
          "health": 48.5,
          "income": 2598,
          "population": 2135022
         },
         {
          "country": "Liberia",
          "health": 63.9,
          "income": 958,
          "population": 4503438
         },
         {
          "country": "Libya",
          "health": 76.2,
          "income": 17261,
          "population": 6278438
         },
         {
          "country": "Lithuania",
          "health": 75.4,
          "income": 26665,
          "population": 2878405
         },
         {
          "country": "Luxembourg",
          "health": 81.1,
          "income": 88314,
          "population": 567110
         },
         {
          "country": "Macedonia, FYR",
          "health": 77,
          "income": 12547,
          "population": 2078453
         },
         {
          "country": "Madagascar",
          "health": 64.7,
          "income": 1400,
          "population": 24235390
         },
         {
          "country": "Malawi",
          "health": 60.22,
          "income": 799,
          "population": 17215232
         },
         {
          "country": "Malaysia",
          "health": 75.1,
          "income": 24320,
          "population": 30331007
         },
         {
          "country": "Maldives",
          "health": 79.5,
          "income": 14408,
          "population": 363657
         },
         {
          "country": "Mali",
          "health": 57.6,
          "income": 1684,
          "population": 17599694
         },
         {
          "country": "Malta",
          "health": 82.1,
          "income": 30265,
          "population": 418670
         },
         {
          "country": "Marshall Islands",
          "health": 65.1,
          "income": 3661,
          "population": 52993
         },
         {
          "country": "Mauritania",
          "health": 65.7,
          "income": 3877,
          "population": 4067564
         },
         {
          "country": "Mauritius",
          "health": 73.9,
          "income": 18350,
          "population": 1273212
         },
         {
          "country": "Mexico",
          "health": 74.5,
          "income": 16850,
          "population": 127017224
         },
         {
          "country": "Micronesia, Fed. Sts.",
          "health": 67,
          "income": 3510,
          "population": 104460
         },
         {
          "country": "Moldova",
          "health": 72.7,
          "income": 4896,
          "population": 4068897
         },
         {
          "country": "Mongolia",
          "health": 65.3,
          "income": 11819,
          "population": 2959134
         },
         {
          "country": "Montenegro",
          "health": 75.8,
          "income": 14833,
          "population": 625781
         },
         {
          "country": "Morocco",
          "health": 74.7,
          "income": 7319,
          "population": 34377511
         },
         {
          "country": "Mozambique",
          "health": 56.4,
          "income": 1176,
          "population": 27977863
         },
         {
          "country": "Myanmar",
          "health": 67.9,
          "income": 4012,
          "population": 53897154
         },
         {
          "country": "Namibia",
          "health": 61,
          "income": 10040,
          "population": 2458830
         },
         {
          "country": "Nepal",
          "health": 71.2,
          "income": 2352,
          "population": 28513700
         },
         {
          "country": "Netherlands",
          "health": 80.6,
          "income": 45784,
          "population": 16924929
         },
         {
          "country": "New Zealand",
          "health": 80.6,
          "income": 34186,
          "population": 4528526
         },
         {
          "country": "Nicaragua",
          "health": 76.8,
          "income": 4712,
          "population": 6082032
         },
         {
          "country": "Niger",
          "health": 62.2,
          "income": 943,
          "population": 19899120
         },
         {
          "country": "Nigeria",
          "health": 61.33,
          "income": 5727,
          "population": 182201962
         },
         {
          "country": "North Korea",
          "health": 71.4,
          "income": 1390,
          "population": 25155317
         },
         {
          "country": "Norway",
          "health": 81.6,
          "income": 64304,
          "population": 5210967
         },
         {
          "country": "Oman",
          "health": 75.7,
          "income": 48226,
          "population": 4490541
         },
         {
          "country": "Pakistan",
          "health": 66.5,
          "income": 4743,
          "population": 188924874
         },
         {
          "country": "Panama",
          "health": 78.2,
          "income": 20485,
          "population": 3929141
         },
         {
          "country": "Papua New Guinea",
          "health": 60.6,
          "income": 2529,
          "population": 7619321
         },
         {
          "country": "Paraguay",
          "health": 73.9,
          "income": 8219,
          "population": 6639123
         },
         {
          "country": "Peru",
          "health": 77.5,
          "income": 11903,
          "population": 31376670
         },
         {
          "country": "Philippines",
          "health": 70.2,
          "income": 6876,
          "population": 100699395
         },
         {
          "country": "Poland",
          "health": 77.3,
          "income": 24787,
          "population": 38611794
         },
         {
          "country": "Portugal",
          "health": 79.8,
          "income": 26437,
          "population": 10349803
         },
         {
          "country": "Qatar",
          "health": 82,
          "income": 132877,
          "population": 2235355
         },
         {
          "country": "Romania",
          "health": 76.8,
          "income": 19203,
          "population": 19511324
         },
         {
          "country": "Russia",
          "health": 73.13,
          "income": 23038,
          "population": 143456918
         },
         {
          "country": "Rwanda",
          "health": 66.53,
          "income": 1549,
          "population": 11609666
         },
         {
          "country": "Samoa",
          "health": 72.2,
          "income": 5558,
          "population": 193228
         },
         {
          "country": "Sao Tome and Principe",
          "health": 68.8,
          "income": 3003,
          "population": 190344
         },
         {
          "country": "Saudi Arabia",
          "health": 78.1,
          "income": 52469,
          "population": 31540372
         },
         {
          "country": "Senegal",
          "health": 66.1,
          "income": 2251,
          "population": 15129273
         },
         {
          "country": "Serbia",
          "health": 78.1,
          "income": 12908,
          "population": 8850975
         },
         {
          "country": "Seychelles",
          "health": 73.7,
          "income": 25684,
          "population": 96471
         },
         {
          "country": "Sierra Leone",
          "health": 58.5,
          "income": 2085,
          "population": 6453184
         },
         {
          "country": "Singapore",
          "health": 82.1,
          "income": 80794,
          "population": 5603740
         },
         {
          "country": "Slovak Republic",
          "health": 76.4,
          "income": 27204,
          "population": 5426258
         },
         {
          "country": "Slovenia",
          "health": 80.2,
          "income": 28550,
          "population": 2067526
         },
         {
          "country": "Solomon Islands",
          "health": 64.1,
          "income": 2047,
          "population": 583591
         },
         {
          "country": "Somalia",
          "health": 58.7,
          "income": 624,
          "population": 10787104
         },
         {
          "country": "South Africa",
          "health": 63.72,
          "income": 12509,
          "population": 54490406
         },
         {
          "country": "South Korea",
          "health": 80.7,
          "income": 34644,
          "population": 50293439
         },
         {
          "country": "South Sudan",
          "health": 58,
          "income": 3047,
          "population": 12339812
         },
         {
          "country": "Spain",
          "health": 81.7,
          "income": 32979,
          "population": 46121699
         },
         {
          "country": "Sri Lanka",
          "health": 76.5,
          "income": 10624,
          "population": 20715010
         },
         {
          "country": "St. Lucia",
          "health": 74.5,
          "income": 9997,
          "population": 184999
         },
         {
          "country": "St. Vincent and the Grenadines",
          "health": 72.9,
          "income": 10435,
          "population": 109462
         },
         {
          "country": "Sudan",
          "health": 69.5,
          "income": 3975,
          "population": 40234882
         },
         {
          "country": "Suriname",
          "health": 70.5,
          "income": 17125,
          "population": 542975
         },
         {
          "country": "Swaziland",
          "health": 51.5,
          "income": 6095,
          "population": 1286970
         },
         {
          "country": "Sweden",
          "health": 82,
          "income": 44892,
          "population": 9779426
         },
         {
          "country": "Switzerland",
          "health": 82.9,
          "income": 56118,
          "population": 8298663
         },
         {
          "country": "Syria",
          "health": 70.26,
          "income": 4637,
          "population": 18502413
         },
         {
          "country": "Tajikistan",
          "health": 71,
          "income": 2582,
          "population": 8481855
         },
         {
          "country": "Tanzania",
          "health": 63.43,
          "income": 2571,
          "population": 53470420
         },
         {
          "country": "Thailand",
          "health": 75.1,
          "income": 14512,
          "population": 67959359
         },
         {
          "country": "Timor-Leste",
          "health": 72.4,
          "income": 2086,
          "population": 1184765
         },
         {
          "country": "Togo",
          "health": 64.23,
          "income": 1433,
          "population": 7304578
         },
         {
          "country": "Tonga",
          "health": 70.5,
          "income": 5069,
          "population": 106170
         },
         {
          "country": "Trinidad and Tobago",
          "health": 71.4,
          "income": 30113,
          "population": 1360088
         },
         {
          "country": "Tunisia",
          "health": 77.3,
          "income": 11126,
          "population": 11253554
         },
         {
          "country": "Turkey",
          "health": 76.5,
          "income": 19360,
          "population": 78665830
         },
         {
          "country": "Turkmenistan",
          "health": 67.9,
          "income": 15865,
          "population": 5373502
         },
         {
          "country": "Uganda",
          "health": 60.8,
          "income": 1680,
          "population": 39032383
         },
         {
          "country": "Ukraine",
          "health": 72.1,
          "income": 8449,
          "population": 44823765
         },
         {
          "country": "United Arab Emirates",
          "health": 76.6,
          "income": 60749,
          "population": 9156963
         },
         {
          "country": "United Kingdom",
          "health": 81.4,
          "income": 38225,
          "population": 64715810
         },
         {
          "country": "United States",
          "health": 79.1,
          "income": 53354,
          "population": 321773631
         },
         {
          "country": "Uruguay",
          "health": 77.3,
          "income": 20438,
          "population": 3431555
         },
         {
          "country": "Uzbekistan",
          "health": 70.1,
          "income": 5598,
          "population": 29893488
         },
         {
          "country": "Vanuatu",
          "health": 65,
          "income": 2912,
          "population": 264652
         },
         {
          "country": "Venezuela",
          "health": 75.8,
          "income": 15753,
          "population": 31108083
         },
         {
          "country": "Vietnam",
          "health": 76.5,
          "income": 5623,
          "population": 93447601
         },
         {
          "country": "West Bank and Gaza",
          "health": 75.2,
          "income": 4319,
          "population": 4668466
         },
         {
          "country": "Yemen",
          "health": 67.6,
          "income": 3887,
          "population": 26832215
         },
         {
          "country": "Zambia",
          "health": 58.96,
          "income": 4034,
          "population": 16211767
         },
         {
          "country": "Zimbabwe",
          "health": 60.01,
          "income": 1801,
          "population": 15602751
         }
        ]
       },
       "encoding": {
        "size": {
         "field": "population",
         "type": "quantitative"
        },
        "tooltip": {
         "field": "country",
         "type": "nominal"
        },
        "x": {
         "field": "income",
         "scale": {
          "domain": [
           599,
           132877
          ]
         },
         "type": "quantitative"
        },
        "y": {
         "field": "health",
         "scale": {
          "domain": [
           48.5,
           84.1
          ]
         },
         "type": "quantitative"
        }
       },
       "height": 600,
       "mark": "point",
       "width": 800
      },
      "text/plain": [
       "<VegaLite 3 object>\n",
       "\n",
       "If you see this message, it means the renderer has not been properly enabled\n",
       "for the frontend that you are using. For more information, see\n",
       "https://altair-viz.github.io/user_guide/troubleshooting.html\n"
      ]
     },
     "execution_count": 20,
     "metadata": {},
     "output_type": "execute_result"
    }
   ],
   "source": [
    "income_domain = [health_income['income'].min(), health_income['income'].max()]\n",
    "health_domain = [health_income['health'].min(), health_income['health'].max()]\n",
    "\n",
    "alt.Chart(health_income).mark_point().encode(\n",
    "    alt.X('income:Q', scale=alt.Scale(domain=income_domain)),\n",
    "    alt.Y('health:Q', scale=alt.Scale(domain=health_domain)),\n",
    "    alt.Size('population:Q'),\n",
    "    alt.Tooltip('country:N')\n",
    ").properties(height=600, width=800)"
   ]
  },
  {
   "cell_type": "markdown",
   "metadata": {},
   "source": [
    "The process:\n",
    "\n",
    "1. Take the values' difference from the smallest one;\n",
    "2. Take the value range, that is, the difference between the largest and smallest values;\n",
    "3. Divide the reduced values with the range.\n",
    "\n",
    "$ \\text {scaled value} = \\frac{value - min} {max - min} $\n",
    "\n",
    "The first step ensures that the smallest value will become 0. Dividing the reduced values by the range 'compresses' the values so the new maximum becomes 1."
   ]
  },
  {
   "cell_type": "code",
   "execution_count": 21,
   "metadata": {},
   "outputs": [],
   "source": [
    "quantitative_columns = ['income', 'health', 'population']"
   ]
  },
  {
   "cell_type": "markdown",
   "metadata": {},
   "source": [
    "The original minimum and maximum values"
   ]
  },
  {
   "cell_type": "code",
   "execution_count": 22,
   "metadata": {},
   "outputs": [
    {
     "data": {
      "text/html": [
       "<div>\n",
       "<style scoped>\n",
       "    .dataframe tbody tr th:only-of-type {\n",
       "        vertical-align: middle;\n",
       "    }\n",
       "\n",
       "    .dataframe tbody tr th {\n",
       "        vertical-align: top;\n",
       "    }\n",
       "\n",
       "    .dataframe thead th {\n",
       "        text-align: right;\n",
       "    }\n",
       "</style>\n",
       "<table border=\"1\" class=\"dataframe\">\n",
       "  <thead>\n",
       "    <tr style=\"text-align: right;\">\n",
       "      <th></th>\n",
       "      <th>country</th>\n",
       "      <th>income</th>\n",
       "      <th>health</th>\n",
       "      <th>population</th>\n",
       "    </tr>\n",
       "  </thead>\n",
       "  <tbody>\n",
       "    <tr>\n",
       "      <th>32</th>\n",
       "      <td>Central African Republic</td>\n",
       "      <td>599</td>\n",
       "      <td>53.8</td>\n",
       "      <td>4900274</td>\n",
       "    </tr>\n",
       "    <tr>\n",
       "      <th>93</th>\n",
       "      <td>Lesotho</td>\n",
       "      <td>2598</td>\n",
       "      <td>48.5</td>\n",
       "      <td>2135022</td>\n",
       "    </tr>\n",
       "    <tr>\n",
       "      <th>105</th>\n",
       "      <td>Marshall Islands</td>\n",
       "      <td>3661</td>\n",
       "      <td>65.1</td>\n",
       "      <td>52993</td>\n",
       "    </tr>\n",
       "  </tbody>\n",
       "</table>\n",
       "</div>"
      ],
      "text/plain": [
       "                      country  income  health  population\n",
       "32   Central African Republic     599    53.8     4900274\n",
       "93                    Lesotho    2598    48.5     2135022\n",
       "105          Marshall Islands    3661    65.1       52993"
      ]
     },
     "execution_count": 22,
     "metadata": {},
     "output_type": "execute_result"
    }
   ],
   "source": [
    "health_income.loc[health_income[quantitative_columns].idxmin(), :]"
   ]
  },
  {
   "cell_type": "code",
   "execution_count": 23,
   "metadata": {},
   "outputs": [
    {
     "data": {
      "text/plain": [
       "income          599.0\n",
       "health           48.5\n",
       "population    52993.0\n",
       "dtype: float64"
      ]
     },
     "execution_count": 23,
     "metadata": {},
     "output_type": "execute_result"
    }
   ],
   "source": [
    "minimums = health_income[quantitative_columns].min()\n",
    "minimums"
   ]
  },
  {
   "cell_type": "code",
   "execution_count": 24,
   "metadata": {},
   "outputs": [
    {
     "data": {
      "text/html": [
       "<div>\n",
       "<style scoped>\n",
       "    .dataframe tbody tr th:only-of-type {\n",
       "        vertical-align: middle;\n",
       "    }\n",
       "\n",
       "    .dataframe tbody tr th {\n",
       "        vertical-align: top;\n",
       "    }\n",
       "\n",
       "    .dataframe thead th {\n",
       "        text-align: right;\n",
       "    }\n",
       "</style>\n",
       "<table border=\"1\" class=\"dataframe\">\n",
       "  <thead>\n",
       "    <tr style=\"text-align: right;\">\n",
       "      <th></th>\n",
       "      <th>country</th>\n",
       "      <th>income</th>\n",
       "      <th>health</th>\n",
       "      <th>population</th>\n",
       "    </tr>\n",
       "  </thead>\n",
       "  <tbody>\n",
       "    <tr>\n",
       "      <th>134</th>\n",
       "      <td>Qatar</td>\n",
       "      <td>132877</td>\n",
       "      <td>82.0</td>\n",
       "      <td>2235355</td>\n",
       "    </tr>\n",
       "    <tr>\n",
       "      <th>3</th>\n",
       "      <td>Andorra</td>\n",
       "      <td>46577</td>\n",
       "      <td>84.1</td>\n",
       "      <td>70473</td>\n",
       "    </tr>\n",
       "    <tr>\n",
       "      <th>35</th>\n",
       "      <td>China</td>\n",
       "      <td>13334</td>\n",
       "      <td>76.9</td>\n",
       "      <td>1376048943</td>\n",
       "    </tr>\n",
       "  </tbody>\n",
       "</table>\n",
       "</div>"
      ],
      "text/plain": [
       "     country  income  health  population\n",
       "134    Qatar  132877    82.0     2235355\n",
       "3    Andorra   46577    84.1       70473\n",
       "35     China   13334    76.9  1376048943"
      ]
     },
     "execution_count": 24,
     "metadata": {},
     "output_type": "execute_result"
    }
   ],
   "source": [
    "health_income.loc[health_income[quantitative_columns].idxmax(), :]"
   ]
  },
  {
   "cell_type": "code",
   "execution_count": 25,
   "metadata": {},
   "outputs": [
    {
     "data": {
      "text/plain": [
       "income        1.328770e+05\n",
       "health        8.410000e+01\n",
       "population    1.376049e+09\n",
       "dtype: float64"
      ]
     },
     "execution_count": 25,
     "metadata": {},
     "output_type": "execute_result"
    }
   ],
   "source": [
    "maximums = health_income[quantitative_columns].max()\n",
    "maximums"
   ]
  },
  {
   "cell_type": "markdown",
   "metadata": {},
   "source": [
    "Difference of values from the column minimum"
   ]
  },
  {
   "cell_type": "code",
   "execution_count": 26,
   "metadata": {},
   "outputs": [
    {
     "data": {
      "text/html": [
       "<div>\n",
       "<style scoped>\n",
       "    .dataframe tbody tr th:only-of-type {\n",
       "        vertical-align: middle;\n",
       "    }\n",
       "\n",
       "    .dataframe tbody tr th {\n",
       "        vertical-align: top;\n",
       "    }\n",
       "\n",
       "    .dataframe thead th {\n",
       "        text-align: right;\n",
       "    }\n",
       "</style>\n",
       "<table border=\"1\" class=\"dataframe\">\n",
       "  <thead>\n",
       "    <tr style=\"text-align: right;\">\n",
       "      <th></th>\n",
       "      <th>income</th>\n",
       "      <th>health</th>\n",
       "      <th>population</th>\n",
       "    </tr>\n",
       "  </thead>\n",
       "  <tbody>\n",
       "    <tr>\n",
       "      <th>0</th>\n",
       "      <td>1326.0</td>\n",
       "      <td>9.13</td>\n",
       "      <td>32473569.0</td>\n",
       "    </tr>\n",
       "    <tr>\n",
       "      <th>1</th>\n",
       "      <td>10021.0</td>\n",
       "      <td>27.50</td>\n",
       "      <td>2843686.0</td>\n",
       "    </tr>\n",
       "    <tr>\n",
       "      <th>2</th>\n",
       "      <td>12835.0</td>\n",
       "      <td>28.00</td>\n",
       "      <td>39613526.0</td>\n",
       "    </tr>\n",
       "    <tr>\n",
       "      <th>3</th>\n",
       "      <td>45978.0</td>\n",
       "      <td>35.60</td>\n",
       "      <td>17480.0</td>\n",
       "    </tr>\n",
       "    <tr>\n",
       "      <th>4</th>\n",
       "      <td>7016.0</td>\n",
       "      <td>12.50</td>\n",
       "      <td>24968981.0</td>\n",
       "    </tr>\n",
       "    <tr>\n",
       "      <th>...</th>\n",
       "      <td>...</td>\n",
       "      <td>...</td>\n",
       "      <td>...</td>\n",
       "    </tr>\n",
       "    <tr>\n",
       "      <th>182</th>\n",
       "      <td>5024.0</td>\n",
       "      <td>28.00</td>\n",
       "      <td>93394608.0</td>\n",
       "    </tr>\n",
       "    <tr>\n",
       "      <th>183</th>\n",
       "      <td>3720.0</td>\n",
       "      <td>26.70</td>\n",
       "      <td>4615473.0</td>\n",
       "    </tr>\n",
       "    <tr>\n",
       "      <th>184</th>\n",
       "      <td>3288.0</td>\n",
       "      <td>19.10</td>\n",
       "      <td>26779222.0</td>\n",
       "    </tr>\n",
       "    <tr>\n",
       "      <th>185</th>\n",
       "      <td>3435.0</td>\n",
       "      <td>10.46</td>\n",
       "      <td>16158774.0</td>\n",
       "    </tr>\n",
       "    <tr>\n",
       "      <th>186</th>\n",
       "      <td>1202.0</td>\n",
       "      <td>11.51</td>\n",
       "      <td>15549758.0</td>\n",
       "    </tr>\n",
       "  </tbody>\n",
       "</table>\n",
       "<p>187 rows × 3 columns</p>\n",
       "</div>"
      ],
      "text/plain": [
       "      income  health  population\n",
       "0     1326.0    9.13  32473569.0\n",
       "1    10021.0   27.50   2843686.0\n",
       "2    12835.0   28.00  39613526.0\n",
       "3    45978.0   35.60     17480.0\n",
       "4     7016.0   12.50  24968981.0\n",
       "..       ...     ...         ...\n",
       "182   5024.0   28.00  93394608.0\n",
       "183   3720.0   26.70   4615473.0\n",
       "184   3288.0   19.10  26779222.0\n",
       "185   3435.0   10.46  16158774.0\n",
       "186   1202.0   11.51  15549758.0\n",
       "\n",
       "[187 rows x 3 columns]"
      ]
     },
     "execution_count": 26,
     "metadata": {},
     "output_type": "execute_result"
    }
   ],
   "source": [
    "health_income[quantitative_columns] - minimums"
   ]
  },
  {
   "cell_type": "markdown",
   "metadata": {},
   "source": [
    "Value ranges: the difference between the maximum and the minimum"
   ]
  },
  {
   "cell_type": "code",
   "execution_count": 27,
   "metadata": {},
   "outputs": [
    {
     "data": {
      "text/plain": [
       "income        1.322780e+05\n",
       "health        3.560000e+01\n",
       "population    1.375996e+09\n",
       "dtype: float64"
      ]
     },
     "execution_count": 27,
     "metadata": {},
     "output_type": "execute_result"
    }
   ],
   "source": [
    "maximums - minimums"
   ]
  },
  {
   "cell_type": "markdown",
   "metadata": {},
   "source": [
    "Let's normalize the dataset"
   ]
  },
  {
   "cell_type": "code",
   "execution_count": 28,
   "metadata": {},
   "outputs": [],
   "source": [
    "def normalize_dataset(dataset, quantitative_columns):\n",
    "    dataset = dataset.copy()\n",
    "    \n",
    "    minimums = dataset[quantitative_columns].min()\n",
    "    maximums = dataset[quantitative_columns].max()\n",
    "\n",
    "    dataset[quantitative_columns] = (dataset[quantitative_columns] - minimums) / (maximums - minimums)\n",
    "    \n",
    "    return dataset\n"
   ]
  },
  {
   "cell_type": "code",
   "execution_count": 29,
   "metadata": {},
   "outputs": [
    {
     "data": {
      "text/html": [
       "<div>\n",
       "<style scoped>\n",
       "    .dataframe tbody tr th:only-of-type {\n",
       "        vertical-align: middle;\n",
       "    }\n",
       "\n",
       "    .dataframe tbody tr th {\n",
       "        vertical-align: top;\n",
       "    }\n",
       "\n",
       "    .dataframe thead th {\n",
       "        text-align: right;\n",
       "    }\n",
       "</style>\n",
       "<table border=\"1\" class=\"dataframe\">\n",
       "  <thead>\n",
       "    <tr style=\"text-align: right;\">\n",
       "      <th></th>\n",
       "      <th>country</th>\n",
       "      <th>income</th>\n",
       "      <th>health</th>\n",
       "      <th>population</th>\n",
       "    </tr>\n",
       "  </thead>\n",
       "  <tbody>\n",
       "    <tr>\n",
       "      <th>0</th>\n",
       "      <td>Afghanistan</td>\n",
       "      <td>0.010024</td>\n",
       "      <td>0.256461</td>\n",
       "      <td>0.023600</td>\n",
       "    </tr>\n",
       "    <tr>\n",
       "      <th>1</th>\n",
       "      <td>Albania</td>\n",
       "      <td>0.075757</td>\n",
       "      <td>0.772472</td>\n",
       "      <td>0.002067</td>\n",
       "    </tr>\n",
       "    <tr>\n",
       "      <th>2</th>\n",
       "      <td>Algeria</td>\n",
       "      <td>0.097030</td>\n",
       "      <td>0.786517</td>\n",
       "      <td>0.028789</td>\n",
       "    </tr>\n",
       "    <tr>\n",
       "      <th>3</th>\n",
       "      <td>Andorra</td>\n",
       "      <td>0.347586</td>\n",
       "      <td>1.000000</td>\n",
       "      <td>0.000013</td>\n",
       "    </tr>\n",
       "    <tr>\n",
       "      <th>4</th>\n",
       "      <td>Angola</td>\n",
       "      <td>0.053040</td>\n",
       "      <td>0.351124</td>\n",
       "      <td>0.018146</td>\n",
       "    </tr>\n",
       "    <tr>\n",
       "      <th>...</th>\n",
       "      <td>...</td>\n",
       "      <td>...</td>\n",
       "      <td>...</td>\n",
       "      <td>...</td>\n",
       "    </tr>\n",
       "    <tr>\n",
       "      <th>182</th>\n",
       "      <td>Vietnam</td>\n",
       "      <td>0.037981</td>\n",
       "      <td>0.786517</td>\n",
       "      <td>0.067874</td>\n",
       "    </tr>\n",
       "    <tr>\n",
       "      <th>183</th>\n",
       "      <td>West Bank and Gaza</td>\n",
       "      <td>0.028123</td>\n",
       "      <td>0.750000</td>\n",
       "      <td>0.003354</td>\n",
       "    </tr>\n",
       "    <tr>\n",
       "      <th>184</th>\n",
       "      <td>Yemen</td>\n",
       "      <td>0.024857</td>\n",
       "      <td>0.536517</td>\n",
       "      <td>0.019462</td>\n",
       "    </tr>\n",
       "    <tr>\n",
       "      <th>185</th>\n",
       "      <td>Zambia</td>\n",
       "      <td>0.025968</td>\n",
       "      <td>0.293820</td>\n",
       "      <td>0.011743</td>\n",
       "    </tr>\n",
       "    <tr>\n",
       "      <th>186</th>\n",
       "      <td>Zimbabwe</td>\n",
       "      <td>0.009087</td>\n",
       "      <td>0.323315</td>\n",
       "      <td>0.011301</td>\n",
       "    </tr>\n",
       "  </tbody>\n",
       "</table>\n",
       "<p>187 rows × 4 columns</p>\n",
       "</div>"
      ],
      "text/plain": [
       "                country    income    health  population\n",
       "0           Afghanistan  0.010024  0.256461    0.023600\n",
       "1               Albania  0.075757  0.772472    0.002067\n",
       "2               Algeria  0.097030  0.786517    0.028789\n",
       "3               Andorra  0.347586  1.000000    0.000013\n",
       "4                Angola  0.053040  0.351124    0.018146\n",
       "..                  ...       ...       ...         ...\n",
       "182             Vietnam  0.037981  0.786517    0.067874\n",
       "183  West Bank and Gaza  0.028123  0.750000    0.003354\n",
       "184               Yemen  0.024857  0.536517    0.019462\n",
       "185              Zambia  0.025968  0.293820    0.011743\n",
       "186            Zimbabwe  0.009087  0.323315    0.011301\n",
       "\n",
       "[187 rows x 4 columns]"
      ]
     },
     "execution_count": 29,
     "metadata": {},
     "output_type": "execute_result"
    }
   ],
   "source": [
    "normalized_health_income = normalize_dataset(health_income, quantitative_columns)\n",
    "normalized_health_income"
   ]
  },
  {
   "cell_type": "markdown",
   "metadata": {},
   "source": [
    "The new minimum and maximum values"
   ]
  },
  {
   "cell_type": "code",
   "execution_count": 30,
   "metadata": {},
   "outputs": [
    {
     "data": {
      "text/html": [
       "<div>\n",
       "<style scoped>\n",
       "    .dataframe tbody tr th:only-of-type {\n",
       "        vertical-align: middle;\n",
       "    }\n",
       "\n",
       "    .dataframe tbody tr th {\n",
       "        vertical-align: top;\n",
       "    }\n",
       "\n",
       "    .dataframe thead th {\n",
       "        text-align: right;\n",
       "    }\n",
       "</style>\n",
       "<table border=\"1\" class=\"dataframe\">\n",
       "  <thead>\n",
       "    <tr style=\"text-align: right;\">\n",
       "      <th></th>\n",
       "      <th>country</th>\n",
       "      <th>income</th>\n",
       "      <th>health</th>\n",
       "      <th>population</th>\n",
       "    </tr>\n",
       "  </thead>\n",
       "  <tbody>\n",
       "    <tr>\n",
       "      <th>32</th>\n",
       "      <td>Central African Republic</td>\n",
       "      <td>0.000000</td>\n",
       "      <td>0.148876</td>\n",
       "      <td>0.003523</td>\n",
       "    </tr>\n",
       "    <tr>\n",
       "      <th>93</th>\n",
       "      <td>Lesotho</td>\n",
       "      <td>0.015112</td>\n",
       "      <td>0.000000</td>\n",
       "      <td>0.001513</td>\n",
       "    </tr>\n",
       "    <tr>\n",
       "      <th>105</th>\n",
       "      <td>Marshall Islands</td>\n",
       "      <td>0.023148</td>\n",
       "      <td>0.466292</td>\n",
       "      <td>0.000000</td>\n",
       "    </tr>\n",
       "  </tbody>\n",
       "</table>\n",
       "</div>"
      ],
      "text/plain": [
       "                      country    income    health  population\n",
       "32   Central African Republic  0.000000  0.148876    0.003523\n",
       "93                    Lesotho  0.015112  0.000000    0.001513\n",
       "105          Marshall Islands  0.023148  0.466292    0.000000"
      ]
     },
     "execution_count": 30,
     "metadata": {},
     "output_type": "execute_result"
    }
   ],
   "source": [
    "normalized_health_income.loc[normalized_health_income[quantitative_columns].idxmin(), :]"
   ]
  },
  {
   "cell_type": "code",
   "execution_count": 31,
   "metadata": {},
   "outputs": [
    {
     "data": {
      "text/html": [
       "<div>\n",
       "<style scoped>\n",
       "    .dataframe tbody tr th:only-of-type {\n",
       "        vertical-align: middle;\n",
       "    }\n",
       "\n",
       "    .dataframe tbody tr th {\n",
       "        vertical-align: top;\n",
       "    }\n",
       "\n",
       "    .dataframe thead th {\n",
       "        text-align: right;\n",
       "    }\n",
       "</style>\n",
       "<table border=\"1\" class=\"dataframe\">\n",
       "  <thead>\n",
       "    <tr style=\"text-align: right;\">\n",
       "      <th></th>\n",
       "      <th>country</th>\n",
       "      <th>income</th>\n",
       "      <th>health</th>\n",
       "      <th>population</th>\n",
       "    </tr>\n",
       "  </thead>\n",
       "  <tbody>\n",
       "    <tr>\n",
       "      <th>134</th>\n",
       "      <td>Qatar</td>\n",
       "      <td>1.000000</td>\n",
       "      <td>0.941011</td>\n",
       "      <td>0.001586</td>\n",
       "    </tr>\n",
       "    <tr>\n",
       "      <th>3</th>\n",
       "      <td>Andorra</td>\n",
       "      <td>0.347586</td>\n",
       "      <td>1.000000</td>\n",
       "      <td>0.000013</td>\n",
       "    </tr>\n",
       "    <tr>\n",
       "      <th>35</th>\n",
       "      <td>China</td>\n",
       "      <td>0.096275</td>\n",
       "      <td>0.797753</td>\n",
       "      <td>1.000000</td>\n",
       "    </tr>\n",
       "  </tbody>\n",
       "</table>\n",
       "</div>"
      ],
      "text/plain": [
       "     country    income    health  population\n",
       "134    Qatar  1.000000  0.941011    0.001586\n",
       "3    Andorra  0.347586  1.000000    0.000013\n",
       "35     China  0.096275  0.797753    1.000000"
      ]
     },
     "execution_count": 31,
     "metadata": {},
     "output_type": "execute_result"
    }
   ],
   "source": [
    "normalized_health_income.loc[normalized_health_income[quantitative_columns].idxmax(), :]"
   ]
  },
  {
   "cell_type": "markdown",
   "metadata": {},
   "source": [
    "Plotting the normalized data, we got the same results, but with the `income`, `health`, and `population` scales all normalized to the \\[0, 1\\] range."
   ]
  },
  {
   "cell_type": "markdown",
   "metadata": {},
   "source": [
    "## Maximum values"
   ]
  },
  {
   "cell_type": "code",
   "execution_count": 32,
   "metadata": {},
   "outputs": [
    {
     "data": {
      "application/vnd.vegalite.v3+json": {
       "$schema": "https://vega.github.io/schema/vega-lite/v3.4.0.json",
       "config": {
        "mark": {
         "tooltip": null
        },
        "view": {
         "height": 300,
         "width": 400
        }
       },
       "data": {
        "name": "data-49b19e76478506efac8708c9c64d92a1"
       },
       "datasets": {
        "data-49b19e76478506efac8708c9c64d92a1": [
         {
          "country": "Afghanistan",
          "health": 0.2564606741573035,
          "income": 0.010024342672250866,
          "population": 0.023600046933277673
         },
         {
          "country": "Albania",
          "health": 0.7724719101123597,
          "income": 0.07575711758569074,
          "population": 0.0020666383502073535
         },
         {
          "country": "Algeria",
          "health": 0.7865168539325844,
          "income": 0.09703049637883851,
          "population": 0.028788984444321947
         },
         {
          "country": "Andorra",
          "health": 1,
          "income": 0.3475861443323909,
          "population": 1.2703525762557658e-05
         },
         {
          "country": "Angola",
          "health": 0.35112359550561806,
          "income": 0.0530398100969171,
          "population": 0.018146115182969835
         },
         {
          "country": "Antigua and Barbuda",
          "health": 0.7500000000000002,
          "income": 0.15459864830130482,
          "population": 2.821592607158473e-05
         },
         {
          "country": "Argentina",
          "health": 0.7780898876404496,
          "income": 0.12658945554060388,
          "population": 0.03151445467553884
         },
         {
          "country": "Armenia",
          "health": 0.7275280898876407,
          "income": 0.05415866584012458,
          "population": 0.0021545986381718636
         },
         {
          "country": "Australia",
          "health": 0.9353932584269664,
          "income": 0.32852779751734984,
          "population": 0.017380850575904674
         },
         {
          "country": "Austria",
          "health": 0.9129213483146069,
          "income": 0.3311359409727997,
          "population": 0.006171234006902418
         },
         {
          "country": "Azerbaijan",
          "health": 0.6853932584269665,
          "income": 0.1238830342158182,
          "population": 0.007050147931031338
         },
         {
          "country": "Bahamas",
          "health": 0.6685393258426967,
          "income": 0.1679719983670754,
          "population": 0.00024347891430930447
         },
         {
          "country": "Bahrain",
          "health": 0.8623595505617979,
          "income": 0.3291477040777756,
          "population": 0.0009623894605213046
         },
         {
          "country": "Bangladesh",
          "health": 0.6067415730337078,
          "income": 0.019368300095253935,
          "population": 0.11696447871085668
         },
         {
          "country": "Barbados",
          "health": 0.7668539325842697,
          "income": 0.09362857013259952,
          "population": 0.0001680397387797544
         },
         {
          "country": "Belarus",
          "health": 0.6151685393258429,
          "income": 0.12712620390389937,
          "population": 0.0068625441811801845
         },
         {
          "country": "Belgium",
          "health": 0.8960674157303374,
          "income": 0.30723929905199654,
          "population": 0.008173133794470834
         },
         {
          "country": "Belize",
          "health": 0.603932584269663,
          "income": 0.059737824883956514,
          "population": 0.00022259803889684415
         },
         {
          "country": "Benin",
          "health": 0.4775280898876405,
          "income": 0.009306158242489303,
          "population": 0.00786836327534249
         },
         {
          "country": "Bhutan",
          "health": 0.609550561797753,
          "income": 0.05582182978273031,
          "population": 0.0005245923870633485
         },
         {
          "country": "Bolivia",
          "health": 0.6685393258426967,
          "income": 0.04306082644128275,
          "population": 0.007755627478409366
         },
         {
          "country": "Bosnia and Herzegovina",
          "health": 0.8258426966292137,
          "income": 0.06980752657282391,
          "population": 0.002730693357055302
         },
         {
          "country": "Botswana",
          "health": 0.5028089887640452,
          "income": 0.1254705997973964,
          "population": 0.00160574019131379
         },
         {
          "country": "Brazil",
          "health": 0.7612359550561797,
          "income": 0.11220308743706436,
          "population": 0.15101391468485065
         },
         {
          "country": "Brunei",
          "health": 0.8483146067415732,
          "income": 0.5473623731837494,
          "population": 0.00026903785581636343
         },
         {
          "country": "Bulgaria",
          "health": 0.7415730337078654,
          "income": 0.11923373501262492,
          "population": 0.005157568959414452
         },
         {
          "country": "Burkina Faso",
          "health": 0.40168539325842695,
          "income": 0.007975627088404724,
          "population": 0.013119643993138207
         },
         {
          "country": "Burundi",
          "health": 0.33426966292134835,
          "income": 0.001345650826290086,
          "population": 0.008085727287206041
         },
         {
          "country": "Cambodia",
          "health": 0.558988764044944,
          "income": 0.020169642722145782,
          "population": 0.011282668382853888
         },
         {
          "country": "Cameroon",
          "health": 0.30898876404494385,
          "income": 0.017372503364127066,
          "population": 0.01692678383246695
         },
         {
          "country": "Canada",
          "health": 0.9325842696629216,
          "income": 0.3227672024070518,
          "population": 0.026080697403215468
         },
         {
          "country": "Cape Verde",
          "health": 0.7331460674157303,
          "income": 0.04471643054778572,
          "population": 0.00033976044769608516
         },
         {
          "country": "Central African Republic",
          "health": 0.14887640449438197,
          "income": 0,
          "population": 0.0035227436534242705
         },
         {
          "country": "Chad",
          "health": 0.25842696629213496,
          "income": 0.01203525907558324,
          "population": 0.010163168721535845
         },
         {
          "country": "Chile",
          "health": 0.8651685393258427,
          "income": 0.1653033762228035,
          "population": 0.013005233045925753
         },
         {
          "country": "China",
          "health": 0.7977528089887643,
          "income": 0.09627451276856318,
          "population": 1
         },
         {
          "country": "Colombia",
          "health": 0.7668539325842697,
          "income": 0.09194272668168554,
          "population": 0.03501152092780506
         },
         {
          "country": "Comoros",
          "health": 0.43820224719101114,
          "income": 0.006599736917703624,
          "population": 0.0005345081139228644
         },
         {
          "country": "Congo, Dem. Rep.",
          "health": 0.27528089887640445,
          "income": 0.0015875655815781914,
          "population": 0.05611486065783842
         },
         {
          "country": "Congo, Rep.",
          "health": 0.3764044943820225,
          "income": 0.042493838733576254,
          "population": 0.0033192953801935246
         },
         {
          "country": "Costa Rica",
          "health": 0.8848314606741574,
          "income": 0.1023072619785603,
          "population": 0.003455574851074235
         },
         {
          "country": "Cote d'Ivoire",
          "health": 0.33230337078651684,
          "income": 0.021863046009162522,
          "population": 0.01645975992879921
         },
         {
          "country": "Croatia",
          "health": 0.8286516853932585,
          "income": 0.14863393761623248,
          "population": 0.003043122328957436
         },
         {
          "country": "Cuba",
          "health": 0.8426966292134833,
          "income": 0.15642812863817113,
          "population": 0.008238809859869137
         },
         {
          "country": "Cyprus",
          "health": 0.9578651685393258,
          "income": 0.22073209452819062,
          "population": 0.0008083650246208937
         },
         {
          "country": "Czech Republic",
          "health": 0.8455056179775281,
          "income": 0.21801055353119944,
          "population": 0.007623709212225516
         },
         {
          "country": "Denmark",
          "health": 0.8876404494382022,
          "income": 0.32428672946370524,
          "population": 0.004081471315377055
         },
         {
          "country": "Djibouti",
          "health": 0.4530898876404494,
          "income": 0.019201983700993363,
          "population": 0.0006067372509344958
         },
         {
          "country": "Dominica",
          "health": 0.7331460674157303,
          "income": 0.0748726167616686,
          "population": 1.4307454902029327e-05
         },
         {
          "country": "Dominican Republic",
          "health": 0.7106741573033708,
          "income": 0.09251727422549479,
          "population": 0.007612957000345822
         },
         {
          "country": "Ecuador",
          "health": 0.7500000000000002,
          "income": 0.07859961596032598,
          "population": 0.011694344013149166
         },
         {
          "country": "Egypt",
          "health": 0.6404494382022472,
          "income": 0.07886421022392234,
          "population": 0.06646465129494022
         },
         {
          "country": "El Salvador",
          "health": 0.7191011235955056,
          "income": 0.05425694370946038,
          "population": 0.004413959212597973
         },
         {
          "country": "Equatorial Guinea",
          "health": 0.3407303370786518,
          "income": 0.23048428310074237,
          "population": 0.0005756317814743569
         },
         {
          "country": "Eritrea",
          "health": 0.40449438202247195,
          "income": 0.004006713134459245,
          "population": 0.003760765429578481
         },
         {
          "country": "Estonia",
          "health": 0.7949438202247191,
          "income": 0.19816598376147204,
          "population": 0.000915384234960866
         },
         {
          "country": "Ethiopia",
          "health": 0.4241573033707866,
          "income": 0.006962609050635782,
          "population": 0.0721933498423451
         },
         {
          "country": "Fiji",
          "health": 0.5,
          "income": 0.05538335928877062,
          "population": 0.0006098506321911776
         },
         {
          "country": "Finland",
          "health": 0.9073033707865169,
          "income": 0.2897231588019172,
          "population": 0.0039611046820304955
         },
         {
          "country": "France",
          "health": 0.9382022471910115,
          "income": 0.2797139358018718,
          "population": 0.04676056786359001
         },
         {
          "country": "Gabon",
          "health": 0.33792134831460685,
          "income": 0.13628872526043637,
          "population": 0.001215337152700195
         },
         {
          "country": "Gambia",
          "health": 0.4662921348314606,
          "income": 0.00790002872737719,
          "population": 0.0014083842325262658
         },
         {
          "country": "Georgia",
          "health": 0.6966292134831461,
          "income": 0.051973873206428885,
          "population": 0.0028683362040418797
         },
         {
          "country": "Germany",
          "health": 0.9157303370786517,
          "income": 0.3285051180090416,
          "population": 0.05860159108753191
         },
         {
          "country": "Ghana",
          "health": 0.4775280898876405,
          "income": 0.026459426359636523,
          "population": 0.019881526540830297
         },
         {
          "country": "Greece",
          "health": 0.8792134831460675,
          "income": 0.187718290267467,
          "population": 0.007922715179503253
         },
         {
          "country": "Grenada",
          "health": 0.6516853932584271,
          "income": 0.0831128381136697,
          "population": 3.912220817219702e-05
         },
         {
          "country": "Guatemala",
          "health": 0.6910112359550561,
          "income": 0.05049970516639199,
          "population": 0.011838627868054409
         },
         {
          "country": "Guinea",
          "health": 0.34550561797752805,
          "income": 0.004732457400323561,
          "population": 0.009124733979049865
         },
         {
          "country": "Guinea-Bissau",
          "health": 0.13764044943820222,
          "income": 0.005949591012866841,
          "population": 0.0013018439480145271
         },
         {
          "country": "Guyana",
          "health": 0.4466292134831463,
          "income": 0.04699950105081722,
          "population": 0.0005189637367755334
         },
         {
          "country": "Haiti",
          "health": 0.47191011235955055,
          "income": 0.008398977910158908,
          "population": 0.007745716112027801
         },
         {
          "country": "Honduras",
          "health": 0.6713483146067418,
          "income": 0.027752158333207336,
          "population": 0.005830007711868629
         },
         {
          "country": "Hungary",
          "health": 0.7780898876404496,
          "income": 0.17841969186108045,
          "population": 0.007123589280913218
         },
         {
          "country": "Iceland",
          "health": 0.9634831460674158,
          "income": 0.31436066466079016,
          "population": 0.00020089594013703312
         },
         {
          "country": "India",
          "health": 0.5140449438202247,
          "income": 0.040097370689003466,
          "population": 0.9527626400353867
         },
         {
          "country": "Indonesia",
          "health": 0.6292134831460677,
          "income": 0.07488017659777137,
          "population": 0.18714504355917616
         },
         {
          "country": "Iran",
          "health": 0.8426966292134833,
          "income": 0.1132009858026278,
          "population": 0.057453860238469455
         },
         {
          "country": "Iraq",
          "health": 0.6629213483146067,
          "income": 0.1061930177353755,
          "population": 0.02643205599551365
         },
         {
          "country": "Ireland",
          "health": 0.8960674157303374,
          "income": 0.3565143107697425,
          "population": 0.003368812241053471
         },
         {
          "country": "Israel",
          "health": 0.9522471910112362,
          "income": 0.23428688066042727,
          "population": 0.0058219960603808464
         },
         {
          "country": "Italy",
          "health": 0.9438202247191011,
          "income": 0.24719152088782714,
          "population": 0.0434192353545808
         },
         {
          "country": "Jamaica",
          "health": 0.7584269662921349,
          "income": 0.060531607674745615,
          "population": 0.0019915334779873443
         },
         {
          "country": "Japan",
          "health": 0.9831460674157305,
          "income": 0.26885045132221536,
          "population": 0.09194829970248096
         },
         {
          "country": "Jordan",
          "health": 0.8370786516853933,
          "income": 0.08431485205400747,
          "population": 0.005480796654961085
         },
         {
          "country": "Kazakhstan",
          "health": 0.5533707865168541,
          "income": 0.17288589183386505,
          "population": 0.012770555756359603
         },
         {
          "country": "Kenya",
          "health": 0.5092696629213482,
          "income": 0.01738006320022982,
          "population": 0.033428375279738284
         },
         {
          "country": "Kiribati",
          "health": 0.3904494382022472,
          "income": 0.009260799225872782,
          "population": 4.319053410004586e-05
         },
         {
          "country": "Kuwait",
          "health": 0.9044943820224721,
          "income": 0.6201635948532636,
          "population": 0.0027900678050687576
         },
         {
          "country": "Kyrgyz Republic",
          "health": 0.5758426966292136,
          "income": 0.02000332632788521,
          "population": 0.004278333086663518
         },
         {
          "country": "Lao",
          "health": 0.5028089887640452,
          "income": 0.03487352394200094,
          "population": 0.004904832750416162
         },
         {
          "country": "Latvia",
          "health": 0.7640449438202249,
          "income": 0.17147976231875292,
          "population": 0.001393543345821621
         },
         {
          "country": "Lebanon",
          "health": 0.8426966292134833,
          "income": 0.12436686372639441,
          "population": 0.0042134935062853925
         },
         {
          "country": "Lesotho",
          "health": 0,
          "income": 0.015112112369403831,
          "population": 0.0015131069244789565
         },
         {
          "country": "Liberia",
          "health": 0.43258426966292135,
          "income": 0.0027139811608884318,
          "population": 0.003234344548761208
         },
         {
          "country": "Libya",
          "health": 0.7780898876404496,
          "income": 0.12596198914407536,
          "population": 0.00452431927579438
         },
         {
          "country": "Lithuania",
          "health": 0.7556179775280901,
          "income": 0.1970546878543673,
          "population": 0.002053357787862675
         },
         {
          "country": "Luxembourg",
          "health": 0.9157303370786517,
          "income": 0.663111023753005,
          "population": 0.00037363264041583846
         },
         {
          "country": "Macedonia, FYR",
          "health": 0.8005617977528091,
          "income": 0.09032492175569634,
          "population": 0.0014719956116149907
         },
         {
          "country": "Madagascar",
          "health": 0.45505617977528107,
          "income": 0.006055428718305387,
          "population": 0.01757446815159594
         },
         {
          "country": "Malawi",
          "health": 0.3292134831460674,
          "income": 0.0015119672205506584,
          "population": 0.012472594123551018
         },
         {
          "country": "Malaysia",
          "health": 0.747191011235955,
          "income": 0.17932687219341084,
          "population": 0.022004435405496653
         },
         {
          "country": "Maldives",
          "health": 0.8707865168539327,
          "income": 0.10439377674292022,
          "population": 0.00022577392033748355
         },
         {
          "country": "Mali",
          "health": 0.25561797752808996,
          "income": 0.008202422171487322,
          "population": 0.012752000469187428
         },
         {
          "country": "Malta",
          "health": 0.9438202247191011,
          "income": 0.22427009782427917,
          "population": 0.0002657544159196108
         },
         {
          "country": "Marshall Islands",
          "health": 0.4662921348314606,
          "income": 0.02314821814663058,
          "population": 0
         },
         {
          "country": "Mauritania",
          "health": 0.4831460674157305,
          "income": 0.02478114274482529,
          "population": 0.002917574721059317
         },
         {
          "country": "Mauritius",
          "health": 0.713483146067416,
          "income": 0.13419465065997369,
          "population": 0.0008867896740539098
         },
         {
          "country": "Mexico",
          "health": 0.7303370786516855,
          "income": 0.12285489650584375,
          "population": 0.09227078829701497
         },
         {
          "country": "Micronesia, Fed. Sts.",
          "health": 0.5196629213483147,
          "income": 0.022006682895114833,
          "population": 3.740345311336127e-05
         },
         {
          "country": "Moldova",
          "health": 0.6797752808988766,
          "income": 0.0324846157335309,
          "population": 0.0029185434739106607
         },
         {
          "country": "Mongolia",
          "health": 0.47191011235955055,
          "income": 0.08482136107289194,
          "population": 0.002112027291940794
         },
         {
          "country": "Montenegro",
          "health": 0.7668539325842697,
          "income": 0.10760670708659037,
          "population": 0.00041627157405514165
         },
         {
          "country": "Morocco",
          "health": 0.7359550561797755,
          "income": 0.050802098610502125,
          "population": 0.024945217316955037
         },
         {
          "country": "Mozambique",
          "health": 0.22191011235955055,
          "income": 0.00436202543128865,
          "population": 0.02029429665109116
         },
         {
          "country": "Myanmar",
          "health": 0.5449438202247193,
          "income": 0.025801720618696986,
          "population": 0.03913104613425643
         },
         {
          "country": "Namibia",
          "health": 0.35112359550561806,
          "income": 0.07137241264609383,
          "population": 0.0017484331985134114
         },
         {
          "country": "Nepal",
          "health": 0.6376404494382024,
          "income": 0.013252392688126521,
          "population": 0.020683714221687934
         },
         {
          "country": "Netherlands",
          "health": 0.901685393258427,
          "income": 0.3415911943029075,
          "population": 0.012261617485138673
         },
         {
          "country": "New Zealand",
          "health": 0.901685393258427,
          "income": 0.2539122151831748,
          "population": 0.003252577160565044
         },
         {
          "country": "Nicaragua",
          "health": 0.7949438202247191,
          "income": 0.031093605890624293,
          "population": 0.004381581937068928
         },
         {
          "country": "Niger",
          "health": 0.38483146067415747,
          "income": 0.0026005836193471327,
          "population": 0.014423099864501781
         },
         {
          "country": "Nigeria",
          "health": 0.3603932584269663,
          "income": 0.038766839534918884,
          "population": 0.1323760938395204
         },
         {
          "country": "North Korea",
          "health": 0.6432584269662924,
          "income": 0.005979830357277854,
          "population": 0.01824302171819619
         },
         {
          "country": "Norway",
          "health": 0.9297752808988764,
          "income": 0.4815993589258985,
          "population": 0.0037485386494051816
         },
         {
          "country": "Oman",
          "health": 0.7640449438202249,
          "income": 0.36005231406583105,
          "population": 0.003224971701406534
         },
         {
          "country": "Pakistan",
          "health": 0.50561797752809,
          "income": 0.031327960809809645,
          "population": 0.13726194542941786
         },
         {
          "country": "Panama",
          "health": 0.8342696629213485,
          "income": 0.15033490073935196,
          "population": 0.002816976314501507
         },
         {
          "country": "Papua New Guinea",
          "health": 0.3398876404494383,
          "income": 0.014590483678313854,
          "population": 0.005498801068418842
         },
         {
          "country": "Paraguay",
          "health": 0.713483146067416,
          "income": 0.057605951102980085,
          "population": 0.004786445774059146
         },
         {
          "country": "Peru",
          "health": 0.8146067415730338,
          "income": 0.08545638730552321,
          "population": 0.022764367148028306
         },
         {
          "country": "Philippines",
          "health": 0.609550561797753,
          "income": 0.047453091216982414,
          "population": 0.07314440278694134
         },
         {
          "country": "Poland",
          "health": 0.8089887640449439,
          "income": 0.18285731565339663,
          "population": 0.028022466926592333
         },
         {
          "country": "Portugal",
          "health": 0.8792134831460675,
          "income": 0.19533104522293956,
          "population": 0.007483168827640808
         },
         {
          "country": "Qatar",
          "health": 0.9410112359550563,
          "income": 1,
          "population": 0.0015860235635141223
         },
         {
          "country": "Romania",
          "health": 0.7949438202247191,
          "income": 0.14064319085562224,
          "population": 0.014141270546617525
         },
         {
          "country": "Russia",
          "health": 0.6918539325842696,
          "income": 0.16963516230968112,
          "population": 0.10421827549710448
         },
         {
          "country": "Rwanda",
          "health": 0.5064606741573034,
          "income": 0.007181844297615628,
          "population": 0.00839876963300655
         },
         {
          "country": "Samoa",
          "health": 0.6657303370786519,
          "income": 0.03748922723355358,
          "population": 0.00010191527089887147
         },
         {
          "country": "Sao Tome and Principe",
          "health": 0.5702247191011236,
          "income": 0.018173845991018914,
          "population": 9.981933449731448e-05
         },
         {
          "country": "Saudi Arabia",
          "health": 0.8314606741573033,
          "income": 0.39212869864981326,
          "population": 0.022883336974938044
         },
         {
          "country": "Senegal",
          "health": 0.49438202247191004,
          "income": 0.012488849241748439,
          "population": 0.01095663108601446
         },
         {
          "country": "Serbia",
          "health": 0.8314606741573033,
          "income": 0.09305402258879028,
          "population": 0.006393901086700146
         },
         {
          "country": "Seychelles",
          "health": 0.707865168539326,
          "income": 0.18963848863756633,
          "population": 3.159747672222436e-05
         },
         {
          "country": "Sierra Leone",
          "health": 0.2808988764044944,
          "income": 0.011233916448691393,
          "population": 0.004651315289118402
         },
         {
          "country": "Singapore",
          "health": 0.9438202247191011,
          "income": 0.6062610562603002,
          "population": 0.0040339849837494075
         },
         {
          "country": "Slovak Republic",
          "health": 0.7837078651685396,
          "income": 0.20112943951375134,
          "population": 0.0039050005924799415
         },
         {
          "country": "Slovenia",
          "health": 0.8904494382022474,
          "income": 0.21130497890805727,
          "population": 0.0014640544545207418
         },
         {
          "country": "Solomon Islands",
          "health": 0.43820224719101114,
          "income": 0.010946642676786767,
          "population": 0.00038561014659963205
         },
         {
          "country": "Somalia",
          "health": 0.2865168539325844,
          "income": 0.0001889959025688323,
          "population": 0.007800975722348601
         },
         {
          "country": "South Africa",
          "health": 0.42752808988764046,
          "income": 0.09003764798379171,
          "population": 0.03956218984510819
         },
         {
          "country": "South Korea",
          "health": 0.9044943820224721,
          "income": 0.25737462011823586,
          "population": 0.03651205950133792
         },
         {
          "country": "South Sudan",
          "health": 0.2668539325842697,
          "income": 0.01850647877954006,
          "population": 0.008929400555285065
         },
         {
          "country": "Spain",
          "health": 0.9325842696629216,
          "income": 0.2447874930071516,
          "population": 0.03348026278711067
         },
         {
          "country": "Sri Lanka",
          "health": 0.7865168539325844,
          "income": 0.07578735693010176,
          "population": 0.015016044923678737
         },
         {
          "country": "St. Lucia",
          "health": 0.7303370786516855,
          "income": 0.07104733969367544,
          "population": 9.593487538971317e-05
         },
         {
          "country": "St. Vincent and the Grenadines",
          "health": 0.6853932584269665,
          "income": 0.07435854790668138,
          "population": 4.1038638231457005e-05
         },
         {
          "country": "Sudan",
          "health": 0.5898876404494383,
          "income": 0.025522006682895115,
          "population": 0.02920204016588857
         },
         {
          "country": "Suriname",
          "health": 0.6179775280898877,
          "income": 0.1249338514341009,
          "population": 0.00035609261785981276
         },
         {
          "country": "Swaziland",
          "health": 0.08426966292134833,
          "income": 0.04154885922073209,
          "population": 0.0008967882499944858
         },
         {
          "country": "Sweden",
          "health": 0.9410112359550563,
          "income": 0.3348478204992516,
          "population": 0.0070686494389754564
         },
         {
          "country": "Switzerland",
          "health": 0.966292134831461,
          "income": 0.41971454058876,
          "population": 0.005992510370397529
         },
         {
          "country": "Syria",
          "health": 0.61123595505618,
          "income": 0.030526618182917794,
          "population": 0.013408048185025544
         },
         {
          "country": "Tajikistan",
          "health": 0.6320224719101125,
          "income": 0.014991154991759778,
          "population": 0.006125644483183253
         },
         {
          "country": "Tanzania",
          "health": 0.4193820224719102,
          "income": 0.014907996794629492,
          "population": 0.038820918767965854
         },
         {
          "country": "Thailand",
          "health": 0.747191011235955,
          "income": 0.10517999969760655,
          "population": 0.04935070194065615
         },
         {
          "country": "Timor-Leste",
          "health": 0.6713483146067418,
          "income": 0.011241476284794145,
          "population": 0.0008225111418387533
         },
         {
          "country": "Togo",
          "health": 0.44185393258426986,
          "income": 0.006304903309696246,
          "population": 0.00527006274982132
         },
         {
          "country": "Tonga",
          "health": 0.6179775280898877,
          "income": 0.03379246737930722,
          "population": 3.864618932926365e-05
         },
         {
          "country": "Trinidad and Tobago",
          "health": 0.6432584269662924,
          "income": 0.22312100273666066,
          "population": 0.0009499264877923515
         },
         {
          "country": "Tunisia",
          "health": 0.8089887640449439,
          "income": 0.07958239465368391,
          "population": 0.008139966545686416
         },
         {
          "country": "Turkey",
          "health": 0.7865168539325844,
          "income": 0.14183008512375453,
          "population": 0.05713159039457929
         },
         {
          "country": "Turkmenistan",
          "health": 0.5449438202247193,
          "income": 0.11540845794463175,
          "population": 0.0038666603633535405
         },
         {
          "country": "Uganda",
          "health": 0.34550561797752805,
          "income": 0.008172182827076309,
          "population": 0.028328128436715238
         },
         {
          "country": "Ukraine",
          "health": 0.6629213483146067,
          "income": 0.05934471340661335,
          "population": 0.03253699402240246
         },
         {
          "country": "United Arab Emirates",
          "health": 0.7893258426966292,
          "income": 0.45472414158061053,
          "population": 0.006616276741221513
         },
         {
          "country": "United Kingdom",
          "health": 0.9241573033707868,
          "income": 0.2844463932021954,
          "population": 0.04699346462465969
         },
         {
          "country": "United States",
          "health": 0.8595505617977528,
          "income": 0.39881915360074993,
          "population": 0.23380929137182416
         },
         {
          "country": "Uruguay",
          "health": 0.8089887640449439,
          "income": 0.14997958844252257,
          "population": 0.002455357517585717
         },
         {
          "country": "Uzbekistan",
          "health": 0.6067415730337078,
          "income": 0.03779162067766371,
          "population": 0.02168647008008999
         },
         {
          "country": "Vanuatu",
          "health": 0.4634831460674158,
          "income": 0.017485900905668365,
          "population": 0.00015382240042203612
         },
         {
          "country": "Venezuela",
          "health": 0.7668539325842697,
          "income": 0.11456175630112339,
          "population": 0.0225691725328116
         },
         {
          "country": "Vietnam",
          "health": 0.7865168539325844,
          "income": 0.03798061658023254,
          "population": 0.06787418814713808
         },
         {
          "country": "West Bank and Gaza",
          "health": 0.7500000000000002,
          "income": 0.028122590302242248,
          "population": 0.003354278041298014
         },
         {
          "country": "Yemen",
          "health": 0.5365168539325842,
          "income": 0.024856741105852825,
          "population": 0.01946170117724547
         },
         {
          "country": "Zambia",
          "health": 0.2938202247191012,
          "income": 0.025968037012957558,
          "population": 0.011743329622445474
         },
         {
          "country": "Zimbabwe",
          "health": 0.32331460674157303,
          "income": 0.009086922995509457,
          "population": 0.011300729482525003
         }
        ]
       },
       "encoding": {
        "size": {
         "field": "population",
         "type": "quantitative"
        },
        "tooltip": {
         "field": "country",
         "type": "nominal"
        },
        "x": {
         "field": "income",
         "type": "quantitative"
        },
        "y": {
         "field": "health",
         "type": "quantitative"
        }
       },
       "height": 600,
       "mark": "point",
       "width": 800
      },
      "text/plain": [
       "<VegaLite 3 object>\n",
       "\n",
       "If you see this message, it means the renderer has not been properly enabled\n",
       "for the frontend that you are using. For more information, see\n",
       "https://altair-viz.github.io/user_guide/troubleshooting.html\n"
      ]
     },
     "execution_count": 32,
     "metadata": {},
     "output_type": "execute_result"
    }
   ],
   "source": [
    "alt.Chart(normalized_health_income).mark_point().encode(\n",
    "    alt.X('income:Q',),\n",
    "    alt.Y('health:Q'),\n",
    "    alt.Size('population:Q'),\n",
    "    alt.Tooltip('country:N')\n",
    ").properties(height=600, width=800)"
   ]
  }
 ],
 "metadata": {
  "hide_input": false,
  "kernelspec": {
   "display_name": "Python 3",
   "language": "python",
   "name": "python3"
  },
  "language_info": {
   "codemirror_mode": {
    "name": "ipython",
    "version": 3
   },
   "file_extension": ".py",
   "mimetype": "text/x-python",
   "name": "python",
   "nbconvert_exporter": "python",
   "pygments_lexer": "ipython3",
   "version": "3.8.5"
  },
  "toc": {
   "base_numbering": 1,
   "nav_menu": {},
   "number_sections": true,
   "sideBar": true,
   "skip_h1_title": false,
   "title_cell": "Table of Contents",
   "title_sidebar": "Contents",
   "toc_cell": false,
   "toc_position": {},
   "toc_section_display": true,
   "toc_window_display": false
  }
 },
 "nbformat": 4,
 "nbformat_minor": 2
}
