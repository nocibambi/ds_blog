{
 "metadata": {
  "language_info": {
   "codemirror_mode": {
    "name": "ipython",
    "version": 3
   },
   "file_extension": ".py",
   "mimetype": "text/x-python",
   "name": "python",
   "nbconvert_exporter": "python",
   "pygments_lexer": "ipython3",
   "version": "3.8.5-final"
  },
  "orig_nbformat": 2,
  "kernelspec": {
   "name": "python_defaultSpec_1600676581010",
   "display_name": "Python 3.8.5 64-bit ('ds_blog': conda)"
  }
 },
 "nbformat": 4,
 "nbformat_minor": 2,
 "cells": [
  {
   "source": [
    "# Data scale normalization"
   ],
   "cell_type": "markdown",
   "metadata": {}
  },
  {
   "source": [
    "Normalization is a common technique used in machine learning to render the scales of different magnitudes to a common range between 0 and 1.\n",
    "\n",
    "Here we demonstrate how this is done with pandas and altair.\n",
    "\n",
    "\n",
    "Original inspiration: (Jason Brownlee: Machine Learning Algorithms from Scratch)[https://machinelearningmastery.com/machine-learning-algorithms-from-scratch/]"
   ],
   "cell_type": "markdown",
   "metadata": {}
  },
  {
   "cell_type": "code",
   "execution_count": 1,
   "metadata": {},
   "outputs": [
    {
     "output_type": "execute_result",
     "data": {
      "text/plain": "RendererRegistry(active='json', registered=['colab', 'default', 'json', 'jupyterlab', 'kaggle', 'nteract', 'png', 'svg', 'zeppelin'])"
     },
     "metadata": {},
     "execution_count": 1
    }
   ],
   "source": [
    "import altair as alt\n",
    "\n",
    "alt.renderers.enable('json')\n",
    "alt.renderers"
   ]
  },
  {
   "cell_type": "code",
   "execution_count": 2,
   "metadata": {},
   "outputs": [],
   "source": [
    "from vega_datasets import data"
   ]
  },
  {
   "source": [
    "We use the Gapminder health and income dataset"
   ],
   "cell_type": "markdown",
   "metadata": {}
  },
  {
   "cell_type": "code",
   "execution_count": 3,
   "metadata": {},
   "outputs": [
    {
     "output_type": "execute_result",
     "data": {
      "text/plain": "       country  income  health  population\n0  Afghanistan    1925   57.63    32526562\n1      Albania   10620   76.00     2896679\n2      Algeria   13434   76.50    39666519\n3      Andorra   46577   84.10       70473\n4       Angola    7615   61.00    25021974",
      "text/html": "<div>\n<style scoped>\n    .dataframe tbody tr th:only-of-type {\n        vertical-align: middle;\n    }\n\n    .dataframe tbody tr th {\n        vertical-align: top;\n    }\n\n    .dataframe thead th {\n        text-align: right;\n    }\n</style>\n<table border=\"1\" class=\"dataframe\">\n  <thead>\n    <tr style=\"text-align: right;\">\n      <th></th>\n      <th>country</th>\n      <th>income</th>\n      <th>health</th>\n      <th>population</th>\n    </tr>\n  </thead>\n  <tbody>\n    <tr>\n      <th>0</th>\n      <td>Afghanistan</td>\n      <td>1925</td>\n      <td>57.63</td>\n      <td>32526562</td>\n    </tr>\n    <tr>\n      <th>1</th>\n      <td>Albania</td>\n      <td>10620</td>\n      <td>76.00</td>\n      <td>2896679</td>\n    </tr>\n    <tr>\n      <th>2</th>\n      <td>Algeria</td>\n      <td>13434</td>\n      <td>76.50</td>\n      <td>39666519</td>\n    </tr>\n    <tr>\n      <th>3</th>\n      <td>Andorra</td>\n      <td>46577</td>\n      <td>84.10</td>\n      <td>70473</td>\n    </tr>\n    <tr>\n      <th>4</th>\n      <td>Angola</td>\n      <td>7615</td>\n      <td>61.00</td>\n      <td>25021974</td>\n    </tr>\n  </tbody>\n</table>\n</div>"
     },
     "metadata": {},
     "execution_count": 3
    }
   ],
   "source": [
    "health_income = data('gapminder-health-income')\n",
    "health_income.head()"
   ]
  },
  {
   "cell_type": "code",
   "execution_count": 4,
   "metadata": {},
   "outputs": [
    {
     "output_type": "execute_result",
     "data": {
      "application/json": {
       "config": {
        "view": {
         "width": 400,
         "height": 300
        },
        "mark": {
         "tooltip": null
        }
       },
       "data": {
        "name": "data-7e3b7ef5d72a8470b0044710e8a24cca"
       },
       "mark": "point",
       "encoding": {
        "size": {
         "type": "quantitative",
         "field": "population"
        },
        "tooltip": {
         "type": "nominal",
         "field": "country"
        },
        "x": {
         "type": "quantitative",
         "field": "income",
         "scale": {
          "domain": [
           599,
           132877
          ]
         }
        },
        "y": {
         "type": "quantitative",
         "field": "health",
         "scale": {
          "domain": [
           48.5,
           84.1
          ]
         }
        }
       },
       "height": 600,
       "width": 800,
       "$schema": "https://vega.github.io/schema/vega-lite/v3.4.0.json",
       "datasets": {
        "data-7e3b7ef5d72a8470b0044710e8a24cca": [
         {
          "country": "Afghanistan",
          "income": 1925,
          "health": 57.63,
          "population": 32526562
         },
         {
          "country": "Albania",
          "income": 10620,
          "health": 76,
          "population": 2896679
         },
         {
          "country": "Algeria",
          "income": 13434,
          "health": 76.5,
          "population": 39666519
         },
         {
          "country": "Andorra",
          "income": 46577,
          "health": 84.1,
          "population": 70473
         },
         {
          "country": "Angola",
          "income": 7615,
          "health": 61,
          "population": 25021974
         },
         {
          "country": "Antigua and Barbuda",
          "income": 21049,
          "health": 75.2,
          "population": 91818
         },
         {
          "country": "Argentina",
          "income": 17344,
          "health": 76.2,
          "population": 43416755
         },
         {
          "country": "Armenia",
          "income": 7763,
          "health": 74.4,
          "population": 3017712
         },
         {
          "country": "Australia",
          "income": 44056,
          "health": 81.8,
          "population": 23968973
         },
         {
          "country": "Austria",
          "income": 44401,
          "health": 81,
          "population": 8544586
         },
         {
          "country": "Azerbaijan",
          "income": 16986,
          "health": 72.9,
          "population": 9753968
         },
         {
          "country": "Bahamas",
          "income": 22818,
          "health": 72.3,
          "population": 388019
         },
         {
          "country": "Bahrain",
          "income": 44138,
          "health": 79.2,
          "population": 1377237
         },
         {
          "country": "Bangladesh",
          "income": 3161,
          "health": 70.1,
          "population": 160995642
         },
         {
          "country": "Barbados",
          "income": 12984,
          "health": 75.8,
          "population": 284215
         },
         {
          "country": "Belarus",
          "income": 17415,
          "health": 70.4,
          "population": 9495826
         },
         {
          "country": "Belgium",
          "income": 41240,
          "health": 80.4,
          "population": 11299192
         },
         {
          "country": "Belize",
          "income": 8501,
          "health": 70,
          "population": 359287
         },
         {
          "country": "Benin",
          "income": 1830,
          "health": 65.5,
          "population": 10879829
         },
         {
          "country": "Bhutan",
          "income": 7983,
          "health": 70.2,
          "population": 774830
         },
         {
          "country": "Bolivia",
          "income": 6295,
          "health": 72.3,
          "population": 10724705
         },
         {
          "country": "Bosnia and Herzegovina",
          "income": 9833,
          "health": 77.9,
          "population": 3810416
         },
         {
          "country": "Botswana",
          "income": 17196,
          "health": 66.4,
          "population": 2262485
         },
         {
          "country": "Brazil",
          "income": 15441,
          "health": 75.6,
          "population": 207847528
         },
         {
          "country": "Brunei",
          "income": 73003,
          "health": 78.7,
          "population": 423188
         },
         {
          "country": "Bulgaria",
          "income": 16371,
          "health": 74.9,
          "population": 7149787
         },
         {
          "country": "Burkina Faso",
          "income": 1654,
          "health": 62.8,
          "population": 18105570
         },
         {
          "country": "Burundi",
          "income": 777,
          "health": 60.4,
          "population": 11178921
         },
         {
          "country": "Cambodia",
          "income": 3267,
          "health": 68.4,
          "population": 15577899
         },
         {
          "country": "Cameroon",
          "income": 2897,
          "health": 59.5,
          "population": 23344179
         },
         {
          "country": "Canada",
          "income": 43294,
          "health": 81.7,
          "population": 35939927
         },
         {
          "country": "Cape Verde",
          "income": 6514,
          "health": 74.6,
          "population": 520502
         },
         {
          "country": "Central African Republic",
          "income": 599,
          "health": 53.8,
          "population": 4900274
         },
         {
          "country": "Chad",
          "income": 2191,
          "health": 57.7,
          "population": 14037472
         },
         {
          "country": "Chile",
          "income": 22465,
          "health": 79.3,
          "population": 17948141
         },
         {
          "country": "China",
          "income": 13334,
          "health": 76.9,
          "population": 1376048943
         },
         {
          "country": "Colombia",
          "income": 12761,
          "health": 75.8,
          "population": 48228704
         },
         {
          "country": "Comoros",
          "income": 1472,
          "health": 64.1,
          "population": 788474
         },
         {
          "country": "Congo, Dem. Rep.",
          "income": 809,
          "health": 58.3,
          "population": 77266814
         },
         {
          "country": "Congo, Rep.",
          "income": 6220,
          "health": 61.9,
          "population": 4620330
         },
         {
          "country": "Costa Rica",
          "income": 14132,
          "health": 80,
          "population": 4807850
         },
         {
          "country": "Cote d'Ivoire",
          "income": 3491,
          "health": 60.33,
          "population": 22701556
         },
         {
          "country": "Croatia",
          "income": 20260,
          "health": 78,
          "population": 4240317
         },
         {
          "country": "Cuba",
          "income": 21291,
          "health": 78.5,
          "population": 11389562
         },
         {
          "country": "Cyprus",
          "income": 29797,
          "health": 82.6,
          "population": 1165300
         },
         {
          "country": "Czech Republic",
          "income": 29437,
          "health": 78.6,
          "population": 10543186
         },
         {
          "country": "Denmark",
          "income": 43495,
          "health": 80.1,
          "population": 5669081
         },
         {
          "country": "Djibouti",
          "income": 3139,
          "health": 64.63,
          "population": 887861
         },
         {
          "country": "Dominica",
          "income": 10503,
          "health": 74.6,
          "population": 72680
         },
         {
          "country": "Dominican Republic",
          "income": 12837,
          "health": 73.8,
          "population": 10528391
         },
         {
          "country": "Ecuador",
          "income": 10996,
          "health": 75.2,
          "population": 16144363
         },
         {
          "country": "Egypt",
          "income": 11031,
          "health": 71.3,
          "population": 91508084
         },
         {
          "country": "El Salvador",
          "income": 7776,
          "health": 74.1,
          "population": 6126583
         },
         {
          "country": "Equatorial Guinea",
          "income": 31087,
          "health": 60.63,
          "population": 845060
         },
         {
          "country": "Eritrea",
          "income": 1129,
          "health": 62.9,
          "population": 5227791
         },
         {
          "country": "Estonia",
          "income": 26812,
          "health": 76.8,
          "population": 1312558
         },
         {
          "country": "Ethiopia",
          "income": 1520,
          "health": 63.6,
          "population": 99390750
         },
         {
          "country": "Fiji",
          "income": 7925,
          "health": 66.3,
          "population": 892145
         },
         {
          "country": "Finland",
          "income": 38923,
          "health": 80.8,
          "population": 5503457
         },
         {
          "country": "France",
          "income": 37599,
          "health": 81.9,
          "population": 64395345
         },
         {
          "country": "Gabon",
          "income": 18627,
          "health": 60.53,
          "population": 1725292
         },
         {
          "country": "Gambia",
          "income": 1644,
          "health": 65.1,
          "population": 1990924
         },
         {
          "country": "Georgia",
          "income": 7474,
          "health": 73.3,
          "population": 3999812
         },
         {
          "country": "Germany",
          "income": 44053,
          "health": 81.1,
          "population": 80688545
         },
         {
          "country": "Ghana",
          "income": 4099,
          "health": 65.5,
          "population": 27409893
         },
         {
          "country": "Greece",
          "income": 25430,
          "health": 79.8,
          "population": 10954617
         },
         {
          "country": "Grenada",
          "income": 11593,
          "health": 71.7,
          "population": 106825
         },
         {
          "country": "Guatemala",
          "income": 7279,
          "health": 73.1,
          "population": 16342897
         },
         {
          "country": "Guinea",
          "income": 1225,
          "health": 60.8,
          "population": 12608590
         },
         {
          "country": "Guinea-Bissau",
          "income": 1386,
          "health": 53.4,
          "population": 1844325
         },
         {
          "country": "Guyana",
          "income": 6816,
          "health": 64.4,
          "population": 767085
         },
         {
          "country": "Haiti",
          "income": 1710,
          "health": 65.3,
          "population": 10711067
         },
         {
          "country": "Honduras",
          "income": 4270,
          "health": 72.4,
          "population": 8075060
         },
         {
          "country": "Hungary",
          "income": 24200,
          "health": 76.2,
          "population": 9855023
         },
         {
          "country": "Iceland",
          "income": 42182,
          "health": 82.8,
          "population": 329425
         },
         {
          "country": "India",
          "income": 5903,
          "health": 66.8,
          "population": 1311050527
         },
         {
          "country": "Indonesia",
          "income": 10504,
          "health": 70.9,
          "population": 257563815
         },
         {
          "country": "Iran",
          "income": 15573,
          "health": 78.5,
          "population": 79109272
         },
         {
          "country": "Iraq",
          "income": 14646,
          "health": 72.1,
          "population": 36423395
         },
         {
          "country": "Ireland",
          "income": 47758,
          "health": 80.4,
          "population": 4688465
         },
         {
          "country": "Israel",
          "income": 31590,
          "health": 82.4,
          "population": 8064036
         },
         {
          "country": "Italy",
          "income": 33297,
          "health": 82.1,
          "population": 59797685
         },
         {
          "country": "Jamaica",
          "income": 8606,
          "health": 75.5,
          "population": 2793335
         },
         {
          "country": "Japan",
          "income": 36162,
          "health": 83.5,
          "population": 126573481
         },
         {
          "country": "Jordan",
          "income": 11752,
          "health": 78.3,
          "population": 7594547
         },
         {
          "country": "Kazakhstan",
          "income": 23468,
          "health": 68.2,
          "population": 17625226
         },
         {
          "country": "Kenya",
          "income": 2898,
          "health": 66.63,
          "population": 46050302
         },
         {
          "country": "Kiribati",
          "income": 1824,
          "health": 62.4,
          "population": 112423
         },
         {
          "country": "Kuwait",
          "income": 82633,
          "health": 80.7,
          "population": 3892115
         },
         {
          "country": "Kyrgyz Republic",
          "income": 3245,
          "health": 69,
          "population": 5939962
         },
         {
          "country": "Lao",
          "income": 5212,
          "health": 66.4,
          "population": 6802023
         },
         {
          "country": "Latvia",
          "income": 23282,
          "health": 75.7,
          "population": 1970503
         },
         {
          "country": "Lebanon",
          "income": 17050,
          "health": 78.5,
          "population": 5850743
         },
         {
          "country": "Lesotho",
          "income": 2598,
          "health": 48.5,
          "population": 2135022
         },
         {
          "country": "Liberia",
          "income": 958,
          "health": 63.9,
          "population": 4503438
         },
         {
          "country": "Libya",
          "income": 17261,
          "health": 76.2,
          "population": 6278438
         },
         {
          "country": "Lithuania",
          "income": 26665,
          "health": 75.4,
          "population": 2878405
         },
         {
          "country": "Luxembourg",
          "income": 88314,
          "health": 81.1,
          "population": 567110
         },
         {
          "country": "Macedonia, FYR",
          "income": 12547,
          "health": 77,
          "population": 2078453
         },
         {
          "country": "Madagascar",
          "income": 1400,
          "health": 64.7,
          "population": 24235390
         },
         {
          "country": "Malawi",
          "income": 799,
          "health": 60.22,
          "population": 17215232
         },
         {
          "country": "Malaysia",
          "income": 24320,
          "health": 75.1,
          "population": 30331007
         },
         {
          "country": "Maldives",
          "income": 14408,
          "health": 79.5,
          "population": 363657
         },
         {
          "country": "Mali",
          "income": 1684,
          "health": 57.6,
          "population": 17599694
         },
         {
          "country": "Malta",
          "income": 30265,
          "health": 82.1,
          "population": 418670
         },
         {
          "country": "Marshall Islands",
          "income": 3661,
          "health": 65.1,
          "population": 52993
         },
         {
          "country": "Mauritania",
          "income": 3877,
          "health": 65.7,
          "population": 4067564
         },
         {
          "country": "Mauritius",
          "income": 18350,
          "health": 73.9,
          "population": 1273212
         },
         {
          "country": "Mexico",
          "income": 16850,
          "health": 74.5,
          "population": 127017224
         },
         {
          "country": "Micronesia, Fed. Sts.",
          "income": 3510,
          "health": 67,
          "population": 104460
         },
         {
          "country": "Moldova",
          "income": 4896,
          "health": 72.7,
          "population": 4068897
         },
         {
          "country": "Mongolia",
          "income": 11819,
          "health": 65.3,
          "population": 2959134
         },
         {
          "country": "Montenegro",
          "income": 14833,
          "health": 75.8,
          "population": 625781
         },
         {
          "country": "Morocco",
          "income": 7319,
          "health": 74.7,
          "population": 34377511
         },
         {
          "country": "Mozambique",
          "income": 1176,
          "health": 56.4,
          "population": 27977863
         },
         {
          "country": "Myanmar",
          "income": 4012,
          "health": 67.9,
          "population": 53897154
         },
         {
          "country": "Namibia",
          "income": 10040,
          "health": 61,
          "population": 2458830
         },
         {
          "country": "Nepal",
          "income": 2352,
          "health": 71.2,
          "population": 28513700
         },
         {
          "country": "Netherlands",
          "income": 45784,
          "health": 80.6,
          "population": 16924929
         },
         {
          "country": "New Zealand",
          "income": 34186,
          "health": 80.6,
          "population": 4528526
         },
         {
          "country": "Nicaragua",
          "income": 4712,
          "health": 76.8,
          "population": 6082032
         },
         {
          "country": "Niger",
          "income": 943,
          "health": 62.2,
          "population": 19899120
         },
         {
          "country": "Nigeria",
          "income": 5727,
          "health": 61.33,
          "population": 182201962
         },
         {
          "country": "North Korea",
          "income": 1390,
          "health": 71.4,
          "population": 25155317
         },
         {
          "country": "Norway",
          "income": 64304,
          "health": 81.6,
          "population": 5210967
         },
         {
          "country": "Oman",
          "income": 48226,
          "health": 75.7,
          "population": 4490541
         },
         {
          "country": "Pakistan",
          "income": 4743,
          "health": 66.5,
          "population": 188924874
         },
         {
          "country": "Panama",
          "income": 20485,
          "health": 78.2,
          "population": 3929141
         },
         {
          "country": "Papua New Guinea",
          "income": 2529,
          "health": 60.6,
          "population": 7619321
         },
         {
          "country": "Paraguay",
          "income": 8219,
          "health": 73.9,
          "population": 6639123
         },
         {
          "country": "Peru",
          "income": 11903,
          "health": 77.5,
          "population": 31376670
         },
         {
          "country": "Philippines",
          "income": 6876,
          "health": 70.2,
          "population": 100699395
         },
         {
          "country": "Poland",
          "income": 24787,
          "health": 77.3,
          "population": 38611794
         },
         {
          "country": "Portugal",
          "income": 26437,
          "health": 79.8,
          "population": 10349803
         },
         {
          "country": "Qatar",
          "income": 132877,
          "health": 82,
          "population": 2235355
         },
         {
          "country": "Romania",
          "income": 19203,
          "health": 76.8,
          "population": 19511324
         },
         {
          "country": "Russia",
          "income": 23038,
          "health": 73.13,
          "population": 143456918
         },
         {
          "country": "Rwanda",
          "income": 1549,
          "health": 66.53,
          "population": 11609666
         },
         {
          "country": "Samoa",
          "income": 5558,
          "health": 72.2,
          "population": 193228
         },
         {
          "country": "Sao Tome and Principe",
          "income": 3003,
          "health": 68.8,
          "population": 190344
         },
         {
          "country": "Saudi Arabia",
          "income": 52469,
          "health": 78.1,
          "population": 31540372
         },
         {
          "country": "Senegal",
          "income": 2251,
          "health": 66.1,
          "population": 15129273
         },
         {
          "country": "Serbia",
          "income": 12908,
          "health": 78.1,
          "population": 8850975
         },
         {
          "country": "Seychelles",
          "income": 25684,
          "health": 73.7,
          "population": 96471
         },
         {
          "country": "Sierra Leone",
          "income": 2085,
          "health": 58.5,
          "population": 6453184
         },
         {
          "country": "Singapore",
          "income": 80794,
          "health": 82.1,
          "population": 5603740
         },
         {
          "country": "Slovak Republic",
          "income": 27204,
          "health": 76.4,
          "population": 5426258
         },
         {
          "country": "Slovenia",
          "income": 28550,
          "health": 80.2,
          "population": 2067526
         },
         {
          "country": "Solomon Islands",
          "income": 2047,
          "health": 64.1,
          "population": 583591
         },
         {
          "country": "Somalia",
          "income": 624,
          "health": 58.7,
          "population": 10787104
         },
         {
          "country": "South Africa",
          "income": 12509,
          "health": 63.72,
          "population": 54490406
         },
         {
          "country": "South Korea",
          "income": 34644,
          "health": 80.7,
          "population": 50293439
         },
         {
          "country": "South Sudan",
          "income": 3047,
          "health": 58,
          "population": 12339812
         },
         {
          "country": "Spain",
          "income": 32979,
          "health": 81.7,
          "population": 46121699
         },
         {
          "country": "Sri Lanka",
          "income": 10624,
          "health": 76.5,
          "population": 20715010
         },
         {
          "country": "St. Lucia",
          "income": 9997,
          "health": 74.5,
          "population": 184999
         },
         {
          "country": "St. Vincent and the Grenadines",
          "income": 10435,
          "health": 72.9,
          "population": 109462
         },
         {
          "country": "Sudan",
          "income": 3975,
          "health": 69.5,
          "population": 40234882
         },
         {
          "country": "Suriname",
          "income": 17125,
          "health": 70.5,
          "population": 542975
         },
         {
          "country": "Swaziland",
          "income": 6095,
          "health": 51.5,
          "population": 1286970
         },
         {
          "country": "Sweden",
          "income": 44892,
          "health": 82,
          "population": 9779426
         },
         {
          "country": "Switzerland",
          "income": 56118,
          "health": 82.9,
          "population": 8298663
         },
         {
          "country": "Syria",
          "income": 4637,
          "health": 70.26,
          "population": 18502413
         },
         {
          "country": "Tajikistan",
          "income": 2582,
          "health": 71,
          "population": 8481855
         },
         {
          "country": "Tanzania",
          "income": 2571,
          "health": 63.43,
          "population": 53470420
         },
         {
          "country": "Thailand",
          "income": 14512,
          "health": 75.1,
          "population": 67959359
         },
         {
          "country": "Timor-Leste",
          "income": 2086,
          "health": 72.4,
          "population": 1184765
         },
         {
          "country": "Togo",
          "income": 1433,
          "health": 64.23,
          "population": 7304578
         },
         {
          "country": "Tonga",
          "income": 5069,
          "health": 70.5,
          "population": 106170
         },
         {
          "country": "Trinidad and Tobago",
          "income": 30113,
          "health": 71.4,
          "population": 1360088
         },
         {
          "country": "Tunisia",
          "income": 11126,
          "health": 77.3,
          "population": 11253554
         },
         {
          "country": "Turkey",
          "income": 19360,
          "health": 76.5,
          "population": 78665830
         },
         {
          "country": "Turkmenistan",
          "income": 15865,
          "health": 67.9,
          "population": 5373502
         },
         {
          "country": "Uganda",
          "income": 1680,
          "health": 60.8,
          "population": 39032383
         },
         {
          "country": "Ukraine",
          "income": 8449,
          "health": 72.1,
          "population": 44823765
         },
         {
          "country": "United Arab Emirates",
          "income": 60749,
          "health": 76.6,
          "population": 9156963
         },
         {
          "country": "United Kingdom",
          "income": 38225,
          "health": 81.4,
          "population": 64715810
         },
         {
          "country": "United States",
          "income": 53354,
          "health": 79.1,
          "population": 321773631
         },
         {
          "country": "Uruguay",
          "income": 20438,
          "health": 77.3,
          "population": 3431555
         },
         {
          "country": "Uzbekistan",
          "income": 5598,
          "health": 70.1,
          "population": 29893488
         },
         {
          "country": "Vanuatu",
          "income": 2912,
          "health": 65,
          "population": 264652
         },
         {
          "country": "Venezuela",
          "income": 15753,
          "health": 75.8,
          "population": 31108083
         },
         {
          "country": "Vietnam",
          "income": 5623,
          "health": 76.5,
          "population": 93447601
         },
         {
          "country": "West Bank and Gaza",
          "income": 4319,
          "health": 75.2,
          "population": 4668466
         },
         {
          "country": "Yemen",
          "income": 3887,
          "health": 67.6,
          "population": 26832215
         },
         {
          "country": "Zambia",
          "income": 4034,
          "health": 58.96,
          "population": 16211767
         },
         {
          "country": "Zimbabwe",
          "income": 1801,
          "health": 60.01,
          "population": 15602751
         }
        ]
       }
      },
      "text/plain": "<VegaLite 3 object>\n\nIf you see this message, it means the renderer has not been properly enabled\nfor the frontend that you are using. For more information, see\nhttps://altair-viz.github.io/user_guide/troubleshooting.html\n"
     },
     "metadata": {},
     "execution_count": 4
    }
   ],
   "source": [
    "income_domain = [health_income['income'].min(), health_income['income'].max()]\n",
    "health_domain = [health_income['health'].min(), health_income['health'].max()]\n",
    "\n",
    "alt.Chart(health_income).mark_point().encode(\n",
    "    alt.X('income:Q', scale=alt.Scale(domain=income_domain)),\n",
    "    alt.Y('health:Q', scale=alt.Scale(domain=health_domain)),\n",
    "    alt.Size('population:Q'),\n",
    "    alt.Tooltip('country:N')\n",
    ").properties(height=600, width=800)"
   ]
  },
  {
   "source": [
    "The process:\n",
    "\n",
    "1. Take the values' difference from the smallest one;\n",
    "2. Take the value range, that is, the difference between the largest and smallest values;\n",
    "3. Divide the reduced values with the range.\n",
    "\n",
    "$ \\text {scaled value} = \\frac{value - min} {max - min} $\n",
    "\n",
    "The first step ensures that the smallest value will become 0. Dividing the reduced values by the range 'compresses' the values so the new maximum becomes 1."
   ],
   "cell_type": "markdown",
   "metadata": {}
  },
  {
   "cell_type": "code",
   "execution_count": 5,
   "metadata": {},
   "outputs": [],
   "source": [
    "quantitative_columns = ['income', 'health', 'population']"
   ]
  },
  {
   "source": [
    "The original minimum and maximum values"
   ],
   "cell_type": "markdown",
   "metadata": {}
  },
  {
   "cell_type": "code",
   "execution_count": 6,
   "metadata": {},
   "outputs": [
    {
     "output_type": "execute_result",
     "data": {
      "text/plain": "                      country  income  health  population\n32   Central African Republic     599    53.8     4900274\n93                    Lesotho    2598    48.5     2135022\n105          Marshall Islands    3661    65.1       52993",
      "text/html": "<div>\n<style scoped>\n    .dataframe tbody tr th:only-of-type {\n        vertical-align: middle;\n    }\n\n    .dataframe tbody tr th {\n        vertical-align: top;\n    }\n\n    .dataframe thead th {\n        text-align: right;\n    }\n</style>\n<table border=\"1\" class=\"dataframe\">\n  <thead>\n    <tr style=\"text-align: right;\">\n      <th></th>\n      <th>country</th>\n      <th>income</th>\n      <th>health</th>\n      <th>population</th>\n    </tr>\n  </thead>\n  <tbody>\n    <tr>\n      <th>32</th>\n      <td>Central African Republic</td>\n      <td>599</td>\n      <td>53.8</td>\n      <td>4900274</td>\n    </tr>\n    <tr>\n      <th>93</th>\n      <td>Lesotho</td>\n      <td>2598</td>\n      <td>48.5</td>\n      <td>2135022</td>\n    </tr>\n    <tr>\n      <th>105</th>\n      <td>Marshall Islands</td>\n      <td>3661</td>\n      <td>65.1</td>\n      <td>52993</td>\n    </tr>\n  </tbody>\n</table>\n</div>"
     },
     "metadata": {},
     "execution_count": 6
    }
   ],
   "source": [
    "health_income.loc[health_income[quantitative_columns].idxmin(), :]"
   ]
  },
  {
   "cell_type": "code",
   "execution_count": 7,
   "metadata": {},
   "outputs": [
    {
     "output_type": "execute_result",
     "data": {
      "text/plain": "income          599.0\nhealth           48.5\npopulation    52993.0\ndtype: float64"
     },
     "metadata": {},
     "execution_count": 7
    }
   ],
   "source": [
    "minimums = health_income[quantitative_columns].min()\n",
    "minimums"
   ]
  },
  {
   "cell_type": "code",
   "execution_count": 8,
   "metadata": {},
   "outputs": [
    {
     "output_type": "execute_result",
     "data": {
      "text/plain": "     country  income  health  population\n134    Qatar  132877    82.0     2235355\n3    Andorra   46577    84.1       70473\n35     China   13334    76.9  1376048943",
      "text/html": "<div>\n<style scoped>\n    .dataframe tbody tr th:only-of-type {\n        vertical-align: middle;\n    }\n\n    .dataframe tbody tr th {\n        vertical-align: top;\n    }\n\n    .dataframe thead th {\n        text-align: right;\n    }\n</style>\n<table border=\"1\" class=\"dataframe\">\n  <thead>\n    <tr style=\"text-align: right;\">\n      <th></th>\n      <th>country</th>\n      <th>income</th>\n      <th>health</th>\n      <th>population</th>\n    </tr>\n  </thead>\n  <tbody>\n    <tr>\n      <th>134</th>\n      <td>Qatar</td>\n      <td>132877</td>\n      <td>82.0</td>\n      <td>2235355</td>\n    </tr>\n    <tr>\n      <th>3</th>\n      <td>Andorra</td>\n      <td>46577</td>\n      <td>84.1</td>\n      <td>70473</td>\n    </tr>\n    <tr>\n      <th>35</th>\n      <td>China</td>\n      <td>13334</td>\n      <td>76.9</td>\n      <td>1376048943</td>\n    </tr>\n  </tbody>\n</table>\n</div>"
     },
     "metadata": {},
     "execution_count": 8
    }
   ],
   "source": [
    "health_income.loc[health_income[quantitative_columns].idxmax(), :]"
   ]
  },
  {
   "cell_type": "code",
   "execution_count": 9,
   "metadata": {},
   "outputs": [
    {
     "output_type": "execute_result",
     "data": {
      "text/plain": "income        1.328770e+05\nhealth        8.410000e+01\npopulation    1.376049e+09\ndtype: float64"
     },
     "metadata": {},
     "execution_count": 9
    }
   ],
   "source": [
    "maximums = health_income[quantitative_columns].max()\n",
    "maximums"
   ]
  },
  {
   "source": [
    "Difference of values from the column minimum"
   ],
   "cell_type": "markdown",
   "metadata": {}
  },
  {
   "cell_type": "code",
   "execution_count": 10,
   "metadata": {},
   "outputs": [
    {
     "output_type": "execute_result",
     "data": {
      "text/plain": "      income  health  population\n0     1326.0    9.13  32473569.0\n1    10021.0   27.50   2843686.0\n2    12835.0   28.00  39613526.0\n3    45978.0   35.60     17480.0\n4     7016.0   12.50  24968981.0\n..       ...     ...         ...\n182   5024.0   28.00  93394608.0\n183   3720.0   26.70   4615473.0\n184   3288.0   19.10  26779222.0\n185   3435.0   10.46  16158774.0\n186   1202.0   11.51  15549758.0\n\n[187 rows x 3 columns]",
      "text/html": "<div>\n<style scoped>\n    .dataframe tbody tr th:only-of-type {\n        vertical-align: middle;\n    }\n\n    .dataframe tbody tr th {\n        vertical-align: top;\n    }\n\n    .dataframe thead th {\n        text-align: right;\n    }\n</style>\n<table border=\"1\" class=\"dataframe\">\n  <thead>\n    <tr style=\"text-align: right;\">\n      <th></th>\n      <th>income</th>\n      <th>health</th>\n      <th>population</th>\n    </tr>\n  </thead>\n  <tbody>\n    <tr>\n      <th>0</th>\n      <td>1326.0</td>\n      <td>9.13</td>\n      <td>32473569.0</td>\n    </tr>\n    <tr>\n      <th>1</th>\n      <td>10021.0</td>\n      <td>27.50</td>\n      <td>2843686.0</td>\n    </tr>\n    <tr>\n      <th>2</th>\n      <td>12835.0</td>\n      <td>28.00</td>\n      <td>39613526.0</td>\n    </tr>\n    <tr>\n      <th>3</th>\n      <td>45978.0</td>\n      <td>35.60</td>\n      <td>17480.0</td>\n    </tr>\n    <tr>\n      <th>4</th>\n      <td>7016.0</td>\n      <td>12.50</td>\n      <td>24968981.0</td>\n    </tr>\n    <tr>\n      <th>...</th>\n      <td>...</td>\n      <td>...</td>\n      <td>...</td>\n    </tr>\n    <tr>\n      <th>182</th>\n      <td>5024.0</td>\n      <td>28.00</td>\n      <td>93394608.0</td>\n    </tr>\n    <tr>\n      <th>183</th>\n      <td>3720.0</td>\n      <td>26.70</td>\n      <td>4615473.0</td>\n    </tr>\n    <tr>\n      <th>184</th>\n      <td>3288.0</td>\n      <td>19.10</td>\n      <td>26779222.0</td>\n    </tr>\n    <tr>\n      <th>185</th>\n      <td>3435.0</td>\n      <td>10.46</td>\n      <td>16158774.0</td>\n    </tr>\n    <tr>\n      <th>186</th>\n      <td>1202.0</td>\n      <td>11.51</td>\n      <td>15549758.0</td>\n    </tr>\n  </tbody>\n</table>\n<p>187 rows × 3 columns</p>\n</div>"
     },
     "metadata": {},
     "execution_count": 10
    }
   ],
   "source": [
    "health_income[quantitative_columns] - minimums"
   ]
  },
  {
   "source": [
    "Value ranges: the difference between the maximum and the minimum"
   ],
   "cell_type": "markdown",
   "metadata": {}
  },
  {
   "cell_type": "code",
   "execution_count": 11,
   "metadata": {},
   "outputs": [
    {
     "output_type": "execute_result",
     "data": {
      "text/plain": "income        1.322780e+05\nhealth        3.560000e+01\npopulation    1.375996e+09\ndtype: float64"
     },
     "metadata": {},
     "execution_count": 11
    }
   ],
   "source": [
    "maximums - minimums"
   ]
  },
  {
   "source": [
    "Let's normalize the dataset"
   ],
   "cell_type": "markdown",
   "metadata": {}
  },
  {
   "cell_type": "code",
   "execution_count": 12,
   "metadata": {},
   "outputs": [],
   "source": [
    "def normalize_dataset(dataset, quantitative_columns):\n",
    "    dataset = dataset.copy()\n",
    "    \n",
    "    minimums = dataset[quantitative_columns].min()\n",
    "    maximums = dataset[quantitative_columns].max()\n",
    "\n",
    "    dataset[quantitative_columns] = (dataset[quantitative_columns] - minimums) / (maximums - minimums)\n",
    "    \n",
    "    return dataset\n"
   ]
  },
  {
   "cell_type": "code",
   "execution_count": 13,
   "metadata": {},
   "outputs": [
    {
     "output_type": "execute_result",
     "data": {
      "text/plain": "                country    income    health  population\n0           Afghanistan  0.010024  0.256461    0.023600\n1               Albania  0.075757  0.772472    0.002067\n2               Algeria  0.097030  0.786517    0.028789\n3               Andorra  0.347586  1.000000    0.000013\n4                Angola  0.053040  0.351124    0.018146\n..                  ...       ...       ...         ...\n182             Vietnam  0.037981  0.786517    0.067874\n183  West Bank and Gaza  0.028123  0.750000    0.003354\n184               Yemen  0.024857  0.536517    0.019462\n185              Zambia  0.025968  0.293820    0.011743\n186            Zimbabwe  0.009087  0.323315    0.011301\n\n[187 rows x 4 columns]",
      "text/html": "<div>\n<style scoped>\n    .dataframe tbody tr th:only-of-type {\n        vertical-align: middle;\n    }\n\n    .dataframe tbody tr th {\n        vertical-align: top;\n    }\n\n    .dataframe thead th {\n        text-align: right;\n    }\n</style>\n<table border=\"1\" class=\"dataframe\">\n  <thead>\n    <tr style=\"text-align: right;\">\n      <th></th>\n      <th>country</th>\n      <th>income</th>\n      <th>health</th>\n      <th>population</th>\n    </tr>\n  </thead>\n  <tbody>\n    <tr>\n      <th>0</th>\n      <td>Afghanistan</td>\n      <td>0.010024</td>\n      <td>0.256461</td>\n      <td>0.023600</td>\n    </tr>\n    <tr>\n      <th>1</th>\n      <td>Albania</td>\n      <td>0.075757</td>\n      <td>0.772472</td>\n      <td>0.002067</td>\n    </tr>\n    <tr>\n      <th>2</th>\n      <td>Algeria</td>\n      <td>0.097030</td>\n      <td>0.786517</td>\n      <td>0.028789</td>\n    </tr>\n    <tr>\n      <th>3</th>\n      <td>Andorra</td>\n      <td>0.347586</td>\n      <td>1.000000</td>\n      <td>0.000013</td>\n    </tr>\n    <tr>\n      <th>4</th>\n      <td>Angola</td>\n      <td>0.053040</td>\n      <td>0.351124</td>\n      <td>0.018146</td>\n    </tr>\n    <tr>\n      <th>...</th>\n      <td>...</td>\n      <td>...</td>\n      <td>...</td>\n      <td>...</td>\n    </tr>\n    <tr>\n      <th>182</th>\n      <td>Vietnam</td>\n      <td>0.037981</td>\n      <td>0.786517</td>\n      <td>0.067874</td>\n    </tr>\n    <tr>\n      <th>183</th>\n      <td>West Bank and Gaza</td>\n      <td>0.028123</td>\n      <td>0.750000</td>\n      <td>0.003354</td>\n    </tr>\n    <tr>\n      <th>184</th>\n      <td>Yemen</td>\n      <td>0.024857</td>\n      <td>0.536517</td>\n      <td>0.019462</td>\n    </tr>\n    <tr>\n      <th>185</th>\n      <td>Zambia</td>\n      <td>0.025968</td>\n      <td>0.293820</td>\n      <td>0.011743</td>\n    </tr>\n    <tr>\n      <th>186</th>\n      <td>Zimbabwe</td>\n      <td>0.009087</td>\n      <td>0.323315</td>\n      <td>0.011301</td>\n    </tr>\n  </tbody>\n</table>\n<p>187 rows × 4 columns</p>\n</div>"
     },
     "metadata": {},
     "execution_count": 13
    }
   ],
   "source": [
    "normalized_health_income = normalize_dataset(health_income, quantitative_columns)\n",
    "normalized_health_income"
   ]
  },
  {
   "source": [
    "The new minimum and maximum values"
   ],
   "cell_type": "markdown",
   "metadata": {}
  },
  {
   "cell_type": "code",
   "execution_count": 14,
   "metadata": {},
   "outputs": [
    {
     "output_type": "execute_result",
     "data": {
      "text/plain": "                      country    income    health  population\n32   Central African Republic  0.000000  0.148876    0.003523\n93                    Lesotho  0.015112  0.000000    0.001513\n105          Marshall Islands  0.023148  0.466292    0.000000",
      "text/html": "<div>\n<style scoped>\n    .dataframe tbody tr th:only-of-type {\n        vertical-align: middle;\n    }\n\n    .dataframe tbody tr th {\n        vertical-align: top;\n    }\n\n    .dataframe thead th {\n        text-align: right;\n    }\n</style>\n<table border=\"1\" class=\"dataframe\">\n  <thead>\n    <tr style=\"text-align: right;\">\n      <th></th>\n      <th>country</th>\n      <th>income</th>\n      <th>health</th>\n      <th>population</th>\n    </tr>\n  </thead>\n  <tbody>\n    <tr>\n      <th>32</th>\n      <td>Central African Republic</td>\n      <td>0.000000</td>\n      <td>0.148876</td>\n      <td>0.003523</td>\n    </tr>\n    <tr>\n      <th>93</th>\n      <td>Lesotho</td>\n      <td>0.015112</td>\n      <td>0.000000</td>\n      <td>0.001513</td>\n    </tr>\n    <tr>\n      <th>105</th>\n      <td>Marshall Islands</td>\n      <td>0.023148</td>\n      <td>0.466292</td>\n      <td>0.000000</td>\n    </tr>\n  </tbody>\n</table>\n</div>"
     },
     "metadata": {},
     "execution_count": 14
    }
   ],
   "source": [
    "normalized_health_income.loc[normalized_health_income[quantitative_columns].idxmin(), :]"
   ]
  },
  {
   "cell_type": "code",
   "execution_count": 15,
   "metadata": {},
   "outputs": [
    {
     "output_type": "execute_result",
     "data": {
      "text/plain": "     country    income    health  population\n134    Qatar  1.000000  0.941011    0.001586\n3    Andorra  0.347586  1.000000    0.000013\n35     China  0.096275  0.797753    1.000000",
      "text/html": "<div>\n<style scoped>\n    .dataframe tbody tr th:only-of-type {\n        vertical-align: middle;\n    }\n\n    .dataframe tbody tr th {\n        vertical-align: top;\n    }\n\n    .dataframe thead th {\n        text-align: right;\n    }\n</style>\n<table border=\"1\" class=\"dataframe\">\n  <thead>\n    <tr style=\"text-align: right;\">\n      <th></th>\n      <th>country</th>\n      <th>income</th>\n      <th>health</th>\n      <th>population</th>\n    </tr>\n  </thead>\n  <tbody>\n    <tr>\n      <th>134</th>\n      <td>Qatar</td>\n      <td>1.000000</td>\n      <td>0.941011</td>\n      <td>0.001586</td>\n    </tr>\n    <tr>\n      <th>3</th>\n      <td>Andorra</td>\n      <td>0.347586</td>\n      <td>1.000000</td>\n      <td>0.000013</td>\n    </tr>\n    <tr>\n      <th>35</th>\n      <td>China</td>\n      <td>0.096275</td>\n      <td>0.797753</td>\n      <td>1.000000</td>\n    </tr>\n  </tbody>\n</table>\n</div>"
     },
     "metadata": {},
     "execution_count": 15
    }
   ],
   "source": [
    "normalized_health_income.loc[normalized_health_income[quantitative_columns].idxmax(), :]"
   ]
  },
  {
   "source": [
    "Plotting the normalized data, we got the same results, but with the `income`, `health`, and `population` scales all normalized to the \\[0, 1\\] range."
   ],
   "cell_type": "markdown",
   "metadata": {}
  },
  {
   "source": [
    "## Maximum values"
   ],
   "cell_type": "markdown",
   "metadata": {}
  },
  {
   "cell_type": "code",
   "execution_count": 16,
   "metadata": {},
   "outputs": [
    {
     "output_type": "execute_result",
     "data": {
      "application/json": {
       "config": {
        "view": {
         "width": 400,
         "height": 300
        },
        "mark": {
         "tooltip": null
        }
       },
       "data": {
        "name": "data-49b19e76478506efac8708c9c64d92a1"
       },
       "mark": "point",
       "encoding": {
        "size": {
         "type": "quantitative",
         "field": "population"
        },
        "tooltip": {
         "type": "nominal",
         "field": "country"
        },
        "x": {
         "type": "quantitative",
         "field": "income"
        },
        "y": {
         "type": "quantitative",
         "field": "health"
        }
       },
       "height": 600,
       "width": 800,
       "$schema": "https://vega.github.io/schema/vega-lite/v3.4.0.json",
       "datasets": {
        "data-49b19e76478506efac8708c9c64d92a1": [
         {
          "country": "Afghanistan",
          "income": 0.010024342672250866,
          "health": 0.2564606741573035,
          "population": 0.023600046933277673
         },
         {
          "country": "Albania",
          "income": 0.07575711758569074,
          "health": 0.7724719101123597,
          "population": 0.0020666383502073535
         },
         {
          "country": "Algeria",
          "income": 0.09703049637883851,
          "health": 0.7865168539325844,
          "population": 0.028788984444321947
         },
         {
          "country": "Andorra",
          "income": 0.3475861443323909,
          "health": 1,
          "population": 0.000012703525762557658
         },
         {
          "country": "Angola",
          "income": 0.0530398100969171,
          "health": 0.35112359550561806,
          "population": 0.018146115182969835
         },
         {
          "country": "Antigua and Barbuda",
          "income": 0.15459864830130482,
          "health": 0.7500000000000002,
          "population": 0.00002821592607158473
         },
         {
          "country": "Argentina",
          "income": 0.12658945554060388,
          "health": 0.7780898876404496,
          "population": 0.03151445467553884
         },
         {
          "country": "Armenia",
          "income": 0.05415866584012458,
          "health": 0.7275280898876407,
          "population": 0.0021545986381718636
         },
         {
          "country": "Australia",
          "income": 0.32852779751734984,
          "health": 0.9353932584269664,
          "population": 0.017380850575904674
         },
         {
          "country": "Austria",
          "income": 0.3311359409727997,
          "health": 0.9129213483146069,
          "population": 0.006171234006902418
         },
         {
          "country": "Azerbaijan",
          "income": 0.1238830342158182,
          "health": 0.6853932584269665,
          "population": 0.007050147931031338
         },
         {
          "country": "Bahamas",
          "income": 0.1679719983670754,
          "health": 0.6685393258426967,
          "population": 0.00024347891430930447
         },
         {
          "country": "Bahrain",
          "income": 0.3291477040777756,
          "health": 0.8623595505617979,
          "population": 0.0009623894605213046
         },
         {
          "country": "Bangladesh",
          "income": 0.019368300095253935,
          "health": 0.6067415730337078,
          "population": 0.11696447871085668
         },
         {
          "country": "Barbados",
          "income": 0.09362857013259952,
          "health": 0.7668539325842697,
          "population": 0.0001680397387797544
         },
         {
          "country": "Belarus",
          "income": 0.12712620390389937,
          "health": 0.6151685393258429,
          "population": 0.0068625441811801845
         },
         {
          "country": "Belgium",
          "income": 0.30723929905199654,
          "health": 0.8960674157303374,
          "population": 0.008173133794470834
         },
         {
          "country": "Belize",
          "income": 0.059737824883956514,
          "health": 0.603932584269663,
          "population": 0.00022259803889684415
         },
         {
          "country": "Benin",
          "income": 0.009306158242489303,
          "health": 0.4775280898876405,
          "population": 0.00786836327534249
         },
         {
          "country": "Bhutan",
          "income": 0.05582182978273031,
          "health": 0.609550561797753,
          "population": 0.0005245923870633485
         },
         {
          "country": "Bolivia",
          "income": 0.04306082644128275,
          "health": 0.6685393258426967,
          "population": 0.007755627478409366
         },
         {
          "country": "Bosnia and Herzegovina",
          "income": 0.06980752657282391,
          "health": 0.8258426966292137,
          "population": 0.002730693357055302
         },
         {
          "country": "Botswana",
          "income": 0.1254705997973964,
          "health": 0.5028089887640452,
          "population": 0.00160574019131379
         },
         {
          "country": "Brazil",
          "income": 0.11220308743706436,
          "health": 0.7612359550561797,
          "population": 0.15101391468485065
         },
         {
          "country": "Brunei",
          "income": 0.5473623731837494,
          "health": 0.8483146067415732,
          "population": 0.00026903785581636343
         },
         {
          "country": "Bulgaria",
          "income": 0.11923373501262492,
          "health": 0.7415730337078654,
          "population": 0.005157568959414452
         },
         {
          "country": "Burkina Faso",
          "income": 0.007975627088404724,
          "health": 0.40168539325842695,
          "population": 0.013119643993138207
         },
         {
          "country": "Burundi",
          "income": 0.001345650826290086,
          "health": 0.33426966292134835,
          "population": 0.008085727287206041
         },
         {
          "country": "Cambodia",
          "income": 0.020169642722145782,
          "health": 0.558988764044944,
          "population": 0.011282668382853888
         },
         {
          "country": "Cameroon",
          "income": 0.017372503364127066,
          "health": 0.30898876404494385,
          "population": 0.01692678383246695
         },
         {
          "country": "Canada",
          "income": 0.3227672024070518,
          "health": 0.9325842696629216,
          "population": 0.026080697403215468
         },
         {
          "country": "Cape Verde",
          "income": 0.04471643054778572,
          "health": 0.7331460674157303,
          "population": 0.00033976044769608516
         },
         {
          "country": "Central African Republic",
          "income": 0,
          "health": 0.14887640449438197,
          "population": 0.0035227436534242705
         },
         {
          "country": "Chad",
          "income": 0.01203525907558324,
          "health": 0.25842696629213496,
          "population": 0.010163168721535845
         },
         {
          "country": "Chile",
          "income": 0.1653033762228035,
          "health": 0.8651685393258427,
          "population": 0.013005233045925753
         },
         {
          "country": "China",
          "income": 0.09627451276856318,
          "health": 0.7977528089887643,
          "population": 1
         },
         {
          "country": "Colombia",
          "income": 0.09194272668168554,
          "health": 0.7668539325842697,
          "population": 0.03501152092780506
         },
         {
          "country": "Comoros",
          "income": 0.006599736917703624,
          "health": 0.43820224719101114,
          "population": 0.0005345081139228644
         },
         {
          "country": "Congo, Dem. Rep.",
          "income": 0.0015875655815781914,
          "health": 0.27528089887640445,
          "population": 0.05611486065783842
         },
         {
          "country": "Congo, Rep.",
          "income": 0.042493838733576254,
          "health": 0.3764044943820225,
          "population": 0.0033192953801935246
         },
         {
          "country": "Costa Rica",
          "income": 0.1023072619785603,
          "health": 0.8848314606741574,
          "population": 0.003455574851074235
         },
         {
          "country": "Cote d'Ivoire",
          "income": 0.021863046009162522,
          "health": 0.33230337078651684,
          "population": 0.01645975992879921
         },
         {
          "country": "Croatia",
          "income": 0.14863393761623248,
          "health": 0.8286516853932585,
          "population": 0.003043122328957436
         },
         {
          "country": "Cuba",
          "income": 0.15642812863817113,
          "health": 0.8426966292134833,
          "population": 0.008238809859869137
         },
         {
          "country": "Cyprus",
          "income": 0.22073209452819062,
          "health": 0.9578651685393258,
          "population": 0.0008083650246208937
         },
         {
          "country": "Czech Republic",
          "income": 0.21801055353119944,
          "health": 0.8455056179775281,
          "population": 0.007623709212225516
         },
         {
          "country": "Denmark",
          "income": 0.32428672946370524,
          "health": 0.8876404494382022,
          "population": 0.004081471315377055
         },
         {
          "country": "Djibouti",
          "income": 0.019201983700993363,
          "health": 0.4530898876404494,
          "population": 0.0006067372509344958
         },
         {
          "country": "Dominica",
          "income": 0.0748726167616686,
          "health": 0.7331460674157303,
          "population": 0.000014307454902029327
         },
         {
          "country": "Dominican Republic",
          "income": 0.09251727422549479,
          "health": 0.7106741573033708,
          "population": 0.007612957000345822
         },
         {
          "country": "Ecuador",
          "income": 0.07859961596032598,
          "health": 0.7500000000000002,
          "population": 0.011694344013149166
         },
         {
          "country": "Egypt",
          "income": 0.07886421022392234,
          "health": 0.6404494382022472,
          "population": 0.06646465129494022
         },
         {
          "country": "El Salvador",
          "income": 0.05425694370946038,
          "health": 0.7191011235955056,
          "population": 0.004413959212597973
         },
         {
          "country": "Equatorial Guinea",
          "income": 0.23048428310074237,
          "health": 0.3407303370786518,
          "population": 0.0005756317814743569
         },
         {
          "country": "Eritrea",
          "income": 0.004006713134459245,
          "health": 0.40449438202247195,
          "population": 0.003760765429578481
         },
         {
          "country": "Estonia",
          "income": 0.19816598376147204,
          "health": 0.7949438202247191,
          "population": 0.000915384234960866
         },
         {
          "country": "Ethiopia",
          "income": 0.006962609050635782,
          "health": 0.4241573033707866,
          "population": 0.0721933498423451
         },
         {
          "country": "Fiji",
          "income": 0.05538335928877062,
          "health": 0.5,
          "population": 0.0006098506321911776
         },
         {
          "country": "Finland",
          "income": 0.2897231588019172,
          "health": 0.9073033707865169,
          "population": 0.0039611046820304955
         },
         {
          "country": "France",
          "income": 0.2797139358018718,
          "health": 0.9382022471910115,
          "population": 0.04676056786359001
         },
         {
          "country": "Gabon",
          "income": 0.13628872526043637,
          "health": 0.33792134831460685,
          "population": 0.001215337152700195
         },
         {
          "country": "Gambia",
          "income": 0.00790002872737719,
          "health": 0.4662921348314606,
          "population": 0.0014083842325262658
         },
         {
          "country": "Georgia",
          "income": 0.051973873206428885,
          "health": 0.6966292134831461,
          "population": 0.0028683362040418797
         },
         {
          "country": "Germany",
          "income": 0.3285051180090416,
          "health": 0.9157303370786517,
          "population": 0.05860159108753191
         },
         {
          "country": "Ghana",
          "income": 0.026459426359636523,
          "health": 0.4775280898876405,
          "population": 0.019881526540830297
         },
         {
          "country": "Greece",
          "income": 0.187718290267467,
          "health": 0.8792134831460675,
          "population": 0.007922715179503253
         },
         {
          "country": "Grenada",
          "income": 0.0831128381136697,
          "health": 0.6516853932584271,
          "population": 0.00003912220817219702
         },
         {
          "country": "Guatemala",
          "income": 0.05049970516639199,
          "health": 0.6910112359550561,
          "population": 0.011838627868054409
         },
         {
          "country": "Guinea",
          "income": 0.004732457400323561,
          "health": 0.34550561797752805,
          "population": 0.009124733979049865
         },
         {
          "country": "Guinea-Bissau",
          "income": 0.005949591012866841,
          "health": 0.13764044943820222,
          "population": 0.0013018439480145271
         },
         {
          "country": "Guyana",
          "income": 0.04699950105081722,
          "health": 0.4466292134831463,
          "population": 0.0005189637367755334
         },
         {
          "country": "Haiti",
          "income": 0.008398977910158908,
          "health": 0.47191011235955055,
          "population": 0.007745716112027801
         },
         {
          "country": "Honduras",
          "income": 0.027752158333207336,
          "health": 0.6713483146067418,
          "population": 0.005830007711868629
         },
         {
          "country": "Hungary",
          "income": 0.17841969186108045,
          "health": 0.7780898876404496,
          "population": 0.007123589280913218
         },
         {
          "country": "Iceland",
          "income": 0.31436066466079016,
          "health": 0.9634831460674158,
          "population": 0.00020089594013703312
         },
         {
          "country": "India",
          "income": 0.040097370689003466,
          "health": 0.5140449438202247,
          "population": 0.9527626400353867
         },
         {
          "country": "Indonesia",
          "income": 0.07488017659777137,
          "health": 0.6292134831460677,
          "population": 0.18714504355917616
         },
         {
          "country": "Iran",
          "income": 0.1132009858026278,
          "health": 0.8426966292134833,
          "population": 0.057453860238469455
         },
         {
          "country": "Iraq",
          "income": 0.1061930177353755,
          "health": 0.6629213483146067,
          "population": 0.02643205599551365
         },
         {
          "country": "Ireland",
          "income": 0.3565143107697425,
          "health": 0.8960674157303374,
          "population": 0.003368812241053471
         },
         {
          "country": "Israel",
          "income": 0.23428688066042727,
          "health": 0.9522471910112362,
          "population": 0.0058219960603808464
         },
         {
          "country": "Italy",
          "income": 0.24719152088782714,
          "health": 0.9438202247191011,
          "population": 0.0434192353545808
         },
         {
          "country": "Jamaica",
          "income": 0.060531607674745615,
          "health": 0.7584269662921349,
          "population": 0.0019915334779873443
         },
         {
          "country": "Japan",
          "income": 0.26885045132221536,
          "health": 0.9831460674157305,
          "population": 0.09194829970248096
         },
         {
          "country": "Jordan",
          "income": 0.08431485205400747,
          "health": 0.8370786516853933,
          "population": 0.005480796654961085
         },
         {
          "country": "Kazakhstan",
          "income": 0.17288589183386505,
          "health": 0.5533707865168541,
          "population": 0.012770555756359603
         },
         {
          "country": "Kenya",
          "income": 0.01738006320022982,
          "health": 0.5092696629213482,
          "population": 0.033428375279738284
         },
         {
          "country": "Kiribati",
          "income": 0.009260799225872782,
          "health": 0.3904494382022472,
          "population": 0.00004319053410004586
         },
         {
          "country": "Kuwait",
          "income": 0.6201635948532636,
          "health": 0.9044943820224721,
          "population": 0.0027900678050687576
         },
         {
          "country": "Kyrgyz Republic",
          "income": 0.02000332632788521,
          "health": 0.5758426966292136,
          "population": 0.004278333086663518
         },
         {
          "country": "Lao",
          "income": 0.03487352394200094,
          "health": 0.5028089887640452,
          "population": 0.004904832750416162
         },
         {
          "country": "Latvia",
          "income": 0.17147976231875292,
          "health": 0.7640449438202249,
          "population": 0.001393543345821621
         },
         {
          "country": "Lebanon",
          "income": 0.12436686372639441,
          "health": 0.8426966292134833,
          "population": 0.0042134935062853925
         },
         {
          "country": "Lesotho",
          "income": 0.015112112369403831,
          "health": 0,
          "population": 0.0015131069244789565
         },
         {
          "country": "Liberia",
          "income": 0.0027139811608884318,
          "health": 0.43258426966292135,
          "population": 0.003234344548761208
         },
         {
          "country": "Libya",
          "income": 0.12596198914407536,
          "health": 0.7780898876404496,
          "population": 0.00452431927579438
         },
         {
          "country": "Lithuania",
          "income": 0.1970546878543673,
          "health": 0.7556179775280901,
          "population": 0.002053357787862675
         },
         {
          "country": "Luxembourg",
          "income": 0.663111023753005,
          "health": 0.9157303370786517,
          "population": 0.00037363264041583846
         },
         {
          "country": "Macedonia, FYR",
          "income": 0.09032492175569634,
          "health": 0.8005617977528091,
          "population": 0.0014719956116149907
         },
         {
          "country": "Madagascar",
          "income": 0.006055428718305387,
          "health": 0.45505617977528107,
          "population": 0.01757446815159594
         },
         {
          "country": "Malawi",
          "income": 0.0015119672205506584,
          "health": 0.3292134831460674,
          "population": 0.012472594123551018
         },
         {
          "country": "Malaysia",
          "income": 0.17932687219341084,
          "health": 0.747191011235955,
          "population": 0.022004435405496653
         },
         {
          "country": "Maldives",
          "income": 0.10439377674292022,
          "health": 0.8707865168539327,
          "population": 0.00022577392033748355
         },
         {
          "country": "Mali",
          "income": 0.008202422171487322,
          "health": 0.25561797752808996,
          "population": 0.012752000469187428
         },
         {
          "country": "Malta",
          "income": 0.22427009782427917,
          "health": 0.9438202247191011,
          "population": 0.0002657544159196108
         },
         {
          "country": "Marshall Islands",
          "income": 0.02314821814663058,
          "health": 0.4662921348314606,
          "population": 0
         },
         {
          "country": "Mauritania",
          "income": 0.02478114274482529,
          "health": 0.4831460674157305,
          "population": 0.002917574721059317
         },
         {
          "country": "Mauritius",
          "income": 0.13419465065997369,
          "health": 0.713483146067416,
          "population": 0.0008867896740539098
         },
         {
          "country": "Mexico",
          "income": 0.12285489650584375,
          "health": 0.7303370786516855,
          "population": 0.09227078829701497
         },
         {
          "country": "Micronesia, Fed. Sts.",
          "income": 0.022006682895114833,
          "health": 0.5196629213483147,
          "population": 0.00003740345311336127
         },
         {
          "country": "Moldova",
          "income": 0.0324846157335309,
          "health": 0.6797752808988766,
          "population": 0.0029185434739106607
         },
         {
          "country": "Mongolia",
          "income": 0.08482136107289194,
          "health": 0.47191011235955055,
          "population": 0.002112027291940794
         },
         {
          "country": "Montenegro",
          "income": 0.10760670708659037,
          "health": 0.7668539325842697,
          "population": 0.00041627157405514165
         },
         {
          "country": "Morocco",
          "income": 0.050802098610502125,
          "health": 0.7359550561797755,
          "population": 0.024945217316955037
         },
         {
          "country": "Mozambique",
          "income": 0.00436202543128865,
          "health": 0.22191011235955055,
          "population": 0.02029429665109116
         },
         {
          "country": "Myanmar",
          "income": 0.025801720618696986,
          "health": 0.5449438202247193,
          "population": 0.03913104613425643
         },
         {
          "country": "Namibia",
          "income": 0.07137241264609383,
          "health": 0.35112359550561806,
          "population": 0.0017484331985134114
         },
         {
          "country": "Nepal",
          "income": 0.013252392688126521,
          "health": 0.6376404494382024,
          "population": 0.020683714221687934
         },
         {
          "country": "Netherlands",
          "income": 0.3415911943029075,
          "health": 0.901685393258427,
          "population": 0.012261617485138673
         },
         {
          "country": "New Zealand",
          "income": 0.2539122151831748,
          "health": 0.901685393258427,
          "population": 0.003252577160565044
         },
         {
          "country": "Nicaragua",
          "income": 0.031093605890624293,
          "health": 0.7949438202247191,
          "population": 0.004381581937068928
         },
         {
          "country": "Niger",
          "income": 0.0026005836193471327,
          "health": 0.38483146067415747,
          "population": 0.014423099864501781
         },
         {
          "country": "Nigeria",
          "income": 0.038766839534918884,
          "health": 0.3603932584269663,
          "population": 0.1323760938395204
         },
         {
          "country": "North Korea",
          "income": 0.005979830357277854,
          "health": 0.6432584269662924,
          "population": 0.01824302171819619
         },
         {
          "country": "Norway",
          "income": 0.4815993589258985,
          "health": 0.9297752808988764,
          "population": 0.0037485386494051816
         },
         {
          "country": "Oman",
          "income": 0.36005231406583105,
          "health": 0.7640449438202249,
          "population": 0.003224971701406534
         },
         {
          "country": "Pakistan",
          "income": 0.031327960809809645,
          "health": 0.50561797752809,
          "population": 0.13726194542941786
         },
         {
          "country": "Panama",
          "income": 0.15033490073935196,
          "health": 0.8342696629213485,
          "population": 0.002816976314501507
         },
         {
          "country": "Papua New Guinea",
          "income": 0.014590483678313854,
          "health": 0.3398876404494383,
          "population": 0.005498801068418842
         },
         {
          "country": "Paraguay",
          "income": 0.057605951102980085,
          "health": 0.713483146067416,
          "population": 0.004786445774059146
         },
         {
          "country": "Peru",
          "income": 0.08545638730552321,
          "health": 0.8146067415730338,
          "population": 0.022764367148028306
         },
         {
          "country": "Philippines",
          "income": 0.047453091216982414,
          "health": 0.609550561797753,
          "population": 0.07314440278694134
         },
         {
          "country": "Poland",
          "income": 0.18285731565339663,
          "health": 0.8089887640449439,
          "population": 0.028022466926592333
         },
         {
          "country": "Portugal",
          "income": 0.19533104522293956,
          "health": 0.8792134831460675,
          "population": 0.007483168827640808
         },
         {
          "country": "Qatar",
          "income": 1,
          "health": 0.9410112359550563,
          "population": 0.0015860235635141223
         },
         {
          "country": "Romania",
          "income": 0.14064319085562224,
          "health": 0.7949438202247191,
          "population": 0.014141270546617525
         },
         {
          "country": "Russia",
          "income": 0.16963516230968112,
          "health": 0.6918539325842696,
          "population": 0.10421827549710448
         },
         {
          "country": "Rwanda",
          "income": 0.007181844297615628,
          "health": 0.5064606741573034,
          "population": 0.00839876963300655
         },
         {
          "country": "Samoa",
          "income": 0.03748922723355358,
          "health": 0.6657303370786519,
          "population": 0.00010191527089887147
         },
         {
          "country": "Sao Tome and Principe",
          "income": 0.018173845991018914,
          "health": 0.5702247191011236,
          "population": 0.00009981933449731448
         },
         {
          "country": "Saudi Arabia",
          "income": 0.39212869864981326,
          "health": 0.8314606741573033,
          "population": 0.022883336974938044
         },
         {
          "country": "Senegal",
          "income": 0.012488849241748439,
          "health": 0.49438202247191004,
          "population": 0.01095663108601446
         },
         {
          "country": "Serbia",
          "income": 0.09305402258879028,
          "health": 0.8314606741573033,
          "population": 0.006393901086700146
         },
         {
          "country": "Seychelles",
          "income": 0.18963848863756633,
          "health": 0.707865168539326,
          "population": 0.00003159747672222436
         },
         {
          "country": "Sierra Leone",
          "income": 0.011233916448691393,
          "health": 0.2808988764044944,
          "population": 0.004651315289118402
         },
         {
          "country": "Singapore",
          "income": 0.6062610562603002,
          "health": 0.9438202247191011,
          "population": 0.0040339849837494075
         },
         {
          "country": "Slovak Republic",
          "income": 0.20112943951375134,
          "health": 0.7837078651685396,
          "population": 0.0039050005924799415
         },
         {
          "country": "Slovenia",
          "income": 0.21130497890805727,
          "health": 0.8904494382022474,
          "population": 0.0014640544545207418
         },
         {
          "country": "Solomon Islands",
          "income": 0.010946642676786767,
          "health": 0.43820224719101114,
          "population": 0.00038561014659963205
         },
         {
          "country": "Somalia",
          "income": 0.0001889959025688323,
          "health": 0.2865168539325844,
          "population": 0.007800975722348601
         },
         {
          "country": "South Africa",
          "income": 0.09003764798379171,
          "health": 0.42752808988764046,
          "population": 0.03956218984510819
         },
         {
          "country": "South Korea",
          "income": 0.25737462011823586,
          "health": 0.9044943820224721,
          "population": 0.03651205950133792
         },
         {
          "country": "South Sudan",
          "income": 0.01850647877954006,
          "health": 0.2668539325842697,
          "population": 0.008929400555285065
         },
         {
          "country": "Spain",
          "income": 0.2447874930071516,
          "health": 0.9325842696629216,
          "population": 0.03348026278711067
         },
         {
          "country": "Sri Lanka",
          "income": 0.07578735693010176,
          "health": 0.7865168539325844,
          "population": 0.015016044923678737
         },
         {
          "country": "St. Lucia",
          "income": 0.07104733969367544,
          "health": 0.7303370786516855,
          "population": 0.00009593487538971317
         },
         {
          "country": "St. Vincent and the Grenadines",
          "income": 0.07435854790668138,
          "health": 0.6853932584269665,
          "population": 0.000041038638231457005
         },
         {
          "country": "Sudan",
          "income": 0.025522006682895115,
          "health": 0.5898876404494383,
          "population": 0.02920204016588857
         },
         {
          "country": "Suriname",
          "income": 0.1249338514341009,
          "health": 0.6179775280898877,
          "population": 0.00035609261785981276
         },
         {
          "country": "Swaziland",
          "income": 0.04154885922073209,
          "health": 0.08426966292134833,
          "population": 0.0008967882499944858
         },
         {
          "country": "Sweden",
          "income": 0.3348478204992516,
          "health": 0.9410112359550563,
          "population": 0.0070686494389754564
         },
         {
          "country": "Switzerland",
          "income": 0.41971454058876,
          "health": 0.966292134831461,
          "population": 0.005992510370397529
         },
         {
          "country": "Syria",
          "income": 0.030526618182917794,
          "health": 0.61123595505618,
          "population": 0.013408048185025544
         },
         {
          "country": "Tajikistan",
          "income": 0.014991154991759778,
          "health": 0.6320224719101125,
          "population": 0.006125644483183253
         },
         {
          "country": "Tanzania",
          "income": 0.014907996794629492,
          "health": 0.4193820224719102,
          "population": 0.038820918767965854
         },
         {
          "country": "Thailand",
          "income": 0.10517999969760655,
          "health": 0.747191011235955,
          "population": 0.04935070194065615
         },
         {
          "country": "Timor-Leste",
          "income": 0.011241476284794145,
          "health": 0.6713483146067418,
          "population": 0.0008225111418387533
         },
         {
          "country": "Togo",
          "income": 0.006304903309696246,
          "health": 0.44185393258426986,
          "population": 0.00527006274982132
         },
         {
          "country": "Tonga",
          "income": 0.03379246737930722,
          "health": 0.6179775280898877,
          "population": 0.00003864618932926365
         },
         {
          "country": "Trinidad and Tobago",
          "income": 0.22312100273666066,
          "health": 0.6432584269662924,
          "population": 0.0009499264877923515
         },
         {
          "country": "Tunisia",
          "income": 0.07958239465368391,
          "health": 0.8089887640449439,
          "population": 0.008139966545686416
         },
         {
          "country": "Turkey",
          "income": 0.14183008512375453,
          "health": 0.7865168539325844,
          "population": 0.05713159039457929
         },
         {
          "country": "Turkmenistan",
          "income": 0.11540845794463175,
          "health": 0.5449438202247193,
          "population": 0.0038666603633535405
         },
         {
          "country": "Uganda",
          "income": 0.008172182827076309,
          "health": 0.34550561797752805,
          "population": 0.028328128436715238
         },
         {
          "country": "Ukraine",
          "income": 0.05934471340661335,
          "health": 0.6629213483146067,
          "population": 0.03253699402240246
         },
         {
          "country": "United Arab Emirates",
          "income": 0.45472414158061053,
          "health": 0.7893258426966292,
          "population": 0.006616276741221513
         },
         {
          "country": "United Kingdom",
          "income": 0.2844463932021954,
          "health": 0.9241573033707868,
          "population": 0.04699346462465969
         },
         {
          "country": "United States",
          "income": 0.39881915360074993,
          "health": 0.8595505617977528,
          "population": 0.23380929137182416
         },
         {
          "country": "Uruguay",
          "income": 0.14997958844252257,
          "health": 0.8089887640449439,
          "population": 0.002455357517585717
         },
         {
          "country": "Uzbekistan",
          "income": 0.03779162067766371,
          "health": 0.6067415730337078,
          "population": 0.02168647008008999
         },
         {
          "country": "Vanuatu",
          "income": 0.017485900905668365,
          "health": 0.4634831460674158,
          "population": 0.00015382240042203612
         },
         {
          "country": "Venezuela",
          "income": 0.11456175630112339,
          "health": 0.7668539325842697,
          "population": 0.0225691725328116
         },
         {
          "country": "Vietnam",
          "income": 0.03798061658023254,
          "health": 0.7865168539325844,
          "population": 0.06787418814713808
         },
         {
          "country": "West Bank and Gaza",
          "income": 0.028122590302242248,
          "health": 0.7500000000000002,
          "population": 0.003354278041298014
         },
         {
          "country": "Yemen",
          "income": 0.024856741105852825,
          "health": 0.5365168539325842,
          "population": 0.01946170117724547
         },
         {
          "country": "Zambia",
          "income": 0.025968037012957558,
          "health": 0.2938202247191012,
          "population": 0.011743329622445474
         },
         {
          "country": "Zimbabwe",
          "income": 0.009086922995509457,
          "health": 0.32331460674157303,
          "population": 0.011300729482525003
         }
        ]
       }
      },
      "text/plain": "<VegaLite 3 object>\n\nIf you see this message, it means the renderer has not been properly enabled\nfor the frontend that you are using. For more information, see\nhttps://altair-viz.github.io/user_guide/troubleshooting.html\n"
     },
     "metadata": {},
     "execution_count": 16
    }
   ],
   "source": [
    "alt.Chart(normalized_health_income).mark_point().encode(\n",
    "    alt.X('income:Q',),\n",
    "    alt.Y('health:Q'),\n",
    "    alt.Size('population:Q'),\n",
    "    alt.Tooltip('country:N')\n",
    ").properties(height=600, width=800)"
   ]
  }
 ]
}